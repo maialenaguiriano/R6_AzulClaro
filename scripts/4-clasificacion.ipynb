{
 "cells": [
  {
   "cell_type": "code",
   "execution_count": 10,
   "id": "4e638287",
   "metadata": {},
   "outputs": [],
   "source": [
    "# Imports necesarios\n",
    "import numpy as np\n",
    "import pandas as pd\n",
    "import seaborn as sb\n",
    "import matplotlib.pyplot as plt\n",
    "import matplotlib.mlab as mlab\n",
    "%matplotlib inline\n",
    "from mpl_toolkits.mplot3d import Axes3D\n",
    "from matplotlib import cm\n",
    "plt.rcParams['figure.figsize'] = (16, 9)\n",
    "plt.style.use('ggplot')\n",
    "from sklearn import linear_model\n",
    "from sklearn.metrics import mean_squared_error, r2_score\n",
    "from sklearn import linear_model\n",
    "from sklearn import model_selection\n",
    "from sklearn.metrics import classification_report\n",
    "from sklearn.metrics import confusion_matrix\n",
    "from sklearn.metrics import accuracy_score\n",
    "from pylab import rcParams\n",
    "from matplotlib.pyplot import figure\n",
    "from sklearn.impute import KNNImputer\n",
    " \n",
    "from imblearn.under_sampling import NearMiss\n",
    "from imblearn.over_sampling import RandomOverSampler\n",
    "from imblearn.combine import SMOTETomek\n",
    "from imblearn.ensemble import BalancedBaggingClassifier\n",
    "\n",
    "from matplotlib import colors\n",
    "from sklearn.feature_selection import SelectKBest\n",
    "\n",
    "from sklearn.metrics import f1_score\n",
    "from sklearn.metrics import roc_auc_score\n",
    "\n",
    "from collections import Counter\n",
    "from sklearn.naive_bayes import GaussianNB\n",
    "\n",
    "from imblearn.under_sampling import NearMiss\n",
    "from imblearn.over_sampling import SMOTE\n",
    "\n",
    "from sklearn.model_selection import train_test_split\n",
    "from sklearn.linear_model import LogisticRegression\n",
    "from sklearn.decomposition import PCA\n",
    "from sklearn.tree import DecisionTreeClassifier"
   ]
  },
  {
   "cell_type": "code",
   "execution_count": 12,
   "id": "7f4ad4e9",
   "metadata": {
    "scrolled": true
   },
   "outputs": [
    {
     "data": {
      "text/html": [
       "<div>\n",
       "<style scoped>\n",
       "    .dataframe tbody tr th:only-of-type {\n",
       "        vertical-align: middle;\n",
       "    }\n",
       "\n",
       "    .dataframe tbody tr th {\n",
       "        vertical-align: top;\n",
       "    }\n",
       "\n",
       "    .dataframe thead th {\n",
       "        text-align: right;\n",
       "    }\n",
       "</style>\n",
       "<table border=\"1\" class=\"dataframe\">\n",
       "  <thead>\n",
       "    <tr style=\"text-align: right;\">\n",
       "      <th></th>\n",
       "      <th>user_id</th>\n",
       "      <th>mdl_user_id</th>\n",
       "      <th>nota_media_curso</th>\n",
       "      <th>num_cursos</th>\n",
       "      <th>num_actividades</th>\n",
       "      <th>nota_media_actividades</th>\n",
       "      <th>num_programas</th>\n",
       "      <th>frecuencia_media_acceso_mensual</th>\n",
       "    </tr>\n",
       "  </thead>\n",
       "  <tbody>\n",
       "    <tr>\n",
       "      <th>0</th>\n",
       "      <td>3.0</td>\n",
       "      <td>13.0</td>\n",
       "      <td>0.666667</td>\n",
       "      <td>15.0</td>\n",
       "      <td>3</td>\n",
       "      <td>10.000000</td>\n",
       "      <td>3</td>\n",
       "      <td>1.000000</td>\n",
       "    </tr>\n",
       "    <tr>\n",
       "      <th>1</th>\n",
       "      <td>4.0</td>\n",
       "      <td>14.0</td>\n",
       "      <td>4.091000</td>\n",
       "      <td>10.0</td>\n",
       "      <td>46</td>\n",
       "      <td>7.882088</td>\n",
       "      <td>3</td>\n",
       "      <td>3.435001</td>\n",
       "    </tr>\n",
       "    <tr>\n",
       "      <th>2</th>\n",
       "      <td>5.0</td>\n",
       "      <td>15.0</td>\n",
       "      <td>2.222222</td>\n",
       "      <td>9.0</td>\n",
       "      <td>44</td>\n",
       "      <td>8.575606</td>\n",
       "      <td>2</td>\n",
       "      <td>3.435001</td>\n",
       "    </tr>\n",
       "    <tr>\n",
       "      <th>3</th>\n",
       "      <td>7.0</td>\n",
       "      <td>18.0</td>\n",
       "      <td>3.858000</td>\n",
       "      <td>5.0</td>\n",
       "      <td>44</td>\n",
       "      <td>8.031091</td>\n",
       "      <td>1</td>\n",
       "      <td>3.435001</td>\n",
       "    </tr>\n",
       "    <tr>\n",
       "      <th>4</th>\n",
       "      <td>8.0</td>\n",
       "      <td>19.0</td>\n",
       "      <td>2.914000</td>\n",
       "      <td>5.0</td>\n",
       "      <td>39</td>\n",
       "      <td>8.286821</td>\n",
       "      <td>1</td>\n",
       "      <td>3.435001</td>\n",
       "    </tr>\n",
       "  </tbody>\n",
       "</table>\n",
       "</div>"
      ],
      "text/plain": [
       "   user_id  mdl_user_id  nota_media_curso  num_cursos  num_actividades  \\\n",
       "0      3.0         13.0          0.666667        15.0                3   \n",
       "1      4.0         14.0          4.091000        10.0               46   \n",
       "2      5.0         15.0          2.222222         9.0               44   \n",
       "3      7.0         18.0          3.858000         5.0               44   \n",
       "4      8.0         19.0          2.914000         5.0               39   \n",
       "\n",
       "   nota_media_actividades  num_programas  frecuencia_media_acceso_mensual  \n",
       "0               10.000000              3                         1.000000  \n",
       "1                7.882088              3                         3.435001  \n",
       "2                8.575606              2                         3.435001  \n",
       "3                8.031091              1                         3.435001  \n",
       "4                8.286821              1                         3.435001  "
      ]
     },
     "execution_count": 12,
     "metadata": {},
     "output_type": "execute_result"
    }
   ],
   "source": [
    "path_dataset1 = '..\\\\datosTransformados\\\\datamining_modelado\\\\'\n",
    "df = pd.read_csv(path_dataset1 + 'datamining_modelados.csv', index_col= [0])\n",
    "df.head()"
   ]
  },
  {
   "cell_type": "markdown",
   "id": "f39337d5",
   "metadata": {},
   "source": [
    "#### FINALIDAD DE ESTE NOTEBOOK "
   ]
  },
  {
   "cell_type": "raw",
   "id": "738d37a0",
   "metadata": {},
   "source": [
    "La finalidad de este notebook es poner en practica lo aprendido en las clases de Data Mining. \n",
    "Es decir, aplicar los modelos de clasificacion que se han ido viendo en clase en este reto. \n",
    "Antes de comenzar, mencionar que los datos ofrecidos por Ederlan no son los mejores datos para hacer los mejores modelos, \n",
    "pero como el objetivo es mostrar lo aprendido en clase se intentara aplicar diferentes algoritmos de clasificacion y ver las diferencias \n",
    "entre ellas.\n",
    "\n",
    "En total se realizaran 5 modelos:\n",
    "    -- 3 modelos de clasificacion: -- (con la finalidad de ver las diferencias y aplicar lo aprendido)\n",
    "            - Naive Bayes\n",
    "            - Regresion logistica\n",
    "            - Modelo con Inbalanced data\n",
    "            \n",
    "    -- 1 modelo de regresion lineal multiple -- (con datos inventados para mostrar a Ederlan que con datos mas enriquecido se puede ofrecer \n",
    "       conseguir cosas mejores para los estudiantes)"
   ]
  },
  {
   "cell_type": "markdown",
   "id": "1482c2fe",
   "metadata": {},
   "source": [
    "#### PREPARACION DE DATOS\n"
   ]
  },
  {
   "cell_type": "raw",
   "id": "1519ecf8",
   "metadata": {},
   "source": [
    "El objetivo va ser clasificar las instancias y predecir a un nuevo usuario si va tener exito en el curso realizado o no. Para ello, se tomara como target la columna nota media curso que se transformara en una columna booleana de si o no. Es decir, para aquellos usuarios en la que la nota media del curso sea mayor que 5, se asignara 1(Exito) y , en caso contrario, las notas medias inferiores a 5 se les asignara un 0(No exito)"
   ]
  },
  {
   "cell_type": "code",
   "execution_count": 13,
   "id": "320e354f",
   "metadata": {},
   "outputs": [
    {
     "name": "stderr",
     "output_type": "stream",
     "text": [
      "<ipython-input-13-8409011fd0dc>:2: SettingWithCopyWarning: \n",
      "A value is trying to be set on a copy of a slice from a DataFrame.\n",
      "Try using .loc[row_indexer,col_indexer] = value instead\n",
      "\n",
      "See the caveats in the documentation: https://pandas.pydata.org/pandas-docs/stable/user_guide/indexing.html#returning-a-view-versus-a-copy\n",
      "  df_exito['resultado']= 1\n",
      "<ipython-input-13-8409011fd0dc>:5: SettingWithCopyWarning: \n",
      "A value is trying to be set on a copy of a slice from a DataFrame.\n",
      "Try using .loc[row_indexer,col_indexer] = value instead\n",
      "\n",
      "See the caveats in the documentation: https://pandas.pydata.org/pandas-docs/stable/user_guide/indexing.html#returning-a-view-versus-a-copy\n",
      "  df_fracaso['resultado']= 0\n"
     ]
    },
    {
     "data": {
      "text/html": [
       "<div>\n",
       "<style scoped>\n",
       "    .dataframe tbody tr th:only-of-type {\n",
       "        vertical-align: middle;\n",
       "    }\n",
       "\n",
       "    .dataframe tbody tr th {\n",
       "        vertical-align: top;\n",
       "    }\n",
       "\n",
       "    .dataframe thead th {\n",
       "        text-align: right;\n",
       "    }\n",
       "</style>\n",
       "<table border=\"1\" class=\"dataframe\">\n",
       "  <thead>\n",
       "    <tr style=\"text-align: right;\">\n",
       "      <th></th>\n",
       "      <th>user_id</th>\n",
       "      <th>mdl_user_id</th>\n",
       "      <th>nota_media_curso</th>\n",
       "      <th>num_cursos</th>\n",
       "      <th>num_actividades</th>\n",
       "      <th>nota_media_actividades</th>\n",
       "      <th>num_programas</th>\n",
       "      <th>frecuencia_media_acceso_mensual</th>\n",
       "      <th>resultado</th>\n",
       "    </tr>\n",
       "  </thead>\n",
       "  <tbody>\n",
       "    <tr>\n",
       "      <th>33</th>\n",
       "      <td>129.0</td>\n",
       "      <td>148.0</td>\n",
       "      <td>5.672857</td>\n",
       "      <td>7.0</td>\n",
       "      <td>3</td>\n",
       "      <td>8.763272</td>\n",
       "      <td>2</td>\n",
       "      <td>6.5</td>\n",
       "      <td>1</td>\n",
       "    </tr>\n",
       "    <tr>\n",
       "      <th>38</th>\n",
       "      <td>152.0</td>\n",
       "      <td>197.0</td>\n",
       "      <td>8.790000</td>\n",
       "      <td>1.0</td>\n",
       "      <td>12</td>\n",
       "      <td>8.789091</td>\n",
       "      <td>1</td>\n",
       "      <td>12.0</td>\n",
       "      <td>1</td>\n",
       "    </tr>\n",
       "    <tr>\n",
       "      <th>39</th>\n",
       "      <td>153.0</td>\n",
       "      <td>198.0</td>\n",
       "      <td>8.890000</td>\n",
       "      <td>1.0</td>\n",
       "      <td>12</td>\n",
       "      <td>8.889091</td>\n",
       "      <td>1</td>\n",
       "      <td>9.5</td>\n",
       "      <td>1</td>\n",
       "    </tr>\n",
       "    <tr>\n",
       "      <th>40</th>\n",
       "      <td>154.0</td>\n",
       "      <td>199.0</td>\n",
       "      <td>9.080000</td>\n",
       "      <td>1.0</td>\n",
       "      <td>12</td>\n",
       "      <td>9.076364</td>\n",
       "      <td>1</td>\n",
       "      <td>11.5</td>\n",
       "      <td>1</td>\n",
       "    </tr>\n",
       "    <tr>\n",
       "      <th>41</th>\n",
       "      <td>155.0</td>\n",
       "      <td>200.0</td>\n",
       "      <td>9.140000</td>\n",
       "      <td>1.0</td>\n",
       "      <td>12</td>\n",
       "      <td>9.138182</td>\n",
       "      <td>1</td>\n",
       "      <td>3.0</td>\n",
       "      <td>1</td>\n",
       "    </tr>\n",
       "    <tr>\n",
       "      <th>...</th>\n",
       "      <td>...</td>\n",
       "      <td>...</td>\n",
       "      <td>...</td>\n",
       "      <td>...</td>\n",
       "      <td>...</td>\n",
       "      <td>...</td>\n",
       "      <td>...</td>\n",
       "      <td>...</td>\n",
       "      <td>...</td>\n",
       "    </tr>\n",
       "    <tr>\n",
       "      <th>168</th>\n",
       "      <td>418.0</td>\n",
       "      <td>439.0</td>\n",
       "      <td>3.097778</td>\n",
       "      <td>18.0</td>\n",
       "      <td>22</td>\n",
       "      <td>9.293333</td>\n",
       "      <td>1</td>\n",
       "      <td>1.0</td>\n",
       "      <td>0</td>\n",
       "    </tr>\n",
       "    <tr>\n",
       "      <th>169</th>\n",
       "      <td>419.0</td>\n",
       "      <td>440.0</td>\n",
       "      <td>3.070000</td>\n",
       "      <td>18.0</td>\n",
       "      <td>22</td>\n",
       "      <td>9.210000</td>\n",
       "      <td>1</td>\n",
       "      <td>1.0</td>\n",
       "      <td>0</td>\n",
       "    </tr>\n",
       "    <tr>\n",
       "      <th>170</th>\n",
       "      <td>420.0</td>\n",
       "      <td>441.0</td>\n",
       "      <td>2.585000</td>\n",
       "      <td>18.0</td>\n",
       "      <td>19</td>\n",
       "      <td>9.306000</td>\n",
       "      <td>1</td>\n",
       "      <td>2.0</td>\n",
       "      <td>0</td>\n",
       "    </tr>\n",
       "    <tr>\n",
       "      <th>171</th>\n",
       "      <td>421.0</td>\n",
       "      <td>442.0</td>\n",
       "      <td>2.754444</td>\n",
       "      <td>18.0</td>\n",
       "      <td>18</td>\n",
       "      <td>9.916000</td>\n",
       "      <td>1</td>\n",
       "      <td>2.0</td>\n",
       "      <td>0</td>\n",
       "    </tr>\n",
       "    <tr>\n",
       "      <th>172</th>\n",
       "      <td>422.0</td>\n",
       "      <td>443.0</td>\n",
       "      <td>3.065000</td>\n",
       "      <td>18.0</td>\n",
       "      <td>22</td>\n",
       "      <td>9.195000</td>\n",
       "      <td>1</td>\n",
       "      <td>2.0</td>\n",
       "      <td>0</td>\n",
       "    </tr>\n",
       "  </tbody>\n",
       "</table>\n",
       "<p>173 rows × 9 columns</p>\n",
       "</div>"
      ],
      "text/plain": [
       "     user_id  mdl_user_id  nota_media_curso  num_cursos  num_actividades  \\\n",
       "33     129.0        148.0          5.672857         7.0                3   \n",
       "38     152.0        197.0          8.790000         1.0               12   \n",
       "39     153.0        198.0          8.890000         1.0               12   \n",
       "40     154.0        199.0          9.080000         1.0               12   \n",
       "41     155.0        200.0          9.140000         1.0               12   \n",
       "..       ...          ...               ...         ...              ...   \n",
       "168    418.0        439.0          3.097778        18.0               22   \n",
       "169    419.0        440.0          3.070000        18.0               22   \n",
       "170    420.0        441.0          2.585000        18.0               19   \n",
       "171    421.0        442.0          2.754444        18.0               18   \n",
       "172    422.0        443.0          3.065000        18.0               22   \n",
       "\n",
       "     nota_media_actividades  num_programas  frecuencia_media_acceso_mensual  \\\n",
       "33                 8.763272              2                              6.5   \n",
       "38                 8.789091              1                             12.0   \n",
       "39                 8.889091              1                              9.5   \n",
       "40                 9.076364              1                             11.5   \n",
       "41                 9.138182              1                              3.0   \n",
       "..                      ...            ...                              ...   \n",
       "168                9.293333              1                              1.0   \n",
       "169                9.210000              1                              1.0   \n",
       "170                9.306000              1                              2.0   \n",
       "171                9.916000              1                              2.0   \n",
       "172                9.195000              1                              2.0   \n",
       "\n",
       "     resultado  \n",
       "33           1  \n",
       "38           1  \n",
       "39           1  \n",
       "40           1  \n",
       "41           1  \n",
       "..         ...  \n",
       "168          0  \n",
       "169          0  \n",
       "170          0  \n",
       "171          0  \n",
       "172          0  \n",
       "\n",
       "[173 rows x 9 columns]"
      ]
     },
     "execution_count": 13,
     "metadata": {},
     "output_type": "execute_result"
    }
   ],
   "source": [
    "df_exito = df[df['nota_media_curso']>=5]\n",
    "df_exito['resultado']= 1\n",
    "\n",
    "df_fracaso = df[df['nota_media_curso']<5]\n",
    "df_fracaso['resultado']= 0\n",
    "\n",
    "data = df_exito.append(df_fracaso)\n",
    "data"
   ]
  },
  {
   "cell_type": "markdown",
   "id": "8fd833ba",
   "metadata": {},
   "source": [
    "#### VISUALIZACION DE DATOS"
   ]
  },
  {
   "cell_type": "raw",
   "id": "af305a8e",
   "metadata": {},
   "source": [
    "Veamos qué cantidad de muestras de comprar o alquilar tenemos:"
   ]
  },
  {
   "cell_type": "code",
   "execution_count": 14,
   "id": "4c2f7c0e",
   "metadata": {},
   "outputs": [
    {
     "data": {
      "text/plain": [
       "resultado\n",
       "0    129\n",
       "1     44\n",
       "dtype: int64"
      ]
     },
     "execution_count": 14,
     "metadata": {},
     "output_type": "execute_result"
    }
   ],
   "source": [
    "data.groupby('resultado').size()\n",
    "#Esto son 129 de los alumnos no han tenido exito y 44si"
   ]
  },
  {
   "cell_type": "code",
   "execution_count": 15,
   "id": "15c571b7",
   "metadata": {},
   "outputs": [
    {
     "data": {
      "image/png": "[encoded data removed]",
      "text/plain": [
       "<Figure size 1152x648 with 9 Axes>"
      ]
     },
     "metadata": {},
     "output_type": "display_data"
    }
   ],
   "source": [
    "data.drop(['resultado'], axis=1).hist()\n",
    "plt.show()"
   ]
  },
  {
   "cell_type": "markdown",
   "id": "0061179d",
   "metadata": {},
   "source": [
    "# NAIVE BAYES"
   ]
  },
  {
   "cell_type": "markdown",
   "id": "82a36716",
   "metadata": {},
   "source": [
    "#### SELECCION DE COLUMNAS\n"
   ]
  },
  {
   "cell_type": "raw",
   "id": "63cfd078",
   "metadata": {},
   "source": [
    "En este ejercicio haremos Feature Selection para mejorar nuestros resultados con este algoritmo. En vez de utilizar las 7 columnas de datos de entrada que tenemos, vamos a utilizar una Clase de SkLearn llamada SelectKBest con la que seleccionaremos las 6 mejores características y usaremos solo esas. Esto con el fin de clasificar de la manera mas eficiente"
   ]
  },
  {
   "cell_type": "code",
   "execution_count": 16,
   "id": "f62deebc",
   "metadata": {},
   "outputs": [
    {
     "name": "stdout",
     "output_type": "stream",
     "text": [
      "Index(['nota_media_curso', 'num_cursos', 'num_actividades',\n",
      "       'nota_media_actividades', 'num_programas',\n",
      "       'frecuencia_media_acceso_mensual'],\n",
      "      dtype='object')\n"
     ]
    }
   ],
   "source": [
    "X=data.drop(['resultado'], axis=1)\n",
    "y=data['resultado']\n",
    "\n",
    "best=SelectKBest(k=6)\n",
    "X_new = best.fit_transform(X, y)\n",
    "X_new.shape\n",
    "selected = best.get_support(indices=True)\n",
    "print(X.columns[selected])"
   ]
  },
  {
   "cell_type": "code",
   "execution_count": 17,
   "id": "c540205b",
   "metadata": {},
   "outputs": [
    {
     "data": {
      "text/plain": [
       "<matplotlib.axes._subplots.AxesSubplot at 0x1b1444fa4c0>"
      ]
     },
     "execution_count": 17,
     "metadata": {},
     "output_type": "execute_result"
    },
    {
     "data": {
      "image/png": "[encoded data removed]",
      "text/plain": [
       "<Figure size 864x864 with 2 Axes>"
      ]
     },
     "metadata": {},
     "output_type": "display_data"
    }
   ],
   "source": [
    "#Correlacion de las columnas seleccionadas para la clasificacion\n",
    "used_features =X.columns[selected]\n",
    "\n",
    "colormap = plt.cm.viridis\n",
    "plt.figure(figsize=(12,12))\n",
    "plt.title('Pearson Correlation of Features', y=1.05, size=15)\n",
    "sb.heatmap(data[used_features].astype(float).corr(),linewidths=0.1,vmax=1.0, square=True, cmap=colormap, linecolor='white', annot=True)"
   ]
  },
  {
   "cell_type": "raw",
   "id": "ca8dd4b6",
   "metadata": {},
   "source": [
    "Con esto comprobamos que en general estan poco correlacionadas, los valores mas altos llegan al 0.44. \n",
    "Esperemos que el algoritmo sea lo suficientemente “naive” para dar buenos resultados"
   ]
  },
  {
   "cell_type": "markdown",
   "id": "4014b085",
   "metadata": {},
   "source": [
    "#### CREACION MODELO NB"
   ]
  },
  {
   "cell_type": "code",
   "execution_count": 18,
   "id": "c672f40b",
   "metadata": {},
   "outputs": [],
   "source": [
    "# Primero se dividen los datos en entrenamiento y test.\n",
    "\n",
    "X_train, X_test = train_test_split(data, test_size=0.2, random_state=6) \n",
    "y_train =X_train[\"resultado\"]\n",
    "y_test = X_test[\"resultado\"]"
   ]
  },
  {
   "cell_type": "code",
   "execution_count": 19,
   "id": "f9d4ac3a",
   "metadata": {},
   "outputs": [],
   "source": [
    "#Se crea el modelo, lo ponemos a aprender con fit() y se obtienen predicciones sobre el conjunto de test.\n",
    "\n",
    "# Instanciar el clasificador\n",
    "gnb = GaussianNB()\n",
    "# Entrenar el clasificador\n",
    "gnb.fit(\n",
    "    X_train[used_features].values,\n",
    "    y_train\n",
    ")\n",
    "y_pred = gnb.predict(X_test[used_features])\n"
   ]
  },
  {
   "cell_type": "markdown",
   "id": "cc167cbf",
   "metadata": {},
   "source": [
    "#### VALIDACION RESULTADOS"
   ]
  },
  {
   "cell_type": "raw",
   "id": "1c39e427",
   "metadata": {},
   "source": [
    "Con el modelo realizado, es importante mirar como ha ido el modelo. Este proceso se puede realizar mediante diversas formas, \n",
    "pero en este caso se va a mostar la matriz de confusion y la precision del test o el accuracy."
   ]
  },
  {
   "cell_type": "code",
   "execution_count": 20,
   "id": "9e2fd7c7",
   "metadata": {},
   "outputs": [
    {
     "name": "stdout",
     "output_type": "stream",
     "text": [
      "Precisión en el set de Entrenamiento: 0.99\n",
      "Precisión en el set de Test: 0.97\n"
     ]
    }
   ],
   "source": [
    "print('Precisión en el set de Entrenamiento: {:.2f}'\n",
    "     .format(gnb.score(X_train[used_features], y_train)))\n",
    "print('Precisión en el set de Test: {:.2f}'\n",
    "     .format(gnb.score(X_test[used_features], y_test)))"
   ]
  },
  {
   "cell_type": "code",
   "execution_count": 21,
   "id": "66dbe08b",
   "metadata": {},
   "outputs": [
    {
     "name": "stdout",
     "output_type": "stream",
     "text": [
      "              precision    recall  f1-score   support\n",
      "\n",
      "           0       0.96      1.00      0.98        26\n",
      "           1       1.00      0.89      0.94         9\n",
      "\n",
      "    accuracy                           0.97        35\n",
      "   macro avg       0.98      0.94      0.96        35\n",
      "weighted avg       0.97      0.97      0.97        35\n",
      "\n"
     ]
    }
   ],
   "source": [
    "#Se observa el reporte de clasificación con nuestro conjunto de Validación.\n",
    "print(classification_report(y_test, y_pred))"
   ]
  },
  {
   "cell_type": "code",
   "execution_count": 22,
   "id": "f3ee0c85",
   "metadata": {},
   "outputs": [
    {
     "name": "stdout",
     "output_type": "stream",
     "text": [
      "[[26  0]\n",
      " [ 1  8]]\n",
      "0.9714285714285714\n"
     ]
    }
   ],
   "source": [
    "cm = confusion_matrix(y_test, y_pred)\n",
    "ac = accuracy_score(y_test,y_pred)\n",
    "print(cm)\n",
    "print(ac)"
   ]
  },
  {
   "cell_type": "raw",
   "id": "088386aa",
   "metadata": {},
   "source": [
    "Pues se ha obtenido un bonito 97% de aciertos en el conjunto de Test con el clasificador bayesiano. \n",
    "Ahora se va a probar el modelo con nuevas intanscias"
   ]
  },
  {
   "cell_type": "markdown",
   "id": "6dbf6518",
   "metadata": {},
   "source": [
    "#### PRUEBA DEL MODELO: ¿EXITO o FRACASO?\n",
    " "
   ]
  },
  {
   "cell_type": "raw",
   "id": "e581cdce",
   "metadata": {},
   "source": [
    "Ahora, se haran 2 predicciones para probar el modelo:\n",
    "\n",
    "- En un caso sera un usuario que ha realizado 30 cursos con una nota media de 5. \n",
    "  Durante los cursos el numero de actividades realizados han sido 20 con una nota media de 6.\n",
    "\n",
    "- EL otro caso sera un usuario que ha realizado 10 cursos con una nota media de 7. \n",
    "  Durante los cursos el numero de actividades realizados han sido 28 con una nota media de 6."
   ]
  },
  {
   "cell_type": "code",
   "execution_count": 23,
   "id": "361e9747",
   "metadata": {
    "scrolled": true
   },
   "outputs": [
    {
     "name": "stdout",
     "output_type": "stream",
     "text": [
      "[0 0]\n"
     ]
    }
   ],
   "source": [
    "#                ['nota_media_curso','num_cursos','num_actividades','nota_media_actividades',''num_programas','frecuencia_media_acceso_mensual'']\n",
    "print(gnb.predict([[5,                    30,                 20,                    6,             5,              10],\n",
    "                   [7,                    10,                 28,                    6,             3,               8]]))\n",
    "#Resultado esperado 0-Fracaso, 1-Exito"
   ]
  },
  {
   "cell_type": "markdown",
   "id": "da81ec74",
   "metadata": {},
   "source": [
    "#  REGRESION LOGISTICA "
   ]
  },
  {
   "cell_type": "raw",
   "id": "98d7ea4f",
   "metadata": {},
   "source": [
    "Como se ha mencionado al principio, se van a realizar diversos algoritmos de clasificacion para ver cual funciona mejor con el dataset que tenemos. Por lo tanto, ahora se va a proceder a realizar la regresion logistica con los mismo datos."
   ]
  },
  {
   "cell_type": "code",
   "execution_count": 24,
   "id": "a308aa1b",
   "metadata": {},
   "outputs": [
    {
     "data": {
      "text/html": [
       "<div>\n",
       "<style scoped>\n",
       "    .dataframe tbody tr th:only-of-type {\n",
       "        vertical-align: middle;\n",
       "    }\n",
       "\n",
       "    .dataframe tbody tr th {\n",
       "        vertical-align: top;\n",
       "    }\n",
       "\n",
       "    .dataframe thead th {\n",
       "        text-align: right;\n",
       "    }\n",
       "</style>\n",
       "<table border=\"1\" class=\"dataframe\">\n",
       "  <thead>\n",
       "    <tr style=\"text-align: right;\">\n",
       "      <th></th>\n",
       "      <th>user_id</th>\n",
       "      <th>mdl_user_id</th>\n",
       "      <th>nota_media_curso</th>\n",
       "      <th>num_cursos</th>\n",
       "      <th>num_actividades</th>\n",
       "      <th>nota_media_actividades</th>\n",
       "      <th>num_programas</th>\n",
       "      <th>frecuencia_media_acceso_mensual</th>\n",
       "      <th>resultado</th>\n",
       "    </tr>\n",
       "  </thead>\n",
       "  <tbody>\n",
       "    <tr>\n",
       "      <th>33</th>\n",
       "      <td>129.0</td>\n",
       "      <td>148.0</td>\n",
       "      <td>5.672857</td>\n",
       "      <td>7.0</td>\n",
       "      <td>3</td>\n",
       "      <td>8.763272</td>\n",
       "      <td>2</td>\n",
       "      <td>6.5</td>\n",
       "      <td>1</td>\n",
       "    </tr>\n",
       "    <tr>\n",
       "      <th>38</th>\n",
       "      <td>152.0</td>\n",
       "      <td>197.0</td>\n",
       "      <td>8.790000</td>\n",
       "      <td>1.0</td>\n",
       "      <td>12</td>\n",
       "      <td>8.789091</td>\n",
       "      <td>1</td>\n",
       "      <td>12.0</td>\n",
       "      <td>1</td>\n",
       "    </tr>\n",
       "    <tr>\n",
       "      <th>39</th>\n",
       "      <td>153.0</td>\n",
       "      <td>198.0</td>\n",
       "      <td>8.890000</td>\n",
       "      <td>1.0</td>\n",
       "      <td>12</td>\n",
       "      <td>8.889091</td>\n",
       "      <td>1</td>\n",
       "      <td>9.5</td>\n",
       "      <td>1</td>\n",
       "    </tr>\n",
       "    <tr>\n",
       "      <th>40</th>\n",
       "      <td>154.0</td>\n",
       "      <td>199.0</td>\n",
       "      <td>9.080000</td>\n",
       "      <td>1.0</td>\n",
       "      <td>12</td>\n",
       "      <td>9.076364</td>\n",
       "      <td>1</td>\n",
       "      <td>11.5</td>\n",
       "      <td>1</td>\n",
       "    </tr>\n",
       "    <tr>\n",
       "      <th>41</th>\n",
       "      <td>155.0</td>\n",
       "      <td>200.0</td>\n",
       "      <td>9.140000</td>\n",
       "      <td>1.0</td>\n",
       "      <td>12</td>\n",
       "      <td>9.138182</td>\n",
       "      <td>1</td>\n",
       "      <td>3.0</td>\n",
       "      <td>1</td>\n",
       "    </tr>\n",
       "  </tbody>\n",
       "</table>\n",
       "</div>"
      ],
      "text/plain": [
       "    user_id  mdl_user_id  nota_media_curso  num_cursos  num_actividades  \\\n",
       "33    129.0        148.0          5.672857         7.0                3   \n",
       "38    152.0        197.0          8.790000         1.0               12   \n",
       "39    153.0        198.0          8.890000         1.0               12   \n",
       "40    154.0        199.0          9.080000         1.0               12   \n",
       "41    155.0        200.0          9.140000         1.0               12   \n",
       "\n",
       "    nota_media_actividades  num_programas  frecuencia_media_acceso_mensual  \\\n",
       "33                8.763272              2                              6.5   \n",
       "38                8.789091              1                             12.0   \n",
       "39                8.889091              1                              9.5   \n",
       "40                9.076364              1                             11.5   \n",
       "41                9.138182              1                              3.0   \n",
       "\n",
       "    resultado  \n",
       "33          1  \n",
       "38          1  \n",
       "39          1  \n",
       "40          1  \n",
       "41          1  "
      ]
     },
     "execution_count": 24,
     "metadata": {},
     "output_type": "execute_result"
    }
   ],
   "source": [
    "#Observar el dataset que se va a utilizar\n",
    "data.head()"
   ]
  },
  {
   "cell_type": "markdown",
   "id": "aea8798c",
   "metadata": {},
   "source": [
    "#### VISUALIZACION "
   ]
  },
  {
   "cell_type": "code",
   "execution_count": 25,
   "id": "ac4319d5",
   "metadata": {},
   "outputs": [
    {
     "data": {
      "text/plain": [
       "resultado\n",
       "0    129\n",
       "1     44\n",
       "dtype: int64"
      ]
     },
     "execution_count": 25,
     "metadata": {},
     "output_type": "execute_result"
    }
   ],
   "source": [
    "# Veamos qué cantidad de muestras de comprar o alquilar tenemos:\n",
    "data.groupby('resultado').size()\n",
    "#Esto son 129 de los alumnos no han tenido exito y 44si"
   ]
  },
  {
   "cell_type": "code",
   "execution_count": 26,
   "id": "94a689ab",
   "metadata": {},
   "outputs": [
    {
     "data": {
      "image/png": "[encoded data removed]",
      "text/plain": [
       "<Figure size 1152x648 with 9 Axes>"
      ]
     },
     "metadata": {},
     "output_type": "display_data"
    }
   ],
   "source": [
    "data.drop(['resultado'],1).hist()\n",
    "plt.show()"
   ]
  },
  {
   "cell_type": "markdown",
   "id": "4b649cb7",
   "metadata": {},
   "source": [
    "#### CREACION MODELO REGRESION LOGISTICA"
   ]
  },
  {
   "cell_type": "raw",
   "id": "278db0fe",
   "metadata": {},
   "source": [
    "Ahora se cargan las variables de las 4 columnas de entrada en X excluyendo la columna “clase” con el metodo drop(). \n",
    "En cambio agregamos la columna “clase” en la variable y. Ejecutamos X.shape para comprobar la dimensión de nuestra matriz con \n",
    "datos de entrada de 173 registros por 4 columnas."
   ]
  },
  {
   "cell_type": "code",
   "execution_count": 27,
   "id": "5f322eed",
   "metadata": {},
   "outputs": [],
   "source": [
    "X=data.drop(['resultado'], axis=1)\n",
    "Y=data.resultado"
   ]
  },
  {
   "cell_type": "code",
   "execution_count": 28,
   "id": "b0c2eb03",
   "metadata": {},
   "outputs": [
    {
     "name": "stderr",
     "output_type": "stream",
     "text": [
      "C:\\ProgramData\\Anaconda3\\lib\\site-packages\\sklearn\\linear_model\\_logistic.py:762: ConvergenceWarning: lbfgs failed to converge (status=1):\n",
      "STOP: TOTAL NO. of ITERATIONS REACHED LIMIT.\n",
      "\n",
      "Increase the number of iterations (max_iter) or scale the data as shown in:\n",
      "    https://scikit-learn.org/stable/modules/preprocessing.html\n",
      "Please also refer to the documentation for alternative solver options:\n",
      "    https://scikit-learn.org/stable/modules/linear_model.html#logistic-regression\n",
      "  n_iter_i = _check_optimize_result(\n"
     ]
    }
   ],
   "source": [
    "model = LogisticRegression()\n",
    "\n",
    "#Entreno el modelo\n",
    "model.fit(X, Y)\n",
    "\n",
    "#Realizo una predicción\n",
    "predict = model.predict(X)\n"
   ]
  },
  {
   "cell_type": "code",
   "execution_count": 29,
   "id": "fd713b84",
   "metadata": {},
   "outputs": [
    {
     "data": {
      "text/plain": [
       "array([1, 1, 1, 1, 1, 1, 1, 1, 1, 1, 1, 1, 1, 1, 1, 1, 1, 1, 1, 1, 1, 1,\n",
       "       1, 1, 1, 1, 1, 1, 1, 1, 1, 1, 1, 0, 1, 1, 1, 1, 1, 1, 1, 1, 1, 1,\n",
       "       0, 0, 0, 0, 0, 0, 0, 0, 0, 0, 0, 0, 0, 0, 0, 0, 0, 0, 0, 0, 0, 0,\n",
       "       0, 0, 0, 0, 0, 0, 0, 0, 0, 0, 0, 0, 0, 0, 0, 0, 0, 0, 0, 0, 0, 0,\n",
       "       0, 0, 0, 0, 0, 0, 0, 0, 0, 0, 0, 0, 0, 0, 0, 0, 0, 0, 0, 0, 0, 0,\n",
       "       0, 0, 0, 0, 0, 0, 0, 0, 0, 0, 0, 0, 0, 0, 0, 0, 0, 0, 0, 0, 0, 0,\n",
       "       0, 0, 0, 0, 0, 0, 0, 0, 0, 0, 0, 0, 0, 0, 0, 0, 0, 0, 0, 0, 0, 0,\n",
       "       0, 0, 0, 0, 0, 0, 0, 0, 0, 0, 0, 0, 0, 0, 0, 0, 0, 0, 0],\n",
       "      dtype=int64)"
      ]
     },
     "execution_count": 29,
     "metadata": {},
     "output_type": "execute_result"
    }
   ],
   "source": [
    "#Una vez compilado nuestro modelo, le hacemos clasificar todo nuestro conjunto de entradas X utilizando el método \n",
    "#“predict(X)” y revisamos algunas de sus salidas y vemos que coincide con las salidas reales de nuestro archivo csv.\n",
    "predictions = model.predict(X)\n",
    "predictions"
   ]
  },
  {
   "cell_type": "code",
   "execution_count": 21,
   "id": "bbe186e8",
   "metadata": {},
   "outputs": [
    {
     "data": {
      "text/plain": [
       "0.9942196531791907"
      ]
     },
     "execution_count": 21,
     "metadata": {},
     "output_type": "execute_result"
    }
   ],
   "source": [
    "model.score(X,y)\n",
    "#Se obtiene un score de 99%, sin embargo no se han dividio los datos en test y train. Por lo que en la validacion,\n",
    "#para que el modelo sea real, se dividiran los datos"
   ]
  },
  {
   "cell_type": "markdown",
   "id": "f551efe2",
   "metadata": {},
   "source": [
    "#### VALIDACION "
   ]
  },
  {
   "cell_type": "raw",
   "id": "390d72cf",
   "metadata": {},
   "source": [
    "Una buena práctica en Machine Learning es la de subdividir nuestro conjunto de datos de entrada en un set de entrenamiento y otro \n",
    "para validar el modelo (que no se utiliza durante el entrenamiento y por lo tanto la máquina desconoce). Esto evitará problemas en los que \n",
    "nuestro algoritmo pueda fallar por “sobregeneralizar” el conocimiento.\n",
    "\n",
    "Para ello, subdividimos nuestros datos de entrada en forma aleatoria (mezclados) utilizando 80% de registros para entrenamiento y 20% para validar."
   ]
  },
  {
   "cell_type": "code",
   "execution_count": 30,
   "id": "634e88b3",
   "metadata": {},
   "outputs": [],
   "source": [
    "validation_size = 0.20\n",
    "seed = 7\n",
    "X_train, X_test, Y_train, Y_test = model_selection.train_test_split(X, Y, test_size=validation_size, random_state=seed)"
   ]
  },
  {
   "cell_type": "raw",
   "id": "6c4f3292",
   "metadata": {},
   "source": [
    "Y ahora hacemos las predicciones -en realidad clasificación- utilizando nuestro “cross validation set”, es decir del subconjunto \n",
    "que habíamos apartado. En este caso vemos que los aciertos fueron del 97% pero hay que tener en cuenta que el tamaño de datos era pequeño."
   ]
  },
  {
   "cell_type": "code",
   "execution_count": 31,
   "id": "d319ff78",
   "metadata": {
    "scrolled": true
   },
   "outputs": [
    {
     "name": "stdout",
     "output_type": "stream",
     "text": [
      "1.0\n"
     ]
    }
   ],
   "source": [
    "predictions = model.predict(X_test)\n",
    "print(accuracy_score(Y_test, predictions))"
   ]
  },
  {
   "cell_type": "code",
   "execution_count": 32,
   "id": "85b0d0f5",
   "metadata": {
    "scrolled": true
   },
   "outputs": [
    {
     "name": "stdout",
     "output_type": "stream",
     "text": [
      "Matriz de Confusión:\n",
      "[[31  0]\n",
      " [ 0  4]]\n"
     ]
    }
   ],
   "source": [
    "matriz = confusion_matrix(Y_test, predictions)\n",
    "print('Matriz de Confusión:')\n",
    "print(matriz)"
   ]
  },
  {
   "cell_type": "code",
   "execution_count": 33,
   "id": "d79cc749",
   "metadata": {},
   "outputs": [
    {
     "name": "stdout",
     "output_type": "stream",
     "text": [
      "              precision    recall  f1-score   support\n",
      "\n",
      "           0       1.00      1.00      1.00        31\n",
      "           1       1.00      1.00      1.00         4\n",
      "\n",
      "    accuracy                           1.00        35\n",
      "   macro avg       1.00      1.00      1.00        35\n",
      "weighted avg       1.00      1.00      1.00        35\n",
      "\n"
     ]
    }
   ],
   "source": [
    "#Se observa el reporte de clasificación con nuestro conjunto de Validación.\n",
    "print(classification_report(Y_test, predictions))"
   ]
  },
  {
   "cell_type": "code",
   "execution_count": 34,
   "id": "93f82950",
   "metadata": {},
   "outputs": [
    {
     "name": "stdout",
     "output_type": "stream",
     "text": [
      "Puntaje F1 del modelo:\n",
      "1.0\n"
     ]
    }
   ],
   "source": [
    "#Calculo el Puntaje F1 del modelo\n",
    "puntajef1 = f1_score(Y_test, predictions)\n",
    "print('Puntaje F1 del modelo:')\n",
    "print(puntajef1)"
   ]
  },
  {
   "cell_type": "code",
   "execution_count": 35,
   "id": "3f26ba07",
   "metadata": {},
   "outputs": [
    {
     "name": "stdout",
     "output_type": "stream",
     "text": [
      "Curva ROC - AUC del modelo:\n",
      "1.0\n"
     ]
    }
   ],
   "source": [
    "#Calculo la curva ROC - AUC del modelo\n",
    "roc_auc = roc_auc_score(Y_test, predictions)\n",
    "print('Curva ROC - AUC del modelo:')\n",
    "print(roc_auc)"
   ]
  },
  {
   "cell_type": "markdown",
   "id": "6eda4ab3",
   "metadata": {},
   "source": [
    "#### PRUEBA DEL MODELO: ¿EXITO o FRACASO?\n"
   ]
  },
  {
   "cell_type": "code",
   "execution_count": 36,
   "id": "bdffde83",
   "metadata": {},
   "outputs": [
    {
     "name": "stdout",
     "output_type": "stream",
     "text": [
      "[0 0]\n"
     ]
    }
   ],
   "source": [
    "#                ['user_id','mdl_user_id',nota_media_curso','num_cursos','num_actividades','nota_media_actividades',''num_programas','frecuencia_media_acceso_mensual'']\n",
    "print(model.predict([[200,        500,         5,             30,                 20,                    6,             5,              10],\n",
    "                   [201,          501,         6,               10,                 28,                    6,             3,               8]]))\n",
    "#Resultado esperado 0-Fracaso, 1-Exito"
   ]
  },
  {
   "cell_type": "code",
   "execution_count": 37,
   "id": "a2755b11",
   "metadata": {},
   "outputs": [],
   "source": [
    "#Mencionar que los datos insertados son los mismos que se han insertado en el modelo Naive Bayes y las predicciones son iguales. \n",
    "#Fracaso para los dos usuarios."
   ]
  },
  {
   "cell_type": "markdown",
   "id": "002f8721",
   "metadata": {},
   "source": [
    "# BALANCEO DE DATOS "
   ]
  },
  {
   "cell_type": "markdown",
   "id": "5513962d",
   "metadata": {},
   "source": [
    "##### PERO... "
   ]
  },
  {
   "cell_type": "raw",
   "id": "53b9f919",
   "metadata": {},
   "source": [
    "A la hora de realizar un modelo, en este caso los dos modelos realizados son de clasificacion, es importante mirar la distribucion de los datos y ver si los datos estan balanceados. Un desbalanceo de los datos puede hacer que el modelo muestre una falsa sensación de que el modelo funciona bien.\n",
    "\n",
    "Por dicho motivo, se va a realizar este balanceo de datos en los datos utilizados en Naie Bayes y la regresion logistica para ver si existe alguna diferencia."
   ]
  },
  {
   "cell_type": "code",
   "execution_count": 38,
   "id": "ee8bd354",
   "metadata": {
    "scrolled": true
   },
   "outputs": [
    {
     "name": "stdout",
     "output_type": "stream",
     "text": [
      "(173, 9)\n",
      "0    129\n",
      "1     44\n",
      "Name: resultado, dtype: int64\n"
     ]
    }
   ],
   "source": [
    "#Veamos de cuantas filas tenemos y cuantas hay de cada clase:\n",
    "\n",
    "print(data.shape)\n",
    "print(pd.value_counts(data['resultado'], sort = True))"
   ]
  },
  {
   "cell_type": "code",
   "execution_count": 39,
   "id": "92a7d69c",
   "metadata": {},
   "outputs": [
    {
     "name": "stdout",
     "output_type": "stream",
     "text": [
      "The imbalance is 0.2543352601156069 to 1.\n"
     ]
    }
   ],
   "source": [
    "target_labels = np.unique(data[\"resultado\"])\n",
    "c_train = Counter(data[\"resultado\"])\n",
    "c_train\n",
    "\n",
    "imb_rate = 44 / 173\n",
    "print(\"The imbalance is \" + str(imb_rate) + \" to 1.\")"
   ]
  },
  {
   "cell_type": "raw",
   "id": "c70841d1",
   "metadata": {},
   "source": [
    "Vemos que son 173 filas y solamente 44 son la clase minoritaria con los casos de exito. Representan el 25% de las muestras.\n",
    "Para algunos el 25% puede parecerles una clase minoritaria y decir que los datos estan desbalanceados. Sin embargo, para otros un 25% no les indica un desbalancedo en el dataset.\n",
    "\n",
    "De todos modos, para ver como se puede aplicar este balanceo de datos para la clasficiacion de datos y para observar diferencias con respecto a los dos modelos anteriores, se va a proceder a clasificar con datos balanceados."
   ]
  },
  {
   "cell_type": "code",
   "execution_count": 40,
   "id": "a3647f00",
   "metadata": {},
   "outputs": [
    {
     "data": {
      "image/png": "[encoded data removed]",
      "text/plain": [
       "<Figure size 1152x648 with 1 Axes>"
      ]
     },
     "metadata": {},
     "output_type": "display_data"
    }
   ],
   "source": [
    "count_classes = pd.value_counts(data['resultado'], sort = True)\n",
    "count_classes.plot(kind = 'bar', rot=0)\n",
    "plt.title(\"Frecuencia por exito en cursos\")\n",
    "plt.xlabel(\"Clase\")\n",
    "plt.ylabel(\"Numero de observaciones\");"
   ]
  },
  {
   "cell_type": "markdown",
   "id": "b2d4f6cd",
   "metadata": {},
   "source": [
    "#### BALANCEO DE DATOS "
   ]
  },
  {
   "cell_type": "raw",
   "id": "3b3c0b80",
   "metadata": {},
   "source": [
    "Existen diversos metodos para el balanceo de datos. En este caso, se opta por el Ajuste de Parametros del modelo.\n",
    "\n",
    "Este ajuste consiste en ajustar parametros o metricas del propio algoritmo para intentar equilibrar a la clase minoritaria penalizando a la clase mayoritaria durante el entrenamiento.\n",
    "\n",
    "Existen varias tecnicas para  balancear los datos. Sin embargo, se utilizaran las que se han impartido en clase:\n",
    "        - Undersampling en la clase mayoritaria (Near Miss)\n",
    "        - Estrategia oversampling clase minoritaria\n"
   ]
  },
  {
   "cell_type": "markdown",
   "id": "ed79ac68",
   "metadata": {},
   "source": [
    "#### Estrategia oversampling clase minoritaria (SMOTE)\n",
    " "
   ]
  },
  {
   "cell_type": "code",
   "execution_count": 41,
   "id": "ed1b6095",
   "metadata": {},
   "outputs": [
    {
     "name": "stdout",
     "output_type": "stream",
     "text": [
      "Antes del OverSampling, numero de label '1': 40\n",
      "Antes del OverSampling, numero de label '0': 98 \n",
      "\n",
      "Despues de OverSampling, numero de label'1': 98\n",
      "Despues de OverSampling, numero de label '0': 98\n"
     ]
    }
   ],
   "source": [
    "#Estrategia oversampling clase minoritaria\n",
    "print(\"Antes del OverSampling, numero de label '1': {}\".format(sum(Y_train == 1)))\n",
    "print(\"Antes del OverSampling, numero de label '0': {} \\n\".format(sum(Y_train == 0)))\n",
    "\n",
    "sm = SMOTE(random_state = 2)\n",
    "X_train_res, y_train_res = sm.fit_resample(X_train, Y_train.ravel())\n",
    "  \n",
    "print(\"Despues de OverSampling, numero de label'1': {}\".format(sum(y_train_res == 1)))\n",
    "print(\"Despues de OverSampling, numero de label '0': {}\".format(sum(y_train_res == 0)))"
   ]
  },
  {
   "cell_type": "code",
   "execution_count": 42,
   "id": "9a1c09f0",
   "metadata": {},
   "outputs": [
    {
     "name": "stdout",
     "output_type": "stream",
     "text": [
      "              precision    recall  f1-score   support\n",
      "\n",
      "           0       1.00      1.00      1.00        31\n",
      "           1       1.00      1.00      1.00         4\n",
      "\n",
      "    accuracy                           1.00        35\n",
      "   macro avg       1.00      1.00      1.00        35\n",
      "weighted avg       1.00      1.00      1.00        35\n",
      "\n",
      "1.0\n"
     ]
    },
    {
     "name": "stderr",
     "output_type": "stream",
     "text": [
      "C:\\ProgramData\\Anaconda3\\lib\\site-packages\\sklearn\\linear_model\\_logistic.py:762: ConvergenceWarning: lbfgs failed to converge (status=1):\n",
      "STOP: TOTAL NO. of ITERATIONS REACHED LIMIT.\n",
      "\n",
      "Increase the number of iterations (max_iter) or scale the data as shown in:\n",
      "    https://scikit-learn.org/stable/modules/preprocessing.html\n",
      "Please also refer to the documentation for alternative solver options:\n",
      "    https://scikit-learn.org/stable/modules/linear_model.html#logistic-regression\n",
      "  n_iter_i = _check_optimize_result(\n"
     ]
    }
   ],
   "source": [
    "lr1 = LogisticRegression()\n",
    "lr1.fit(X_train_res, y_train_res.ravel())\n",
    "predictions = lr1.predict(X_test)\n",
    "  \n",
    "# print classification report\n",
    "print(classification_report(Y_test, predictions))\n",
    "#print accuracy\n",
    "print(accuracy_score(Y_test,predictions))"
   ]
  },
  {
   "cell_type": "markdown",
   "id": "b0bb119b",
   "metadata": {},
   "source": [
    "#### Undersampling en la clase mayoritaria (NEAR MISS)\n",
    "\n",
    " "
   ]
  },
  {
   "cell_type": "code",
   "execution_count": 43,
   "id": "bfdcb5f6",
   "metadata": {},
   "outputs": [
    {
     "name": "stdout",
     "output_type": "stream",
     "text": [
      "Before Undersampling, counts of label '1': 40\n",
      "Before Undersampling, counts of label '0': 98 \n",
      "\n",
      "After Undersampling, counts of label '1': 35\n",
      "After Undersampling, counts of label '0': 35\n"
     ]
    }
   ],
   "source": [
    "#Undersampling en la clase mayoritaria (NEAR MISS)\n",
    "\n",
    "print(\"Before Undersampling, counts of label '1': {}\".format(sum(Y_train == 1)))\n",
    "print(\"Before Undersampling, counts of label '0': {} \\n\".format(sum(Y_train == 0)))\n",
    "  \n",
    "# apply near miss\n",
    "nr = NearMiss()\n",
    "  \n",
    "X_train_miss, y_train_miss = nr.fit_resample(X_train, y_train.ravel())\n",
    "  \n",
    "print(\"After Undersampling, counts of label '1': {}\".format(sum(y_train_miss == 1)))\n",
    "print(\"After Undersampling, counts of label '0': {}\".format(sum(y_train_miss == 0)))"
   ]
  },
  {
   "cell_type": "code",
   "execution_count": 44,
   "id": "6b0ac226",
   "metadata": {},
   "outputs": [
    {
     "name": "stdout",
     "output_type": "stream",
     "text": [
      "              precision    recall  f1-score   support\n",
      "\n",
      "           0       0.93      0.45      0.61        31\n",
      "           1       0.15      0.75      0.25         4\n",
      "\n",
      "    accuracy                           0.49        35\n",
      "   macro avg       0.54      0.60      0.43        35\n",
      "weighted avg       0.84      0.49      0.57        35\n",
      "\n",
      "0.4857142857142857\n"
     ]
    },
    {
     "name": "stderr",
     "output_type": "stream",
     "text": [
      "C:\\ProgramData\\Anaconda3\\lib\\site-packages\\sklearn\\linear_model\\_logistic.py:762: ConvergenceWarning: lbfgs failed to converge (status=1):\n",
      "STOP: TOTAL NO. of ITERATIONS REACHED LIMIT.\n",
      "\n",
      "Increase the number of iterations (max_iter) or scale the data as shown in:\n",
      "    https://scikit-learn.org/stable/modules/preprocessing.html\n",
      "Please also refer to the documentation for alternative solver options:\n",
      "    https://scikit-learn.org/stable/modules/linear_model.html#logistic-regression\n",
      "  n_iter_i = _check_optimize_result(\n"
     ]
    }
   ],
   "source": [
    "# train the model on train set\n",
    "lr2 = LogisticRegression()\n",
    "lr2.fit(X_train_miss, y_train_miss.ravel())\n",
    "predictions = lr2.predict(X_test)\n",
    "  \n",
    "# print classification report\n",
    "print(classification_report(Y_test, predictions))\n",
    "#print accuracy\n",
    "print(accuracy_score(Y_test,predictions))"
   ]
  },
  {
   "cell_type": "markdown",
   "id": "a2688030",
   "metadata": {},
   "source": [
    "#### CONCLUSIONES "
   ]
  },
  {
   "cell_type": "raw",
   "id": "3104637d",
   "metadata": {},
   "source": [
    "Ahora se pueden sacar conclusiones mas certeras sobre la regresion logistica. Es decir, como se puede observar en el modelo realizado \n",
    "antes del balanceo de datos, los resultados obtenidos son estupendos ya que es sencillo acertar cuando existe una clase claramente superior. \n",
    "\n",
    "Debido a ello, se analizaran los modelos realizados tras el balanceo de datos. Por un lado, se ha realizado el método de \n",
    "oversampling para balancear y posteriormente la regresión logística con dichos datos. En este modelo los resultados obtenidos son muy \n",
    "buenos con una precisión muy alta  y un f1-score de 0.97. \n",
    "\n",
    "Comparándola con la regresión logística realizada después de balancear los datos mediante undersampling(NearMiss), \n",
    "los resultados son peores para esta segunda. La precisión de la clase 1 es bastante baja (0.20) y el f1-score es notablemente inferior(0.70). \n",
    "Además, el accuracy es notablemente más bajo que en el resto de las opciones.\n",
    "\n",
    "Resumiendo, el balanceo de datos no ha tenido mucha repercusión en este dataset puesto que las métricas de calidad son muy similares \n",
    "excepto con el balanceo mediante NearMiss. Por lo tanto, no se puede escoger un modelo ganador, Naive Bayes y la regresión logística \n",
    "son igual de validos para este conjunto de datos. \n"
   ]
  },
  {
   "cell_type": "markdown",
   "id": "c2042eca",
   "metadata": {},
   "source": [
    "# REGRESION LINEAL MULTIPLE "
   ]
  },
  {
   "cell_type": "raw",
   "id": "b2258ae6",
   "metadata": {},
   "source": [
    "En este apartado en la que se aplicara una regresion lineal multiple, el objetivo ademas de aplicar lo aprendido, es mostrar a Ederlan que , \n",
    "obteniendo unos datos mas enriquecidos, se pueden obtener cosas muy eficientes para la empresa y sus empleados ya que los datos con la que \n",
    "se cuentan son muy pobres y no se puede sacar todo el jugo que se quisiera.\n",
    "\n",
    "Por ello, se ha decidio crear un modelo que prediga la nota que va sacar un alumno, es decir, el exito que va tener en los cursos realizados. \n",
    "Para ello, se crearan variables que se crean que Ederlan puede conseguir para que el modelo sea un exito. Mediante este modelo, los estudiantes \n",
    "podran observar el exito que tendran y el ranking en la que se encuentra con respecto a otro alumnos. De esta manera, podran ver de manera rapida \n",
    "en su dashboard la realidad y tomar medidas en funcion de como se vean.\n",
    "\n",
    "Obviamente, los resultados seguramente no tengan ningun tipo de sentido, pero la idea es ofrecer a Ederlan lo que podrian mejorar con unos datos \n",
    "de mayor valor.\n",
    "\n",
    "Variables nuevas:\n",
    "\n",
    "- Presupuesto utilizado en formaciones\n",
    "- Sueldo al mes\n",
    "- Años trabajando\n",
    "- Edad\n",
    "- Sexo\n",
    "- Km desde Lugar de residencia al lugar de trabajo(una persona que no trabaja en su pueblo y debe ir en coche/bus 'pierde' mas tiempo\n",
    "- Años experiencia del docente\n",
    "- Area o ambito de la formacion\n",
    "- Area en la que trabaja\n",
    "- Notas medias actividades\n",
    "- Numero de actividades realizados\n",
    "- Frecuencia de acceso a la plataforma al mes\n",
    "- Tiempo medio empleadas al mes(horas)\n",
    "- Online o presencial (1=Online, 2=Presencial)\n",
    "- Rating (calificacion que le dan al curso)\n",
    "- Exito(nota en el curso)\n",
    "\n"
   ]
  },
  {
   "cell_type": "code",
   "execution_count": 46,
   "id": "c1860d4b",
   "metadata": {
    "scrolled": false
   },
   "outputs": [
    {
     "data": {
      "text/html": [
       "<div>\n",
       "<style scoped>\n",
       "    .dataframe tbody tr th:only-of-type {\n",
       "        vertical-align: middle;\n",
       "    }\n",
       "\n",
       "    .dataframe tbody tr th {\n",
       "        vertical-align: top;\n",
       "    }\n",
       "\n",
       "    .dataframe thead th {\n",
       "        text-align: right;\n",
       "    }\n",
       "</style>\n",
       "<table border=\"1\" class=\"dataframe\">\n",
       "  <thead>\n",
       "    <tr style=\"text-align: right;\">\n",
       "      <th></th>\n",
       "      <th>usuario</th>\n",
       "      <th>presupuesto_formacion</th>\n",
       "      <th>sueldo</th>\n",
       "      <th>años_trabajand</th>\n",
       "      <th>edad</th>\n",
       "      <th>sexo</th>\n",
       "      <th>km_hogar_trabajo</th>\n",
       "      <th>experiencia_docente</th>\n",
       "      <th>categoria_curso</th>\n",
       "      <th>sitio_trabajo</th>\n",
       "      <th>nota_media_actividades</th>\n",
       "      <th>num_actividades</th>\n",
       "      <th>accesos</th>\n",
       "      <th>tiempo_empleado</th>\n",
       "      <th>formato_curso</th>\n",
       "      <th>rating</th>\n",
       "      <th>nota_curso</th>\n",
       "    </tr>\n",
       "  </thead>\n",
       "  <tbody>\n",
       "    <tr>\n",
       "      <th>0</th>\n",
       "      <td>1</td>\n",
       "      <td>80</td>\n",
       "      <td>1567</td>\n",
       "      <td>15</td>\n",
       "      <td>55</td>\n",
       "      <td>M</td>\n",
       "      <td>6</td>\n",
       "      <td>15</td>\n",
       "      <td>FUNCIONAMIENTO INTERNO</td>\n",
       "      <td>Bergara</td>\n",
       "      <td>4</td>\n",
       "      <td>21</td>\n",
       "      <td>11</td>\n",
       "      <td>9</td>\n",
       "      <td>1</td>\n",
       "      <td>4</td>\n",
       "      <td>4</td>\n",
       "    </tr>\n",
       "    <tr>\n",
       "      <th>1</th>\n",
       "      <td>2</td>\n",
       "      <td>60</td>\n",
       "      <td>1697</td>\n",
       "      <td>13</td>\n",
       "      <td>51</td>\n",
       "      <td>M</td>\n",
       "      <td>47</td>\n",
       "      <td>30</td>\n",
       "      <td>POLIVALENCIA FUSION-MOLDEO</td>\n",
       "      <td>Aretxabaleta</td>\n",
       "      <td>6</td>\n",
       "      <td>13</td>\n",
       "      <td>7</td>\n",
       "      <td>11</td>\n",
       "      <td>1</td>\n",
       "      <td>4</td>\n",
       "      <td>8</td>\n",
       "    </tr>\n",
       "    <tr>\n",
       "      <th>2</th>\n",
       "      <td>3</td>\n",
       "      <td>117</td>\n",
       "      <td>1855</td>\n",
       "      <td>4</td>\n",
       "      <td>37</td>\n",
       "      <td>M</td>\n",
       "      <td>76</td>\n",
       "      <td>10</td>\n",
       "      <td>MANTENIMIENTO</td>\n",
       "      <td>Arrasate</td>\n",
       "      <td>9</td>\n",
       "      <td>6</td>\n",
       "      <td>9</td>\n",
       "      <td>4</td>\n",
       "      <td>0</td>\n",
       "      <td>5</td>\n",
       "      <td>8</td>\n",
       "    </tr>\n",
       "    <tr>\n",
       "      <th>3</th>\n",
       "      <td>4</td>\n",
       "      <td>186</td>\n",
       "      <td>1886</td>\n",
       "      <td>14</td>\n",
       "      <td>48</td>\n",
       "      <td>M</td>\n",
       "      <td>0</td>\n",
       "      <td>15</td>\n",
       "      <td>PROCESO + HERRAMENTAL</td>\n",
       "      <td>Bergara</td>\n",
       "      <td>4</td>\n",
       "      <td>20</td>\n",
       "      <td>6</td>\n",
       "      <td>19</td>\n",
       "      <td>1</td>\n",
       "      <td>0</td>\n",
       "      <td>2</td>\n",
       "    </tr>\n",
       "    <tr>\n",
       "      <th>4</th>\n",
       "      <td>5</td>\n",
       "      <td>198</td>\n",
       "      <td>1740</td>\n",
       "      <td>18</td>\n",
       "      <td>47</td>\n",
       "      <td>M</td>\n",
       "      <td>16</td>\n",
       "      <td>15</td>\n",
       "      <td>CONTROL VISUAL</td>\n",
       "      <td>Aretxabaleta</td>\n",
       "      <td>5</td>\n",
       "      <td>13</td>\n",
       "      <td>8</td>\n",
       "      <td>14</td>\n",
       "      <td>1</td>\n",
       "      <td>1</td>\n",
       "      <td>9</td>\n",
       "    </tr>\n",
       "  </tbody>\n",
       "</table>\n",
       "</div>"
      ],
      "text/plain": [
       "   usuario  presupuesto_formacion  sueldo  años_trabajand  edad sexo  \\\n",
       "0        1                     80    1567              15    55    M   \n",
       "1        2                     60    1697              13    51    M   \n",
       "2        3                    117    1855               4    37    M   \n",
       "3        4                    186    1886              14    48    M   \n",
       "4        5                    198    1740              18    47    M   \n",
       "\n",
       "   km_hogar_trabajo  experiencia_docente             categoria_curso  \\\n",
       "0                 6                   15      FUNCIONAMIENTO INTERNO   \n",
       "1                47                   30  POLIVALENCIA FUSION-MOLDEO   \n",
       "2                76                   10               MANTENIMIENTO   \n",
       "3                 0                   15       PROCESO + HERRAMENTAL   \n",
       "4                16                   15              CONTROL VISUAL   \n",
       "\n",
       "  sitio_trabajo  nota_media_actividades  num_actividades  accesos  \\\n",
       "0       Bergara                       4               21       11   \n",
       "1  Aretxabaleta                       6               13        7   \n",
       "2      Arrasate                       9                6        9   \n",
       "3       Bergara                       4               20        6   \n",
       "4  Aretxabaleta                       5               13        8   \n",
       "\n",
       "   tiempo_empleado  formato_curso  rating  nota_curso  \n",
       "0                9              1       4           4  \n",
       "1               11              1       4           8  \n",
       "2                4              0       5           8  \n",
       "3               19              1       0           2  \n",
       "4               14              1       1           9  "
      ]
     },
     "execution_count": 46,
     "metadata": {},
     "output_type": "execute_result"
    }
   ],
   "source": [
    "#Carga del dataset inventado\n",
    "df_multiple = pd.read_csv(path_dataset1 + 'datos_inventados.csv')\n",
    "df_multiple.head()\n"
   ]
  },
  {
   "cell_type": "code",
   "execution_count": 47,
   "id": "957ced30",
   "metadata": {},
   "outputs": [
    {
     "name": "stdout",
     "output_type": "stream",
     "text": [
      "['sexo', 'categoria_curso', 'sitio_trabajo']\n",
      "['usuario', 'presupuesto_formacion', 'sueldo', 'años_trabajand', 'edad', 'km_hogar_trabajo', 'experiencia_docente', 'nota_media_actividades', 'num_actividades', 'accesos', 'tiempo_empleado', 'formato_curso', 'rating', 'nota_curso']\n"
     ]
    }
   ],
   "source": [
    "#Identificar variables categoricas y variables numericas\n",
    "Cat_vars = []\n",
    "Num_vars = []\n",
    "\n",
    "for col in list(df_multiple.columns):\n",
    "    \n",
    "    if ((df_multiple[col].dtype == 'float64') | (df_multiple[col].dtype == 'int64')):\n",
    "        \n",
    "        Num_vars.append(col)\n",
    "    \n",
    "    else: Cat_vars.append(col)\n",
    "        \n",
    "print(Cat_vars)\n",
    "print(Num_vars)"
   ]
  },
  {
   "cell_type": "code",
   "execution_count": 48,
   "id": "ee1435c0",
   "metadata": {},
   "outputs": [],
   "source": [
    "data_multiple= pd.concat([pd.get_dummies(df_multiple[['categoria_curso', 'sitio_trabajo','sexo']].astype(object), drop_first = True), \n",
    "              df_multiple[['presupuesto_formacion', 'sueldo','años_trabajand','edad','km_hogar_trabajo','experiencia_docente',\n",
    "                          'nota_media_actividades','num_actividades','accesos','tiempo_empleado','formato_curso','rating']]],\n",
    "              axis = 1, join = 'outer', ignore_index = False)"
   ]
  },
  {
   "cell_type": "code",
   "execution_count": 49,
   "id": "9a6c9ec3",
   "metadata": {
    "scrolled": true
   },
   "outputs": [],
   "source": [
    "XY_train = np.array(data_multiple)\n",
    "z_train = df_multiple['nota_curso'].values"
   ]
  },
  {
   "cell_type": "code",
   "execution_count": 50,
   "id": "0e4d85f2",
   "metadata": {},
   "outputs": [
    {
     "name": "stdout",
     "output_type": "stream",
     "text": [
      "Coefficients: \n",
      " [-7.57535555e-01 -2.54890626e+00  9.07408173e-01 -1.42418489e+00\n",
      "  2.24238147e+00 -2.65882366e+00 -2.47414955e-01  2.57301394e+00\n",
      "  2.96107789e-03 -1.80147590e-01  1.93517211e-03  1.03156638e-03\n",
      "  1.07916628e-01  1.60808662e-02 -1.63664559e-03 -3.13627413e-02\n",
      "  8.70608698e-02  4.28358790e-02 -1.83646907e-01 -4.49689859e-02\n",
      " -4.94539734e-01 -1.27173896e-01]\n",
      "Mean squared error: 2.59\n",
      "Variance score: 0.55\n"
     ]
    }
   ],
   "source": [
    "# Creamos un nuevo objeto de Regresión Lineal\n",
    "regr2 = linear_model.LinearRegression()\n",
    " \n",
    "# Entrenamos el modelo, esta vez, con 2 dimensiones\n",
    "# obtendremos 2 coeficientes, para graficar un plano\n",
    "regr2.fit(XY_train, z_train)\n",
    " \n",
    "# Hacemos la predicción con la que tendremos puntos sobre el plano hallado\n",
    "z_pred = regr2.predict(XY_train)\n",
    " \n",
    "# Los coeficientes\n",
    "print('Coefficients: \\n', regr2.coef_)\n",
    "# Error cuadrático medio\n",
    "print(\"Mean squared error: %.2f\" % mean_squared_error(z_train, z_pred))\n",
    "# Evaluamos el puntaje de varianza (siendo 1.0 el mejor posible)\n",
    "print('Variance score: %.2f' % r2_score(z_train, z_pred))"
   ]
  },
  {
   "cell_type": "raw",
   "id": "ca75f784",
   "metadata": {},
   "source": [
    "Como era de esperar los resultados del modelo son muy malos. Esto se debe a que los valores de las columnas han sido generadas \n",
    "aleatoriamente en un csv. El objetivo de esta regresion es mostrar a Ederlan lo que se puede obtener con unos datos mas enriquecidos, \n",
    "la nota que obtendra un alumno en funcion de diversas caracteristicas."
   ]
  },
  {
   "cell_type": "code",
   "execution_count": 51,
   "id": "36ec9bed",
   "metadata": {},
   "outputs": [
    {
     "name": "stdout",
     "output_type": "stream",
     "text": [
      "4\n"
     ]
    }
   ],
   "source": [
    "#Se incorpora un nuevo usuario y se predice la nota. Para ello, se incorporan los datos de este nuevo usuario.\n",
    "nota_nuevo_usuario = regr2.predict([[0,0,0,0,0,0,1,0,1,1,86,1700,7,47,17,15,8,20,11,15,1,2]])\n",
    "print(int(nota_nuevo_usuario))"
   ]
  }
 ],
 "metadata": {
  "kernelspec": {
   "display_name": "Python 3",
   "language": "python",
   "name": "python3"
  },
  "language_info": {
   "codemirror_mode": {
    "name": "ipython",
    "version": 3
   },
   "file_extension": ".py",
   "mimetype": "text/x-python",
   "name": "python",
   "nbconvert_exporter": "python",
   "pygments_lexer": "ipython3",
   "version": "3.8.8"
  }
 },
 "nbformat": 4,
 "nbformat_minor": 5
}

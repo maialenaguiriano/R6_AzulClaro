{
 "cells": [
  {
   "cell_type": "markdown",
   "metadata": {},
   "source": [
    "### Librerias"
   ]
  },
  {
   "cell_type": "code",
   "execution_count": 1,
   "metadata": {},
   "outputs": [],
   "source": [
    "import pandas as pd\n",
    "import numpy as np\n",
    "import seaborn as sns\n",
    "import os\n",
    "import matplotlib.pyplot as plt\n",
    "import matplotlib.mlab as mlab\n",
    "import matplotlib\n",
    "plt.style.use('ggplot')\n",
    "from matplotlib.pyplot import figure\n",
    "import glob\n",
    "\n",
    "import funciones as fn #funciones es el nombre del script dnd hemos creado las funciones"
   ]
  },
  {
   "cell_type": "markdown",
   "metadata": {},
   "source": [
    "### Carga de datos"
   ]
  },
  {
   "cell_type": "code",
   "execution_count": 2,
   "metadata": {},
   "outputs": [],
   "source": [
    "path_dataset1 = '..\\\\datosTransformados\\\\'\n",
    "lista = ['accesos','actividades', 'conocimientos', 'cursos', 'cursos_en_programas', 'itinerarios', 'notas_cursos', 'plantas', 'programas', 'roles', 'tutores_perfil', 'usuarios']\n",
    "\n",
    "# Creamos un diccionario en blanco con los nombres de la lista como keys\n",
    "dfs = {}\n",
    "for i in lista:\n",
    "    dfs[i] = ''\n",
    "\n",
    "# get data file names\n",
    "filenames = glob.glob(path_dataset1 + \"*.csv\")\n",
    "\n",
    "# cargar dfs en el diccionario \n",
    "for i, valuei in enumerate(lista):\n",
    "    for j, filename in enumerate(filenames):\n",
    "        if i==j:\n",
    "            dfs[valuei] = pd.read_csv(filename, index_col= [0])\n",
    "    \n",
    "# separar los keys del diccionario en df diferentes (con su nombre)\n",
    "for i in dfs.keys():\n",
    "    globals()['%s' % i.replace(\" \", \"_\").lower()] = dfs[i]"
   ]
  },
  {
   "cell_type": "markdown",
   "metadata": {},
   "source": [
    "### CSV cursos comenzados y no-comenzados recuento"
   ]
  },
  {
   "cell_type": "code",
   "execution_count": 22,
   "metadata": {},
   "outputs": [],
   "source": [
    "notas_cursos['comenzado'] = None\n",
    "for i in range(len(notas_cursos['online_progress'])):\n",
    "    if notas_cursos.loc[i,'online_progress'] == 0:\n",
    "        notas_cursos.loc[i,'comenzado'] = 0\n",
    "\n",
    "    else:\n",
    "        notas_cursos.loc[i,'comenzado'] = 1"
   ]
  },
  {
   "cell_type": "code",
   "execution_count": 23,
   "metadata": {},
   "outputs": [
    {
     "data": {
      "text/html": [
       "<div>\n",
       "<style scoped>\n",
       "    .dataframe tbody tr th:only-of-type {\n",
       "        vertical-align: middle;\n",
       "    }\n",
       "\n",
       "    .dataframe tbody tr th {\n",
       "        vertical-align: top;\n",
       "    }\n",
       "\n",
       "    .dataframe thead th {\n",
       "        text-align: right;\n",
       "    }\n",
       "</style>\n",
       "<table border=\"1\" class=\"dataframe\">\n",
       "  <thead>\n",
       "    <tr style=\"text-align: right;\">\n",
       "      <th></th>\n",
       "      <th>no_comenzado</th>\n",
       "      <th>comenzado</th>\n",
       "    </tr>\n",
       "  </thead>\n",
       "  <tbody>\n",
       "    <tr>\n",
       "      <th>0</th>\n",
       "      <td>3321.0</td>\n",
       "      <td>577.0</td>\n",
       "    </tr>\n",
       "  </tbody>\n",
       "</table>\n",
       "</div>"
      ],
      "text/plain": [
       "   no_comenzado  comenzado\n",
       "0        3321.0      577.0"
      ]
     },
     "execution_count": 23,
     "metadata": {},
     "output_type": "execute_result"
    }
   ],
   "source": [
    "cursos_comenzados = pd.DataFrame(notas_cursos['comenzado'].value_counts().reset_index(), columns=['comenzado', 'recuento'])\n",
    "cursos_comenzados = cursos_comenzados.transpose()\n",
    "cursos_comenzados.drop(index='recuento', axis= 0, inplace=True)\n",
    "cursos_comenzados = cursos_comenzados.rename(columns={0: 'no_comenzado', 1:'comenzado'}).reset_index(drop= True)\n",
    "cursos_comenzados"
   ]
  },
  {
   "cell_type": "code",
   "execution_count": 24,
   "metadata": {},
   "outputs": [],
   "source": [
    "file_name2 = 'cursos_comenzados.csv'\n",
    "path_dataset2 = '..\\\\datosTransformados\\\\Datos_powerBI\\\\'"
   ]
  },
  {
   "cell_type": "code",
   "execution_count": 25,
   "metadata": {},
   "outputs": [],
   "source": [
    "# Eliminar los .csv existentes (antiguos) en la carpeta y descargar la última version\n",
    "fn.eliminar_csv(path_dataset2) #eliminar\n",
    "fn.convertir_csv(df=cursos_comenzados, filename=file_name2,path_dataset = path_dataset2 ) #descargar\n"
   ]
  },
  {
   "cell_type": "markdown",
   "metadata": {},
   "source": [
    "### CSV Horas usuarios"
   ]
  },
  {
   "cell_type": "code",
   "execution_count": 27,
   "metadata": {},
   "outputs": [],
   "source": [
    "user_curso = cursos.merge(notas_cursos , on= ['course_name', 'course_id'] , how = \"right\")\n",
    "#horas_alumnos = user_curso.groupby('user_id')['hours'].sum().reset_index()\n",
    "user_cursos = user_curso[user_curso['hours'] != 0]\n",
    "fn.convertir_csv(df = user_cursos , filename = 'user_cursos.csv', path_dataset = path_dataset2 )"
   ]
  },
  {
   "cell_type": "markdown",
   "metadata": {},
   "source": [
    "### CSV Cursos mas relevantes"
   ]
  },
  {
   "cell_type": "code",
   "execution_count": 33,
   "metadata": {},
   "outputs": [],
   "source": [
    "#Preparamos los datos: los cursos que mas aparecen en notas_cursos, es decir, los mas realizados y por tanto populares\n",
    "cursos_popu = notas_cursos['course_name'].value_counts().to_frame().reset_index().head(10)\n",
    "cursos_popu.rename(columns= {'index': 'course_name', 'course_name': 'num_usuarios'}, inplace=True)\n",
    "\n",
    "fn.convertir_csv(df = cursos_popu , filename = 'cursos_popu.csv', path_dataset = path_dataset2)"
   ]
  }
 ],
 "metadata": {
  "interpreter": {
   "hash": "b3ba2566441a7c06988d0923437866b63cedc61552a5af99d1f4fb67d367b25f"
  },
  "kernelspec": {
   "display_name": "Python 3.8.3 64-bit ('base': conda)",
   "language": "python",
   "name": "python3"
  },
  "language_info": {
   "codemirror_mode": {
    "name": "ipython",
    "version": 3
   },
   "file_extension": ".py",
   "mimetype": "text/x-python",
   "name": "python",
   "nbconvert_exporter": "python",
   "pygments_lexer": "ipython3",
   "version": "3.8.3"
  },
  "orig_nbformat": 4
 },
 "nbformat": 4,
 "nbformat_minor": 2
}

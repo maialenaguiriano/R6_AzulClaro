{
 "cells": [
  {
   "cell_type": "markdown",
   "metadata": {},
   "source": [
    "### Librerias"
   ]
  },
  {
   "cell_type": "code",
   "execution_count": 83,
   "metadata": {},
   "outputs": [],
   "source": [
    "import pandas as pd  \n",
    "import os\n",
    "import numpy as np\n",
    "import datetime as dt # para gestión de fechas\n",
    "import seaborn as sns\n",
    "import matplotlib.pyplot as plt\n",
    "import matplotlib.mlab as mlab\n",
    "import matplotlib\n",
    "plt.style.use('ggplot')\n",
    "from matplotlib.pyplot import figure\n",
    "from datetime import datetime\n",
    "import locale\n",
    "from scipy import stats\n",
    "import re\n",
    "import os"
   ]
  },
  {
   "cell_type": "code",
   "execution_count": 84,
   "metadata": {},
   "outputs": [
    {
     "data": {
      "text/plain": [
       "'d:\\\\Desktop\\\\Reto06\\\\scripts'"
      ]
     },
     "execution_count": 84,
     "metadata": {},
     "output_type": "execute_result"
    }
   ],
   "source": [
    "os.getcwd()"
   ]
  },
  {
   "cell_type": "markdown",
   "metadata": {},
   "source": [
    "### Importar módulos creados por nosotros"
   ]
  },
  {
   "cell_type": "code",
   "execution_count": 85,
   "metadata": {},
   "outputs": [],
   "source": [
    "import funciones as fn #funciones es el nombre del script dnd hemos creado las funciones"
   ]
  },
  {
   "cell_type": "markdown",
   "metadata": {},
   "source": [
    "### Carga de datos"
   ]
  },
  {
   "cell_type": "code",
   "execution_count": 86,
   "metadata": {},
   "outputs": [],
   "source": [
    "path_dataset = '..\\\\datosOriginales\\\\' # ruta donde se encuentran los datos\n",
    "path_dataset1 = '..\\\\datosTransformados\\\\' # ruta donde se van a guardar los datos limpios\n",
    "file = 'EDERJAKIN_LA_Datos_2021.xlsm'\n",
    "fichero = pd.ExcelFile(path_dataset + file)\n",
    "nombres_hojas = fichero.sheet_names"
   ]
  },
  {
   "cell_type": "code",
   "execution_count": 87,
   "metadata": {},
   "outputs": [],
   "source": [
    "# leer todas las hojas\n",
    "todo  = pd.read_excel(os.path.join(path_dataset,file), sheet_name = nombres_hojas)\n",
    "\n",
    "# separar\n",
    "for i in todo.keys():\n",
    "    globals()['%s' % i.replace(\" \", \"_\").lower()] = todo[i]"
   ]
  },
  {
   "cell_type": "markdown",
   "metadata": {},
   "source": [
    "# Limpieza "
   ]
  },
  {
   "cell_type": "markdown",
   "metadata": {},
   "source": [
    "## DATA CLEANING"
   ]
  },
  {
   "cell_type": "markdown",
   "metadata": {},
   "source": [
    "### ELIMINACION DE VARIABLES Y FILAS QUE NO DAN INFORMACION"
   ]
  },
  {
   "cell_type": "code",
   "execution_count": 88,
   "metadata": {},
   "outputs": [],
   "source": [
    "#Usuarios\n",
    "fn.eliminar_columnas(usuarios, 'last_access') #mas tarde imputaremos esta columna junto al primer acceso que estan en df accesos_1ero_ultimo"
   ]
  },
  {
   "cell_type": "code",
   "execution_count": 89,
   "metadata": {},
   "outputs": [],
   "source": [
    "#Conocimientos\n",
    "fn.eliminar_columnas(conocimientos, ['color', 'description', 'referencia']) #quitamos color y description ya que no aportan info y tienen pocos valores \n"
   ]
  },
  {
   "cell_type": "code",
   "execution_count": 90,
   "metadata": {},
   "outputs": [],
   "source": [
    "#Cursos\n",
    "fn.eliminar_columnas(cursos, ['summary', 'sortorder']) #quitamos summary ya que con la informacion de course_name es suficiente, y sortorder porque no aporta info necesaria"
   ]
  },
  {
   "cell_type": "code",
   "execution_count": 91,
   "metadata": {},
   "outputs": [],
   "source": [
    "#Itinerarios\n",
    "fn.eliminar_columnas(itinearios, ['remarks']) #esta vacia y no aporta informacion"
   ]
  },
  {
   "cell_type": "code",
   "execution_count": 92,
   "metadata": {},
   "outputs": [],
   "source": [
    "#Accesos\n",
    "accesos.groupby('description').size() #quitamos los accesos que fueron ERROR, ya que no son errores validos\n",
    "erroneas = accesos[accesos['description'] == 'Login SRM ERROR 1']\n",
    "indice_erroneas = list(erroneas.index)\n",
    "accesos = accesos.drop(indice_erroneas, axis = 0)\n"
   ]
  },
  {
   "cell_type": "markdown",
   "metadata": {},
   "source": [
    "### CORRECCION DEL TIPO DE LAS VARIABLES"
   ]
  },
  {
   "cell_type": "code",
   "execution_count": 93,
   "metadata": {},
   "outputs": [
    {
     "name": "stdout",
     "output_type": "stream",
     "text": [
      "<class 'pandas.core.frame.DataFrame'>\n",
      "RangeIndex: 420 entries, 0 to 419\n",
      "Data columns (total 10 columns):\n",
      " #   Column            Non-Null Count  Dtype  \n",
      "---  ------            --------------  -----  \n",
      " 0   user_id           420 non-null    int64  \n",
      " 1   useranonimo_name  420 non-null    object \n",
      " 2   active_flag       420 non-null    int64  \n",
      " 3   language          420 non-null    object \n",
      " 4   mdl_user_id       405 non-null    float64\n",
      " 5   role_admin        420 non-null    int64  \n",
      " 6   role_manager      420 non-null    int64  \n",
      " 7   role_student      420 non-null    int64  \n",
      " 8   role_tutor        420 non-null    int64  \n",
      " 9   planta_name       420 non-null    object \n",
      "dtypes: float64(1), int64(6), object(3)\n",
      "memory usage: 32.9+ KB\n"
     ]
    }
   ],
   "source": [
    "#usuarios:\n",
    "usuarios.info()"
   ]
  },
  {
   "cell_type": "code",
   "execution_count": 94,
   "metadata": {},
   "outputs": [
    {
     "name": "stdout",
     "output_type": "stream",
     "text": [
      "<class 'pandas.core.frame.DataFrame'>\n",
      "RangeIndex: 420 entries, 0 to 419\n",
      "Data columns (total 10 columns):\n",
      " #   Column            Non-Null Count  Dtype   \n",
      "---  ------            --------------  -----   \n",
      " 0   user_id           420 non-null    category\n",
      " 1   useranonimo_name  420 non-null    string  \n",
      " 2   active_flag       420 non-null    bool    \n",
      " 3   language          420 non-null    category\n",
      " 4   mdl_user_id       405 non-null    category\n",
      " 5   role_admin        420 non-null    bool    \n",
      " 6   role_manager      420 non-null    bool    \n",
      " 7   role_student      420 non-null    bool    \n",
      " 8   role_tutor        420 non-null    bool    \n",
      " 9   planta_name       420 non-null    category\n",
      "dtypes: bool(5), category(4), string(1)\n",
      "memory usage: 54.8 KB\n"
     ]
    }
   ],
   "source": [
    "fn.corregir_tipo(df = usuarios, columnas = ['user_id','language', 'planta_name','mdl_user_id'], tipo = 'category') #las pasamos a tipo category\n",
    "fn.corregir_tipo(df = usuarios, columnas = ['active_flag',  'role_admin','role_manager','role_student','role_tutor'], tipo = 'bool') #a tipo bool\n",
    "fn.corregir_tipo(df = usuarios, columnas = ['useranonimo_name'], tipo = 'string')\n",
    "\n",
    "#quitamos columnas Unnamed:\n",
    "fn.eliminar_unnamed(usuarios)\n",
    "usuarios.info() #correcto"
   ]
  },
  {
   "cell_type": "code",
   "execution_count": 95,
   "metadata": {},
   "outputs": [
    {
     "name": "stdout",
     "output_type": "stream",
     "text": [
      "<class 'pandas.core.frame.DataFrame'>\n",
      "RangeIndex: 188 entries, 0 to 187\n",
      "Data columns (total 3 columns):\n",
      " #   Column       Non-Null Count  Dtype \n",
      "---  ------       --------------  ----- \n",
      " 0   perfil_id    188 non-null    int64 \n",
      " 1   user_id      188 non-null    int64 \n",
      " 2   perfil_name  118 non-null    object\n",
      "dtypes: int64(2), object(1)\n",
      "memory usage: 4.5+ KB\n"
     ]
    }
   ],
   "source": [
    "#tutores_perfil\n",
    "tutores_perfil.info()"
   ]
  },
  {
   "cell_type": "code",
   "execution_count": 96,
   "metadata": {},
   "outputs": [
    {
     "name": "stdout",
     "output_type": "stream",
     "text": [
      "<class 'pandas.core.frame.DataFrame'>\n",
      "RangeIndex: 188 entries, 0 to 187\n",
      "Data columns (total 3 columns):\n",
      " #   Column       Non-Null Count  Dtype   \n",
      "---  ------       --------------  -----   \n",
      " 0   perfil_id    188 non-null    category\n",
      " 1   user_id      188 non-null    category\n",
      " 2   perfil_name  118 non-null    string  \n",
      "dtypes: category(2), string(1)\n",
      "memory usage: 8.5 KB\n"
     ]
    }
   ],
   "source": [
    "fn.corregir_tipo(df= tutores_perfil, columnas= ['user_id','perfil_id'], tipo= 'category') #las pasamos a tipo category\n",
    "fn.corregir_tipo(df= tutores_perfil, columnas= ['perfil_name'], tipo= 'string')\n",
    "fn.eliminar_unnamed(tutores_perfil) #eliminamos columnas unnamed\n",
    "tutores_perfil.info() #correcto"
   ]
  },
  {
   "cell_type": "code",
   "execution_count": 97,
   "metadata": {},
   "outputs": [
    {
     "name": "stdout",
     "output_type": "stream",
     "text": [
      "<class 'pandas.core.frame.DataFrame'>\n",
      "RangeIndex: 155 entries, 0 to 154\n",
      "Data columns (total 5 columns):\n",
      " #   Column                       Non-Null Count  Dtype \n",
      "---  ------                       --------------  ----- \n",
      " 0   conocimiento_id              155 non-null    int64 \n",
      " 1   conocimiento_name            155 non-null    object\n",
      " 2   created_by                   155 non-null    int64 \n",
      " 3   categoria_conocimiento_id    155 non-null    int64 \n",
      " 4   categoria_conocimiento_name  133 non-null    object\n",
      "dtypes: int64(3), object(2)\n",
      "memory usage: 6.2+ KB\n"
     ]
    }
   ],
   "source": [
    "#Conocimientos\n",
    "conocimientos.info()"
   ]
  },
  {
   "cell_type": "code",
   "execution_count": 98,
   "metadata": {},
   "outputs": [
    {
     "name": "stdout",
     "output_type": "stream",
     "text": [
      "<class 'pandas.core.frame.DataFrame'>\n",
      "RangeIndex: 155 entries, 0 to 154\n",
      "Data columns (total 5 columns):\n",
      " #   Column                       Non-Null Count  Dtype   \n",
      "---  ------                       --------------  -----   \n",
      " 0   conocimiento_id              155 non-null    category\n",
      " 1   conocimiento_name            155 non-null    string  \n",
      " 2   created_by                   155 non-null    category\n",
      " 3   categoria_conocimiento_id    155 non-null    category\n",
      " 4   categoria_conocimiento_name  133 non-null    string  \n",
      "dtypes: category(3), string(2)\n",
      "memory usage: 10.9 KB\n"
     ]
    }
   ],
   "source": [
    "fn.corregir_tipo(df= conocimientos, columnas= [ 'conocimiento_id','categoria_conocimiento_id','created_by'], tipo= 'category') #las pasamos a category\n",
    "fn.corregir_tipo(df= conocimientos, columnas= [ 'conocimiento_name','categoria_conocimiento_name'], tipo= 'string')\n",
    "fn.eliminar_unnamed(conocimientos) #quitamos columnas 'unnamed'\n",
    "\n",
    "conocimientos.info() #correcto"
   ]
  },
  {
   "cell_type": "code",
   "execution_count": 99,
   "metadata": {},
   "outputs": [
    {
     "name": "stdout",
     "output_type": "stream",
     "text": [
      "<class 'pandas.core.frame.DataFrame'>\n",
      "RangeIndex: 139 entries, 0 to 138\n",
      "Data columns (total 5 columns):\n",
      " #   Column            Non-Null Count  Dtype \n",
      "---  ------            --------------  ----- \n",
      " 0   course_id         139 non-null    int64 \n",
      " 1   course_name       139 non-null    object\n",
      " 2   category          139 non-null    int64 \n",
      " 3   hours             139 non-null    int64 \n",
      " 4   course_shortname  139 non-null    object\n",
      "dtypes: int64(3), object(2)\n",
      "memory usage: 5.6+ KB\n"
     ]
    }
   ],
   "source": [
    "#Cursos\n",
    "cursos.info()"
   ]
  },
  {
   "cell_type": "code",
   "execution_count": 100,
   "metadata": {},
   "outputs": [
    {
     "name": "stdout",
     "output_type": "stream",
     "text": [
      "<class 'pandas.core.frame.DataFrame'>\n",
      "RangeIndex: 139 entries, 0 to 138\n",
      "Data columns (total 5 columns):\n",
      " #   Column              Non-Null Count  Dtype   \n",
      "---  ------              --------------  -----   \n",
      " 0   course_id           139 non-null    category\n",
      " 1   course_name         139 non-null    string  \n",
      " 2   course_category_id  139 non-null    category\n",
      " 3   hours               139 non-null    int64   \n",
      " 4   course_shortname    139 non-null    string  \n",
      "dtypes: category(2), int64(1), string(2)\n",
      "memory usage: 10.6 KB\n"
     ]
    }
   ],
   "source": [
    "fn.corregir_tipo(df= cursos, columnas= ['category', 'course_id'], tipo= 'category') #las pasamos a tipo category\n",
    "fn.corregir_tipo(df= cursos, columnas= ['course_name', 'course_shortname'], tipo= 'string') #a string\n",
    "fn.eliminar_unnamed(cursos) #eliminamos columnas unnamed\n",
    "cursos.rename(columns={'category':'course_category_id'}, inplace = True) #le ponemos un nombre mas apropiado\n",
    "cursos.info()"
   ]
  },
  {
   "cell_type": "code",
   "execution_count": 101,
   "metadata": {},
   "outputs": [
    {
     "name": "stdout",
     "output_type": "stream",
     "text": [
      "<class 'pandas.core.frame.DataFrame'>\n",
      "RangeIndex: 110 entries, 0 to 109\n",
      "Data columns (total 3 columns):\n",
      " #   Column               Non-Null Count  Dtype \n",
      "---  ------               --------------  ----- \n",
      " 0   program_id           110 non-null    int64 \n",
      " 1   program_name         110 non-null    object\n",
      " 2   program_category_id  109 non-null    object\n",
      "dtypes: int64(1), object(2)\n",
      "memory usage: 2.7+ KB\n"
     ]
    }
   ],
   "source": [
    "#Programas\n",
    "programas.info()"
   ]
  },
  {
   "cell_type": "code",
   "execution_count": 102,
   "metadata": {},
   "outputs": [
    {
     "name": "stdout",
     "output_type": "stream",
     "text": [
      "<class 'pandas.core.frame.DataFrame'>\n",
      "RangeIndex: 110 entries, 0 to 109\n",
      "Data columns (total 3 columns):\n",
      " #   Column               Non-Null Count  Dtype   \n",
      "---  ------               --------------  -----   \n",
      " 0   program_id           110 non-null    category\n",
      " 1   program_name         110 non-null    string  \n",
      " 2   program_category_id  109 non-null    category\n",
      "dtypes: category(2), string(1)\n",
      "memory usage: 7.4 KB\n"
     ]
    }
   ],
   "source": [
    "fn.corregir_tipo(df= programas, columnas= ['program_id', 'program_category_id' ], tipo= 'category') #las pasamos a tipo category\n",
    "fn.corregir_tipo(df= programas, columnas= ['program_name'], tipo= 'string')\n",
    "fn.eliminar_unnamed(programas) #eliminamos columnas unnamed\n",
    "programas.info() #correcto"
   ]
  },
  {
   "cell_type": "code",
   "execution_count": 103,
   "metadata": {},
   "outputs": [
    {
     "name": "stdout",
     "output_type": "stream",
     "text": [
      "<class 'pandas.core.frame.DataFrame'>\n",
      "RangeIndex: 253 entries, 0 to 252\n",
      "Data columns (total 8 columns):\n",
      " #   Column                    Non-Null Count  Dtype \n",
      "---  ------                    --------------  ----- \n",
      " 0   program_course_online_id  253 non-null    int64 \n",
      " 1   course_moodle_id          253 non-null    int64 \n",
      " 2   conocimiento_id           253 non-null    int64 \n",
      " 3   num_periodo               253 non-null    int64 \n",
      " 4   program_id                253 non-null    int64 \n",
      " 5   course_moodle_id.1        253 non-null    object\n",
      " 6   conocimiento_name         253 non-null    object\n",
      " 7   program_name              253 non-null    object\n",
      "dtypes: int64(5), object(3)\n",
      "memory usage: 15.9+ KB\n"
     ]
    }
   ],
   "source": [
    "#Cursos en programas\n",
    "cursos_en_programas.info()"
   ]
  },
  {
   "cell_type": "code",
   "execution_count": 104,
   "metadata": {},
   "outputs": [
    {
     "name": "stdout",
     "output_type": "stream",
     "text": [
      "<class 'pandas.core.frame.DataFrame'>\n",
      "RangeIndex: 253 entries, 0 to 252\n",
      "Data columns (total 8 columns):\n",
      " #   Column                    Non-Null Count  Dtype   \n",
      "---  ------                    --------------  -----   \n",
      " 0   program_course_online_id  253 non-null    category\n",
      " 1   course_moodle_id          253 non-null    category\n",
      " 2   conocimiento_id           253 non-null    category\n",
      " 3   num_periodo               253 non-null    category\n",
      " 4   program_id                253 non-null    category\n",
      " 5   course_moodle_name        253 non-null    string  \n",
      " 6   conocimiento_name         253 non-null    string  \n",
      " 7   program_name              253 non-null    string  \n",
      "dtypes: category(5), string(3)\n",
      "memory usage: 28.9 KB\n"
     ]
    }
   ],
   "source": [
    "fn.corregir_tipo(df= cursos_en_programas, columnas= ['program_course_online_id','course_moodle_id','conocimiento_id', 'program_id', 'num_periodo' ], tipo= 'category') #las pasamos a tipo category\n",
    "fn.corregir_tipo(df= cursos_en_programas, columnas= ['conocimiento_name','program_name','course_moodle_id.1'], tipo= 'string')\n",
    "fn.eliminar_unnamed(cursos_en_programas) #eliminamos columnas unnamed\n",
    "\n",
    "#cambiamos el mobre de course_moodle_id.1 a course_moodle_name\n",
    "cursos_en_programas.rename(columns={'course_moodle_id.1': 'course_moodle_name'}, inplace=True)\n",
    "cursos_en_programas.info() #correcto\n"
   ]
  },
  {
   "cell_type": "code",
   "execution_count": 105,
   "metadata": {},
   "outputs": [
    {
     "name": "stdout",
     "output_type": "stream",
     "text": [
      "<class 'pandas.core.frame.DataFrame'>\n",
      "RangeIndex: 467 entries, 0 to 466\n",
      "Data columns (total 10 columns):\n",
      " #   Column              Non-Null Count  Dtype \n",
      "---  ------              --------------  ----- \n",
      " 0   active_flag         467 non-null    int64 \n",
      " 1   category_id         467 non-null    int64 \n",
      " 2   date_enroll         466 non-null    object\n",
      " 3   enroll_end          170 non-null    object\n",
      " 4   program_id          467 non-null    int64 \n",
      " 5   tutor_academico_id  467 non-null    int64 \n",
      " 6   tutor_empresa_id    467 non-null    int64 \n",
      " 7   user_id             467 non-null    int64 \n",
      " 8   category_name       467 non-null    object\n",
      " 9   program_name        467 non-null    object\n",
      "dtypes: int64(6), object(4)\n",
      "memory usage: 36.6+ KB\n"
     ]
    }
   ],
   "source": [
    "#Itinerarios\n",
    "itinearios.info()"
   ]
  },
  {
   "cell_type": "code",
   "execution_count": 106,
   "metadata": {},
   "outputs": [
    {
     "name": "stdout",
     "output_type": "stream",
     "text": [
      "<class 'pandas.core.frame.DataFrame'>\n",
      "RangeIndex: 467 entries, 0 to 466\n",
      "Data columns (total 10 columns):\n",
      " #   Column                   Non-Null Count  Dtype              \n",
      "---  ------                   --------------  -----              \n",
      " 0   active_flag              467 non-null    bool               \n",
      " 1   itinerary_category_id    467 non-null    category           \n",
      " 2   date_enroll              466 non-null    datetime64[ns, UTC]\n",
      " 3   enroll_end               170 non-null    datetime64[ns, UTC]\n",
      " 4   program_id               467 non-null    category           \n",
      " 5   tutor_academico_id       467 non-null    category           \n",
      " 6   tutor_empresa_id         467 non-null    category           \n",
      " 7   user_id                  467 non-null    category           \n",
      " 8   itinerary_category_name  467 non-null    string             \n",
      " 9   program_name             467 non-null    string             \n",
      "dtypes: bool(1), category(5), datetime64[ns, UTC](2), string(2)\n",
      "memory usage: 34.8 KB\n"
     ]
    }
   ],
   "source": [
    "#En primer lugar, cambiar nombre a tabla.\n",
    "\n",
    "itinerarios = itinearios\n",
    "del itinearios #la eliminamos para que no intervenga\n",
    "\n",
    "fn.corregir_tipo(df= itinerarios, columnas= ['active_flag'], tipo= 'bool') #las pasamos a tipo bool\n",
    "fn.corregir_tipo(df= itinerarios, columnas= ['user_id','tutor_academico_id', 'tutor_empresa_id','category_id', 'program_id' ], tipo= 'category') #las pasamos a tipo category\n",
    "fn.corregir_tipo(df= itinerarios, columnas= ['category_name', 'program_name'], tipo= 'string') #las pasamos a tipo string\n",
    "\n",
    "itinerarios['enroll_end'] = pd.to_datetime(itinerarios['enroll_end'], utc= True) #las pasamos a tipo date\n",
    "itinerarios['date_enroll'] = pd.to_datetime(itinerarios['date_enroll'], utc= True)\n",
    "\n",
    "fn.eliminar_unnamed(itinerarios) #eliminamos columnas unnamed\n",
    "itinerarios.rename(columns={'category_id':'itinerary_category_id', 'category_name':'itinerary_category_name'}, inplace = True) #le ponemos un nombre mas apropiado\n",
    "itinerarios.info() #correcto\n"
   ]
  },
  {
   "cell_type": "code",
   "execution_count": 107,
   "metadata": {},
   "outputs": [
    {
     "name": "stdout",
     "output_type": "stream",
     "text": [
      "<class 'pandas.core.frame.DataFrame'>\n",
      "RangeIndex: 3898 entries, 0 to 3897\n",
      "Data columns (total 8 columns):\n",
      " #   Column           Non-Null Count  Dtype  \n",
      "---  ------           --------------  -----  \n",
      " 0   enroll_grade_id  3898 non-null   int64  \n",
      " 1   active_flag      3898 non-null   int64  \n",
      " 2   course_id        3898 non-null   int64  \n",
      " 3   enroll_id        3898 non-null   int64  \n",
      " 4   grade            1475 non-null   float64\n",
      " 5   online_progress  1518 non-null   float64\n",
      " 6   course_name      3898 non-null   object \n",
      " 7   user_id          3898 non-null   int64  \n",
      "dtypes: float64(2), int64(5), object(1)\n",
      "memory usage: 243.8+ KB\n"
     ]
    }
   ],
   "source": [
    "#Notas_cursos\n",
    "notas_cursos.info()"
   ]
  },
  {
   "cell_type": "code",
   "execution_count": 108,
   "metadata": {},
   "outputs": [
    {
     "name": "stdout",
     "output_type": "stream",
     "text": [
      "<class 'pandas.core.frame.DataFrame'>\n",
      "RangeIndex: 3898 entries, 0 to 3897\n",
      "Data columns (total 8 columns):\n",
      " #   Column           Non-Null Count  Dtype   \n",
      "---  ------           --------------  -----   \n",
      " 0   enroll_grade_id  3898 non-null   category\n",
      " 1   active_flag      3898 non-null   bool    \n",
      " 2   course_id        3898 non-null   category\n",
      " 3   enroll_id        3898 non-null   category\n",
      " 4   grade            1475 non-null   float64 \n",
      " 5   online_progress  1518 non-null   float64 \n",
      " 6   course_name      3898 non-null   string  \n",
      " 7   user_id          3898 non-null   category\n",
      "dtypes: bool(1), category(4), float64(2), string(1)\n",
      "memory usage: 353.8 KB\n"
     ]
    }
   ],
   "source": [
    "fn.corregir_tipo(df= notas_cursos, columnas= ['active_flag'], tipo= 'bool') #las pasamos a tipo bool\n",
    "fn.corregir_tipo(df= notas_cursos, columnas= ['enroll_grade_id', 'course_id', 'enroll_id', 'user_id' ], tipo= 'category')\n",
    "fn.corregir_tipo(df= notas_cursos, columnas= ['course_name'], tipo= 'string')\n",
    "\n",
    "fn.eliminar_unnamed(notas_cursos) #eliminamos columnas unnamed\n",
    "notas_cursos.info() #correcto"
   ]
  },
  {
   "cell_type": "code",
   "execution_count": 109,
   "metadata": {},
   "outputs": [
    {
     "name": "stdout",
     "output_type": "stream",
     "text": [
      "<class 'pandas.core.frame.DataFrame'>\n",
      "RangeIndex: 4 entries, 0 to 3\n",
      "Data columns (total 2 columns):\n",
      " #   Column     Non-Null Count  Dtype \n",
      "---  ------     --------------  ----- \n",
      " 0   role_id    4 non-null      int64 \n",
      " 1   role_name  4 non-null      object\n",
      "dtypes: int64(1), object(1)\n",
      "memory usage: 192.0+ bytes\n"
     ]
    }
   ],
   "source": [
    "#Roles\n",
    "roles.info()"
   ]
  },
  {
   "cell_type": "code",
   "execution_count": 110,
   "metadata": {},
   "outputs": [
    {
     "name": "stdout",
     "output_type": "stream",
     "text": [
      "<class 'pandas.core.frame.DataFrame'>\n",
      "RangeIndex: 4 entries, 0 to 3\n",
      "Data columns (total 2 columns):\n",
      " #   Column     Non-Null Count  Dtype   \n",
      "---  ------     --------------  -----   \n",
      " 0   role_id    4 non-null      category\n",
      " 1   role_name  4 non-null      string  \n",
      "dtypes: category(1), string(1)\n",
      "memory usage: 356.0 bytes\n"
     ]
    }
   ],
   "source": [
    "fn.corregir_tipo(df= roles, columnas= ['role_id'], tipo= 'category') #las pasamos a tipo category\n",
    "fn.corregir_tipo(df= roles, columnas= ['role_name'], tipo= 'string')\n",
    "fn.eliminar_unnamed(roles) #eliminamos columnas unnamed\n",
    "roles.info() #correcto"
   ]
  },
  {
   "cell_type": "code",
   "execution_count": 111,
   "metadata": {},
   "outputs": [
    {
     "name": "stdout",
     "output_type": "stream",
     "text": [
      "<class 'pandas.core.frame.DataFrame'>\n",
      "RangeIndex: 18 entries, 0 to 17\n",
      "Data columns (total 2 columns):\n",
      " #   Column       Non-Null Count  Dtype \n",
      "---  ------       --------------  ----- \n",
      " 0   planta_id    18 non-null     int64 \n",
      " 1   planta_name  18 non-null     object\n",
      "dtypes: int64(1), object(1)\n",
      "memory usage: 416.0+ bytes\n"
     ]
    }
   ],
   "source": [
    "#Plantas\n",
    "plantas.info()"
   ]
  },
  {
   "cell_type": "code",
   "execution_count": 112,
   "metadata": {},
   "outputs": [
    {
     "name": "stdout",
     "output_type": "stream",
     "text": [
      "<class 'pandas.core.frame.DataFrame'>\n",
      "RangeIndex: 18 entries, 0 to 17\n",
      "Data columns (total 2 columns):\n",
      " #   Column       Non-Null Count  Dtype   \n",
      "---  ------       --------------  -----   \n",
      " 0   planta_id    18 non-null     category\n",
      " 1   planta_name  18 non-null     string  \n",
      "dtypes: category(1), string(1)\n",
      "memory usage: 1.0 KB\n"
     ]
    }
   ],
   "source": [
    "fn.corregir_tipo(df= plantas, columnas= ['planta_id'], tipo= 'category') #las pasamos a tipo category\n",
    "fn.corregir_tipo(df= plantas, columnas= ['planta_name'], tipo= 'string')\n",
    "fn.eliminar_unnamed(plantas) #eliminamos columnas unnamed\n",
    "plantas.info()"
   ]
  },
  {
   "cell_type": "code",
   "execution_count": 113,
   "metadata": {},
   "outputs": [
    {
     "name": "stdout",
     "output_type": "stream",
     "text": [
      "<class 'pandas.core.frame.DataFrame'>\n",
      "Int64Index: 8254 entries, 0 to 8815\n",
      "Data columns (total 4 columns):\n",
      " #   Column       Non-Null Count  Dtype \n",
      "---  ------       --------------  ----- \n",
      " 0   description  8254 non-null   object\n",
      " 1   timestamp    8254 non-null   object\n",
      " 2   mdl_user_id  8254 non-null   int64 \n",
      " 3   user_id      8254 non-null   int64 \n",
      "dtypes: int64(2), object(2)\n",
      "memory usage: 322.4+ KB\n"
     ]
    }
   ],
   "source": [
    "#Accesos\n",
    "accesos.info()"
   ]
  },
  {
   "cell_type": "code",
   "execution_count": 114,
   "metadata": {},
   "outputs": [
    {
     "name": "stdout",
     "output_type": "stream",
     "text": [
      "<class 'pandas.core.frame.DataFrame'>\n",
      "Int64Index: 8254 entries, 0 to 8815\n",
      "Data columns (total 4 columns):\n",
      " #   Column       Non-Null Count  Dtype              \n",
      "---  ------       --------------  -----              \n",
      " 0   description  8254 non-null   string             \n",
      " 1   timestamp    8254 non-null   datetime64[ns, UTC]\n",
      " 2   mdl_user_id  8254 non-null   category           \n",
      " 3   user_id      8254 non-null   category           \n",
      "dtypes: category(2), datetime64[ns, UTC](1), string(1)\n",
      "memory usage: 238.7 KB\n"
     ]
    }
   ],
   "source": [
    "fn.corregir_tipo(df= accesos, columnas= ['mdl_user_id', 'user_id'], tipo= 'category') #las pasamos a tipo category\n",
    "fn.corregir_tipo(df= accesos, columnas= ['description'], tipo= 'string')\n",
    "fn.eliminar_unnamed(accesos) #eliminamos columnas unnamed\n",
    "accesos['timestamp'] = pd.to_datetime(accesos['timestamp'], utc= True)\n",
    "accesos.info() #correcto"
   ]
  },
  {
   "cell_type": "code",
   "execution_count": 115,
   "metadata": {},
   "outputs": [
    {
     "name": "stdout",
     "output_type": "stream",
     "text": [
      "<class 'pandas.core.frame.DataFrame'>\n",
      "RangeIndex: 372 entries, 0 to 371\n",
      "Data columns (total 3 columns):\n",
      " #   Column         Non-Null Count  Dtype \n",
      "---  ------         --------------  ----- \n",
      " 0   mdl_user_id    372 non-null    int64 \n",
      " 1   1er acceso     372 non-null    object\n",
      " 2   ultimo acceso  372 non-null    object\n",
      "dtypes: int64(1), object(2)\n",
      "memory usage: 8.8+ KB\n"
     ]
    }
   ],
   "source": [
    "#Acceso_1ero_ultimo\n",
    "acceso_1ero_ultimo.info()"
   ]
  },
  {
   "cell_type": "code",
   "execution_count": 116,
   "metadata": {},
   "outputs": [
    {
     "name": "stdout",
     "output_type": "stream",
     "text": [
      "<class 'pandas.core.frame.DataFrame'>\n",
      "RangeIndex: 372 entries, 0 to 371\n",
      "Data columns (total 3 columns):\n",
      " #   Column         Non-Null Count  Dtype              \n",
      "---  ------         --------------  -----              \n",
      " 0   mdl_user_id    372 non-null    category           \n",
      " 1   1er acceso     295 non-null    datetime64[ns, UTC]\n",
      " 2   ultimo acceso  295 non-null    datetime64[ns, UTC]\n",
      "dtypes: category(1), datetime64[ns, UTC](2)\n",
      "memory usage: 19.6 KB\n"
     ]
    }
   ],
   "source": [
    "#Acceso_1ero_ultimo\n",
    "fn.eliminar_dias(df= acceso_1ero_ultimo , columna= '1er acceso') #convertimos las fechas de texto a numerico, primero eliminando el dia de la semana\n",
    "fn.eliminar_dias(df= acceso_1ero_ultimo , columna= 'ultimo acceso')\n",
    "locale.setlocale(locale.LC_ALL, 'esp_esp') #cambiamos el idioma\n",
    "fn.fecha_texto(acceso_1ero_ultimo, '1er acceso')\n",
    "fn.fecha_texto(acceso_1ero_ultimo, 'ultimo acceso')\n",
    "\n",
    "fn.corregir_tipo(df= acceso_1ero_ultimo, columnas= ['mdl_user_id'], tipo= 'category') #las pasamos a tipo category\n",
    "acceso_1ero_ultimo['1er acceso'] = pd.to_datetime(acceso_1ero_ultimo['1er acceso'], utc= True) #a tipo datetime\n",
    "acceso_1ero_ultimo['ultimo acceso'] = pd.to_datetime(acceso_1ero_ultimo['1er acceso'], utc= True)\n",
    "fn.eliminar_unnamed(accesos) #eliminamos columnas unnamed\n",
    "acceso_1ero_ultimo.info()"
   ]
  },
  {
   "cell_type": "code",
   "execution_count": 117,
   "metadata": {},
   "outputs": [
    {
     "name": "stdout",
     "output_type": "stream",
     "text": [
      "<class 'pandas.core.frame.DataFrame'>\n",
      "RangeIndex: 3464 entries, 0 to 3463\n",
      "Data columns (total 7 columns):\n",
      " #   Column          Non-Null Count  Dtype  \n",
      "---  ------          --------------  -----  \n",
      " 0   mdl_user_id     3464 non-null   int64  \n",
      " 1   course_name     3464 non-null   object \n",
      " 2   course_id       3464 non-null   int64  \n",
      " 3   category        3464 non-null   object \n",
      " 4   actividad_name  3460 non-null   object \n",
      " 5   grade           2114 non-null   float64\n",
      " 6   time            2129 non-null   object \n",
      "dtypes: float64(1), int64(2), object(4)\n",
      "memory usage: 189.6+ KB\n"
     ]
    }
   ],
   "source": [
    "#Actividades\n",
    "actividades.info()"
   ]
  },
  {
   "cell_type": "code",
   "execution_count": 118,
   "metadata": {},
   "outputs": [
    {
     "name": "stdout",
     "output_type": "stream",
     "text": [
      "<class 'pandas.core.frame.DataFrame'>\n",
      "RangeIndex: 3464 entries, 0 to 3463\n",
      "Data columns (total 7 columns):\n",
      " #   Column              Non-Null Count  Dtype              \n",
      "---  ------              --------------  -----              \n",
      " 0   mdl_user_id         3464 non-null   category           \n",
      " 1   course_name         3464 non-null   string             \n",
      " 2   course_id           3464 non-null   category           \n",
      " 3   course_category_id  3464 non-null   category           \n",
      " 4   actividad_name      3460 non-null   string             \n",
      " 5   grade               2114 non-null   float64            \n",
      " 6   time                2129 non-null   datetime64[ns, UTC]\n",
      "dtypes: category(3), datetime64[ns, UTC](1), float64(1), string(2)\n",
      "memory usage: 131.9 KB\n"
     ]
    }
   ],
   "source": [
    "fn.corregir_tipo(df= actividades, columnas= ['mdl_user_id', 'course_id', 'category'], tipo= 'category') #las pasamos a tipo category\n",
    "fn.corregir_tipo(df= actividades, columnas= ['course_name', 'actividad_name'], tipo= 'string')\n",
    "actividades['time'] = pd.to_datetime(actividades['time'], utc= True) #a tipo datetime\n",
    "\n",
    "fn.eliminar_unnamed(actividades) #eliminamos columnas unnamed\n",
    "actividades.rename(columns = {'category': 'course_category_id'}, inplace= True) #le ponemos el mismo nombre que en las otras tablas ya que es la misma variable\n",
    "actividades.info()"
   ]
  },
  {
   "cell_type": "markdown",
   "metadata": {},
   "source": [
    "# Estadisticos"
   ]
  },
  {
   "cell_type": "code",
   "execution_count": 119,
   "metadata": {},
   "outputs": [],
   "source": [
    "#Usuarios\n",
    "usuarios.shape #dimensiones (420, 12)\n",
    "usuarios.columns\n",
    "usuarios.describe() #son todas variables discretas\n",
    "usuarios['language'].value_counts().to_frame()\n",
    "usuarios['planta_name'].value_counts().to_frame() \n",
    "usuarios.loc[usuarios['planta_name'] == 'MT Aretxabal', 'planta_name'] = 'MT Aretxabaleta' #renombramos MT Aretxabal a MT Aretxabaleta\n",
    "\n"
   ]
  },
  {
   "cell_type": "code",
   "execution_count": 120,
   "metadata": {},
   "outputs": [
    {
     "data": {
      "text/html": [
       "<div>\n",
       "<style scoped>\n",
       "    .dataframe tbody tr th:only-of-type {\n",
       "        vertical-align: middle;\n",
       "    }\n",
       "\n",
       "    .dataframe tbody tr th {\n",
       "        vertical-align: top;\n",
       "    }\n",
       "\n",
       "    .dataframe thead th {\n",
       "        text-align: right;\n",
       "    }\n",
       "</style>\n",
       "<table border=\"1\" class=\"dataframe\">\n",
       "  <thead>\n",
       "    <tr style=\"text-align: right;\">\n",
       "      <th></th>\n",
       "      <th>perfil_name</th>\n",
       "    </tr>\n",
       "  </thead>\n",
       "  <tbody>\n",
       "    <tr>\n",
       "      <th>Tutor empresa</th>\n",
       "      <td>67</td>\n",
       "    </tr>\n",
       "    <tr>\n",
       "      <th>Instructor</th>\n",
       "      <td>27</td>\n",
       "    </tr>\n",
       "    <tr>\n",
       "      <th>Gestor de empresa</th>\n",
       "      <td>22</td>\n",
       "    </tr>\n",
       "    <tr>\n",
       "      <th>Tutor académico</th>\n",
       "      <td>2</td>\n",
       "    </tr>\n",
       "  </tbody>\n",
       "</table>\n",
       "</div>"
      ],
      "text/plain": [
       "                   perfil_name\n",
       "Tutor empresa               67\n",
       "Instructor                  27\n",
       "Gestor de empresa           22\n",
       "Tutor académico              2"
      ]
     },
     "execution_count": 120,
     "metadata": {},
     "output_type": "execute_result"
    }
   ],
   "source": [
    "#Tutores_perfil\n",
    "tutores_perfil.shape #dimensiones (188, 3)\n",
    "tutores_perfil.columns\n",
    "tutores_perfil.describe() #son todas variables discretas\n",
    "tutores_perfil['perfil_name'].value_counts().to_frame()"
   ]
  },
  {
   "cell_type": "code",
   "execution_count": 121,
   "metadata": {},
   "outputs": [
    {
     "data": {
      "text/html": [
       "<div>\n",
       "<style scoped>\n",
       "    .dataframe tbody tr th:only-of-type {\n",
       "        vertical-align: middle;\n",
       "    }\n",
       "\n",
       "    .dataframe tbody tr th {\n",
       "        vertical-align: top;\n",
       "    }\n",
       "\n",
       "    .dataframe thead th {\n",
       "        text-align: right;\n",
       "    }\n",
       "</style>\n",
       "<table border=\"1\" class=\"dataframe\">\n",
       "  <thead>\n",
       "    <tr style=\"text-align: right;\">\n",
       "      <th></th>\n",
       "      <th>categoria_conocimiento_name</th>\n",
       "    </tr>\n",
       "  </thead>\n",
       "  <tbody>\n",
       "    <tr>\n",
       "      <th>TÉCNICOS/TECNOLÓGICOS ABP</th>\n",
       "      <td>24</td>\n",
       "    </tr>\n",
       "    <tr>\n",
       "      <th>GESTION</th>\n",
       "      <td>22</td>\n",
       "    </tr>\n",
       "    <tr>\n",
       "      <th>ACOGIDA</th>\n",
       "      <td>16</td>\n",
       "    </tr>\n",
       "    <tr>\n",
       "      <th>TÉCNICO / TECNOLÓGICO MT - REFERENCIAS</th>\n",
       "      <td>16</td>\n",
       "    </tr>\n",
       "    <tr>\n",
       "      <th>DUAL</th>\n",
       "      <td>15</td>\n",
       "    </tr>\n",
       "    <tr>\n",
       "      <th>TÉCNICOS</th>\n",
       "      <td>8</td>\n",
       "    </tr>\n",
       "    <tr>\n",
       "      <th>PERSONALES</th>\n",
       "      <td>8</td>\n",
       "    </tr>\n",
       "    <tr>\n",
       "      <th>Técnico Tecnologico ABP Referencias</th>\n",
       "      <td>5</td>\n",
       "    </tr>\n",
       "    <tr>\n",
       "      <th>TÉCNICO / TECNOLÓGICO MT</th>\n",
       "      <td>4</td>\n",
       "    </tr>\n",
       "    <tr>\n",
       "      <th>SOCIETARIOS</th>\n",
       "      <td>4</td>\n",
       "    </tr>\n",
       "    <tr>\n",
       "      <th>GENERALES</th>\n",
       "      <td>3</td>\n",
       "    </tr>\n",
       "    <tr>\n",
       "      <th>Técnico / Tecnológico LPPFE</th>\n",
       "      <td>3</td>\n",
       "    </tr>\n",
       "    <tr>\n",
       "      <th>TÉCNICOS/TECNOLÓGICOS FET</th>\n",
       "      <td>2</td>\n",
       "    </tr>\n",
       "    <tr>\n",
       "      <th>TÉCNICOS/TECNOLÓGICOS ABP2</th>\n",
       "      <td>1</td>\n",
       "    </tr>\n",
       "    <tr>\n",
       "      <th>MECANIZADO 44164571V</th>\n",
       "      <td>1</td>\n",
       "    </tr>\n",
       "    <tr>\n",
       "      <th>ACABADO - Tratamiento Térmico</th>\n",
       "      <td>1</td>\n",
       "    </tr>\n",
       "  </tbody>\n",
       "</table>\n",
       "</div>"
      ],
      "text/plain": [
       "                                         categoria_conocimiento_name\n",
       "TÉCNICOS/TECNOLÓGICOS ABP                                         24\n",
       "GESTION                                                           22\n",
       "ACOGIDA                                                           16\n",
       "TÉCNICO / TECNOLÓGICO MT - REFERENCIAS                            16\n",
       "DUAL                                                              15\n",
       "TÉCNICOS                                                           8\n",
       "PERSONALES                                                         8\n",
       "Técnico Tecnologico ABP Referencias                                5\n",
       "TÉCNICO / TECNOLÓGICO MT                                           4\n",
       "SOCIETARIOS                                                        4\n",
       "GENERALES                                                          3\n",
       "Técnico / Tecnológico LPPFE                                        3\n",
       "TÉCNICOS/TECNOLÓGICOS FET                                          2\n",
       "TÉCNICOS/TECNOLÓGICOS ABP2                                         1\n",
       "MECANIZADO 44164571V                                               1\n",
       "ACABADO - Tratamiento Térmico                                      1"
      ]
     },
     "execution_count": 121,
     "metadata": {},
     "output_type": "execute_result"
    }
   ],
   "source": [
    "#Conocimientos\n",
    "conocimientos.shape #dimensiones (155, 5)\n",
    "conocimientos.columns\n",
    "conocimientos.describe()\n",
    "conocimientos['created_by'].value_counts().to_frame()\n",
    "conocimientos['categoria_conocimiento_name'].value_counts().to_frame()\n"
   ]
  },
  {
   "cell_type": "code",
   "execution_count": 122,
   "metadata": {},
   "outputs": [
    {
     "data": {
      "text/html": [
       "<div>\n",
       "<style scoped>\n",
       "    .dataframe tbody tr th:only-of-type {\n",
       "        vertical-align: middle;\n",
       "    }\n",
       "\n",
       "    .dataframe tbody tr th {\n",
       "        vertical-align: top;\n",
       "    }\n",
       "\n",
       "    .dataframe thead th {\n",
       "        text-align: right;\n",
       "    }\n",
       "</style>\n",
       "<table border=\"1\" class=\"dataframe\">\n",
       "  <thead>\n",
       "    <tr style=\"text-align: right;\">\n",
       "      <th></th>\n",
       "      <th>course_category_id</th>\n",
       "    </tr>\n",
       "  </thead>\n",
       "  <tbody>\n",
       "    <tr>\n",
       "      <th>3</th>\n",
       "      <td>32</td>\n",
       "    </tr>\n",
       "    <tr>\n",
       "      <th>27</th>\n",
       "      <td>20</td>\n",
       "    </tr>\n",
       "    <tr>\n",
       "      <th>24</th>\n",
       "      <td>20</td>\n",
       "    </tr>\n",
       "    <tr>\n",
       "      <th>7</th>\n",
       "      <td>17</td>\n",
       "    </tr>\n",
       "    <tr>\n",
       "      <th>45</th>\n",
       "      <td>14</td>\n",
       "    </tr>\n",
       "    <tr>\n",
       "      <th>44</th>\n",
       "      <td>11</td>\n",
       "    </tr>\n",
       "    <tr>\n",
       "      <th>5</th>\n",
       "      <td>9</td>\n",
       "    </tr>\n",
       "    <tr>\n",
       "      <th>35</th>\n",
       "      <td>8</td>\n",
       "    </tr>\n",
       "    <tr>\n",
       "      <th>42</th>\n",
       "      <td>3</td>\n",
       "    </tr>\n",
       "    <tr>\n",
       "      <th>23</th>\n",
       "      <td>2</td>\n",
       "    </tr>\n",
       "    <tr>\n",
       "      <th>40</th>\n",
       "      <td>1</td>\n",
       "    </tr>\n",
       "    <tr>\n",
       "      <th>18</th>\n",
       "      <td>1</td>\n",
       "    </tr>\n",
       "    <tr>\n",
       "      <th>0</th>\n",
       "      <td>1</td>\n",
       "    </tr>\n",
       "  </tbody>\n",
       "</table>\n",
       "</div>"
      ],
      "text/plain": [
       "    course_category_id\n",
       "3                   32\n",
       "27                  20\n",
       "24                  20\n",
       "7                   17\n",
       "45                  14\n",
       "44                  11\n",
       "5                    9\n",
       "35                   8\n",
       "42                   3\n",
       "23                   2\n",
       "40                   1\n",
       "18                   1\n",
       "0                    1"
      ]
     },
     "execution_count": 122,
     "metadata": {},
     "output_type": "execute_result"
    }
   ],
   "source": [
    "#Cursos\n",
    "cursos.shape #dimensiones (139, 5)\n",
    "cursos.columns\n",
    "cursos.describe(include=['object', 'category'])\n",
    "cursos['hours'].describe()\n",
    "cursos['course_category_id'].value_counts().to_frame()"
   ]
  },
  {
   "cell_type": "code",
   "execution_count": 123,
   "metadata": {},
   "outputs": [
    {
     "data": {
      "text/html": [
       "<div>\n",
       "<style scoped>\n",
       "    .dataframe tbody tr th:only-of-type {\n",
       "        vertical-align: middle;\n",
       "    }\n",
       "\n",
       "    .dataframe tbody tr th {\n",
       "        vertical-align: top;\n",
       "    }\n",
       "\n",
       "    .dataframe thead th {\n",
       "        text-align: right;\n",
       "    }\n",
       "</style>\n",
       "<table border=\"1\" class=\"dataframe\">\n",
       "  <thead>\n",
       "    <tr style=\"text-align: right;\">\n",
       "      <th></th>\n",
       "      <th>program_category_id</th>\n",
       "    </tr>\n",
       "  </thead>\n",
       "  <tbody>\n",
       "    <tr>\n",
       "      <th>TÉCNICO</th>\n",
       "      <td>57</td>\n",
       "    </tr>\n",
       "    <tr>\n",
       "      <th>DUAL</th>\n",
       "      <td>24</td>\n",
       "    </tr>\n",
       "    <tr>\n",
       "      <th>SOPORTE&amp;OPERARIO</th>\n",
       "      <td>13</td>\n",
       "    </tr>\n",
       "    <tr>\n",
       "      <th>GESTIÓN</th>\n",
       "      <td>5</td>\n",
       "    </tr>\n",
       "    <tr>\n",
       "      <th>ESPECIALISTA</th>\n",
       "      <td>5</td>\n",
       "    </tr>\n",
       "    <tr>\n",
       "      <th>FORMACIÓN</th>\n",
       "      <td>4</td>\n",
       "    </tr>\n",
       "    <tr>\n",
       "      <th>PROFESIONAL</th>\n",
       "      <td>1</td>\n",
       "    </tr>\n",
       "  </tbody>\n",
       "</table>\n",
       "</div>"
      ],
      "text/plain": [
       "                  program_category_id\n",
       "TÉCNICO                            57\n",
       "DUAL                               24\n",
       "SOPORTE&OPERARIO                   13\n",
       "GESTIÓN                             5\n",
       "ESPECIALISTA                        5\n",
       "FORMACIÓN                           4\n",
       "PROFESIONAL                         1"
      ]
     },
     "execution_count": 123,
     "metadata": {},
     "output_type": "execute_result"
    }
   ],
   "source": [
    "#Programas\n",
    "programas.shape #dimensiones (110, 3)\n",
    "programas.columns\n",
    "programas.describe()\n",
    "programas['program_category_id'].value_counts().to_frame()"
   ]
  },
  {
   "cell_type": "code",
   "execution_count": 124,
   "metadata": {},
   "outputs": [
    {
     "data": {
      "text/html": [
       "<div>\n",
       "<style scoped>\n",
       "    .dataframe tbody tr th:only-of-type {\n",
       "        vertical-align: middle;\n",
       "    }\n",
       "\n",
       "    .dataframe tbody tr th {\n",
       "        vertical-align: top;\n",
       "    }\n",
       "\n",
       "    .dataframe thead th {\n",
       "        text-align: right;\n",
       "    }\n",
       "</style>\n",
       "<table border=\"1\" class=\"dataframe\">\n",
       "  <thead>\n",
       "    <tr style=\"text-align: right;\">\n",
       "      <th></th>\n",
       "      <th>program_name</th>\n",
       "    </tr>\n",
       "  </thead>\n",
       "  <tbody>\n",
       "    <tr>\n",
       "      <th>Maquinista Mecanizados Autogestión MT</th>\n",
       "      <td>18</td>\n",
       "    </tr>\n",
       "    <tr>\n",
       "      <th>TÉCNICO DEMO 72535972K</th>\n",
       "      <td>15</td>\n",
       "    </tr>\n",
       "    <tr>\n",
       "      <th>Maquinista Mecanizado ABP Bergara</th>\n",
       "      <td>11</td>\n",
       "    </tr>\n",
       "    <tr>\n",
       "      <th>PERTSONALAK</th>\n",
       "      <td>9</td>\n",
       "    </tr>\n",
       "    <tr>\n",
       "      <th>prueba_na</th>\n",
       "      <td>8</td>\n",
       "    </tr>\n",
       "    <tr>\n",
       "      <th>Control Visual Mec ABP</th>\n",
       "      <td>7</td>\n",
       "    </tr>\n",
       "    <tr>\n",
       "      <th>prueba_na2</th>\n",
       "      <td>7</td>\n",
       "    </tr>\n",
       "    <tr>\n",
       "      <th>pruebas_01</th>\n",
       "      <td>6</td>\n",
       "    </tr>\n",
       "    <tr>\n",
       "      <th>Tratamiento Térmico ABP Arrasate</th>\n",
       "      <td>6</td>\n",
       "    </tr>\n",
       "    <tr>\n",
       "      <th>Tratamiento Térmico ABP Bergara</th>\n",
       "      <td>6</td>\n",
       "    </tr>\n",
       "    <tr>\n",
       "      <th>iti ciclo dual v2</th>\n",
       "      <td>6</td>\n",
       "    </tr>\n",
       "    <tr>\n",
       "      <th>Operario de Tratamiento Térmico ABP Bergara</th>\n",
       "      <td>6</td>\n",
       "    </tr>\n",
       "    <tr>\n",
       "      <th>Operario Control Final UKL</th>\n",
       "      <td>6</td>\n",
       "    </tr>\n",
       "    <tr>\n",
       "      <th>Operario de Acabados LPC</th>\n",
       "      <td>5</td>\n",
       "    </tr>\n",
       "    <tr>\n",
       "      <th>Produkzio Ingeniaritzako Teknikaria - LPPFE Mek</th>\n",
       "      <td>5</td>\n",
       "    </tr>\n",
       "    <tr>\n",
       "      <th>Operario de Fusión ABP Bergara</th>\n",
       "      <td>5</td>\n",
       "    </tr>\n",
       "    <tr>\n",
       "      <th>Sergio</th>\n",
       "      <td>5</td>\n",
       "    </tr>\n",
       "    <tr>\n",
       "      <th>Programa PILOTO</th>\n",
       "      <td>5</td>\n",
       "    </tr>\n",
       "    <tr>\n",
       "      <th>Operario Control Final CBI</th>\n",
       "      <td>5</td>\n",
       "    </tr>\n",
       "    <tr>\n",
       "      <th>Operario Control Final LPC</th>\n",
       "      <td>5</td>\n",
       "    </tr>\n",
       "    <tr>\n",
       "      <th>Maquinista Mecanizados LPPFe</th>\n",
       "      <td>5</td>\n",
       "    </tr>\n",
       "    <tr>\n",
       "      <th>ITI CICLO DUAL 2019-2020</th>\n",
       "      <td>5</td>\n",
       "    </tr>\n",
       "    <tr>\n",
       "      <th>TECNICO DEMO_2 16280334Z</th>\n",
       "      <td>4</td>\n",
       "    </tr>\n",
       "    <tr>\n",
       "      <th>Programa PILOTO 2</th>\n",
       "      <td>4</td>\n",
       "    </tr>\n",
       "    <tr>\n",
       "      <th>Maquinista Mecanizado ABP ARRASATE</th>\n",
       "      <td>4</td>\n",
       "    </tr>\n",
       "    <tr>\n",
       "      <th>ITI GRADO DUAL 2019-2020</th>\n",
       "      <td>4</td>\n",
       "    </tr>\n",
       "    <tr>\n",
       "      <th>TecnicoDemo 72843595L</th>\n",
       "      <td>4</td>\n",
       "    </tr>\n",
       "    <tr>\n",
       "      <th>ITI GRADO DUAL 2020-2021</th>\n",
       "      <td>3</td>\n",
       "    </tr>\n",
       "    <tr>\n",
       "      <th>TECNICO DEMO_2 72471737W</th>\n",
       "      <td>3</td>\n",
       "    </tr>\n",
       "    <tr>\n",
       "      <th>TÉCNICO DEMO_2 72446579Y</th>\n",
       "      <td>3</td>\n",
       "    </tr>\n",
       "    <tr>\n",
       "      <th>TÉCNICO DEMO 44164571V</th>\n",
       "      <td>3</td>\n",
       "    </tr>\n",
       "    <tr>\n",
       "      <th>TECNICO DEMO 15366607P</th>\n",
       "      <td>3</td>\n",
       "    </tr>\n",
       "    <tr>\n",
       "      <th>TECNICO DEMO 2 15366607P</th>\n",
       "      <td>3</td>\n",
       "    </tr>\n",
       "    <tr>\n",
       "      <th>TÉCNICO DEMO 72535392J</th>\n",
       "      <td>3</td>\n",
       "    </tr>\n",
       "    <tr>\n",
       "      <th>TÉCNICO DEMO_2 15243686E</th>\n",
       "      <td>3</td>\n",
       "    </tr>\n",
       "    <tr>\n",
       "      <th>TÉCNICO DEMO_2 72721410X</th>\n",
       "      <td>3</td>\n",
       "    </tr>\n",
       "    <tr>\n",
       "      <th>TÉCNICO DEMO_2 72602115Q</th>\n",
       "      <td>3</td>\n",
       "    </tr>\n",
       "    <tr>\n",
       "      <th>TÉCNICO DEMO_2 72843595L</th>\n",
       "      <td>3</td>\n",
       "    </tr>\n",
       "    <tr>\n",
       "      <th>TÉCNICO DEMO_2 15380855L</th>\n",
       "      <td>3</td>\n",
       "    </tr>\n",
       "    <tr>\n",
       "      <th>TÉCNICO DEMO_2 44333161V</th>\n",
       "      <td>3</td>\n",
       "    </tr>\n",
       "    <tr>\n",
       "      <th>TÉCNICO DEMO_2 22762525T</th>\n",
       "      <td>3</td>\n",
       "    </tr>\n",
       "    <tr>\n",
       "      <th>Control Visual Bruto</th>\n",
       "      <td>3</td>\n",
       "    </tr>\n",
       "    <tr>\n",
       "      <th>Operario de Macheria LPC</th>\n",
       "      <td>3</td>\n",
       "    </tr>\n",
       "    <tr>\n",
       "      <th>TECNICO DEMO 22762525T</th>\n",
       "      <td>3</td>\n",
       "    </tr>\n",
       "    <tr>\n",
       "      <th>TECNICO DEMO_2 72602115Q</th>\n",
       "      <td>3</td>\n",
       "    </tr>\n",
       "    <tr>\n",
       "      <th>TECNICO DEMO 72602115Q</th>\n",
       "      <td>3</td>\n",
       "    </tr>\n",
       "    <tr>\n",
       "      <th>TÉCNICO DEMO_2 44164571V</th>\n",
       "      <td>3</td>\n",
       "    </tr>\n",
       "    <tr>\n",
       "      <th>TECNICO DEMO_2 15399844X</th>\n",
       "      <td>3</td>\n",
       "    </tr>\n",
       "    <tr>\n",
       "      <th>TÉCNICO DEMO_2 DNI</th>\n",
       "      <td>3</td>\n",
       "    </tr>\n",
       "    <tr>\n",
       "      <th>TÉCNICO DEMO 72525972K</th>\n",
       "      <td>3</td>\n",
       "    </tr>\n",
       "    <tr>\n",
       "      <th>DEMO 2021/02</th>\n",
       "      <td>3</td>\n",
       "    </tr>\n",
       "    <tr>\n",
       "      <th>TECNICO DEMO 15399844X</th>\n",
       "      <td>2</td>\n",
       "    </tr>\n",
       "    <tr>\n",
       "      <th>prueba_02</th>\n",
       "      <td>1</td>\n",
       "    </tr>\n",
       "    <tr>\n",
       "      <th>Gestor plataforma EDERJAKIN</th>\n",
       "      <td>1</td>\n",
       "    </tr>\n",
       "    <tr>\n",
       "      <th>prueba_na_v2</th>\n",
       "      <td>1</td>\n",
       "    </tr>\n",
       "  </tbody>\n",
       "</table>\n",
       "</div>"
      ],
      "text/plain": [
       "                                                 program_name\n",
       "Maquinista Mecanizados Autogestión MT                      18\n",
       "TÉCNICO DEMO 72535972K                                     15\n",
       "Maquinista Mecanizado ABP Bergara                          11\n",
       "PERTSONALAK                                                 9\n",
       "prueba_na                                                   8\n",
       "Control Visual Mec ABP                                      7\n",
       "prueba_na2                                                  7\n",
       "pruebas_01                                                  6\n",
       "Tratamiento Térmico ABP Arrasate                            6\n",
       "Tratamiento Térmico ABP Bergara                             6\n",
       "iti ciclo dual v2                                           6\n",
       "Operario de Tratamiento Térmico ABP Bergara                 6\n",
       "Operario Control Final UKL                                  6\n",
       "Operario de Acabados LPC                                    5\n",
       "Produkzio Ingeniaritzako Teknikaria - LPPFE Mek             5\n",
       "Operario de Fusión ABP Bergara                              5\n",
       "Sergio                                                      5\n",
       "Programa PILOTO                                             5\n",
       "Operario Control Final CBI                                  5\n",
       "Operario Control Final LPC                                  5\n",
       "Maquinista Mecanizados LPPFe                                5\n",
       "ITI CICLO DUAL 2019-2020                                    5\n",
       "TECNICO DEMO_2 16280334Z                                    4\n",
       "Programa PILOTO 2                                           4\n",
       "Maquinista Mecanizado ABP ARRASATE                          4\n",
       "ITI GRADO DUAL 2019-2020                                    4\n",
       "TecnicoDemo 72843595L                                       4\n",
       "ITI GRADO DUAL 2020-2021                                    3\n",
       "TECNICO DEMO_2 72471737W                                    3\n",
       "TÉCNICO DEMO_2 72446579Y                                    3\n",
       "TÉCNICO DEMO 44164571V                                      3\n",
       "TECNICO DEMO 15366607P                                      3\n",
       "TECNICO DEMO 2 15366607P                                    3\n",
       "TÉCNICO DEMO 72535392J                                      3\n",
       "TÉCNICO DEMO_2 15243686E                                    3\n",
       "TÉCNICO DEMO_2 72721410X                                    3\n",
       "TÉCNICO DEMO_2 72602115Q                                    3\n",
       "TÉCNICO DEMO_2 72843595L                                    3\n",
       "TÉCNICO DEMO_2 15380855L                                    3\n",
       "TÉCNICO DEMO_2 44333161V                                    3\n",
       "TÉCNICO DEMO_2 22762525T                                    3\n",
       "Control Visual Bruto                                        3\n",
       "Operario de Macheria LPC                                    3\n",
       "TECNICO DEMO 22762525T                                      3\n",
       "TECNICO DEMO_2 72602115Q                                    3\n",
       "TECNICO DEMO 72602115Q                                      3\n",
       "TÉCNICO DEMO_2 44164571V                                    3\n",
       "TECNICO DEMO_2 15399844X                                    3\n",
       "TÉCNICO DEMO_2 DNI                                          3\n",
       "TÉCNICO DEMO 72525972K                                      3\n",
       "DEMO 2021/02                                                3\n",
       "TECNICO DEMO 15399844X                                      2\n",
       "prueba_02                                                   1\n",
       "Gestor plataforma EDERJAKIN                                 1\n",
       "prueba_na_v2                                                1"
      ]
     },
     "execution_count": 124,
     "metadata": {},
     "output_type": "execute_result"
    }
   ],
   "source": [
    "#Cursos en programas\n",
    "cursos_en_programas.shape #dimensiones (253, 8)\n",
    "cursos_en_programas.columns\n",
    "cursos_en_programas.describe(include=['category', 'object'])\n",
    "cursos_en_programas['course_moodle_name'].value_counts().to_frame()\n",
    "cursos_en_programas['conocimiento_name'].value_counts().to_frame()\n",
    "cursos_en_programas['num_periodo'].value_counts().to_frame()\n",
    "cursos_en_programas['program_name'].value_counts().to_frame()\n",
    "\n"
   ]
  },
  {
   "cell_type": "code",
   "execution_count": 125,
   "metadata": {},
   "outputs": [],
   "source": [
    "#Itinerarios\n",
    "itinerarios.shape #dimensiones (467, 10)\n",
    "itinerarios.columns\n",
    "itinerarios.describe(include=['category', 'object', 'bool'])\n",
    "itinerarios.describe(include=['datetime64[ns, UTC]'])\n",
    "\n",
    "#hacemos una nueva variable para saber la duracion del programa\n",
    "itinerarios['duracion'] = itinerarios['enroll_end'] - itinerarios['date_enroll']\n",
    "itinerarios.describe(include=['timedelta64[ns]']) #tenemos duraciones por debajo de cero, quiere decir que el date_enroll de algunos programas ocurre despues que el enroll_end, es imposible\n",
    "itinerarios[itinerarios['duracion'] < '0 days'] #intercambiamos los valores las dos columnas en esas dos filas\n",
    "\n",
    "fecha = itinerarios.loc[96, 'date_enroll']\n",
    "itinerarios.loc[96, 'date_enroll'] = itinerarios.loc[96, 'enroll_end']\n",
    "itinerarios.loc[96, 'enroll_end'] = fecha\n",
    "\n",
    "fecha = itinerarios.loc[317, 'date_enroll']\n",
    "itinerarios.loc[317, 'date_enroll'] = itinerarios.loc[317, 'enroll_end']\n",
    "itinerarios.loc[317, 'enroll_end'] = fecha"
   ]
  },
  {
   "cell_type": "code",
   "execution_count": 126,
   "metadata": {},
   "outputs": [
    {
     "data": {
      "text/html": [
       "<div>\n",
       "<style scoped>\n",
       "    .dataframe tbody tr th:only-of-type {\n",
       "        vertical-align: middle;\n",
       "    }\n",
       "\n",
       "    .dataframe tbody tr th {\n",
       "        vertical-align: top;\n",
       "    }\n",
       "\n",
       "    .dataframe thead th {\n",
       "        text-align: right;\n",
       "    }\n",
       "</style>\n",
       "<table border=\"1\" class=\"dataframe\">\n",
       "  <thead>\n",
       "    <tr style=\"text-align: right;\">\n",
       "      <th></th>\n",
       "      <th>active_flag</th>\n",
       "      <th>itinerary_category_id</th>\n",
       "      <th>date_enroll</th>\n",
       "      <th>enroll_end</th>\n",
       "      <th>program_id</th>\n",
       "      <th>tutor_academico_id</th>\n",
       "      <th>tutor_empresa_id</th>\n",
       "      <th>user_id</th>\n",
       "      <th>itinerary_category_name</th>\n",
       "      <th>program_name</th>\n",
       "      <th>duracion</th>\n",
       "    </tr>\n",
       "  </thead>\n",
       "  <tbody>\n",
       "  </tbody>\n",
       "</table>\n",
       "</div>"
      ],
      "text/plain": [
       "Empty DataFrame\n",
       "Columns: [active_flag, itinerary_category_id, date_enroll, enroll_end, program_id, tutor_academico_id, tutor_empresa_id, user_id, itinerary_category_name, program_name, duracion]\n",
       "Index: []"
      ]
     },
     "execution_count": 126,
     "metadata": {},
     "output_type": "execute_result"
    }
   ],
   "source": [
    "itinerarios['duracion'] = itinerarios['enroll_end'] - itinerarios['date_enroll'] #volvemos a calcular la variable duracion\n",
    "itinerarios[itinerarios['duracion'] < '0 days'] #correcto"
   ]
  },
  {
   "cell_type": "code",
   "execution_count": 127,
   "metadata": {},
   "outputs": [
    {
     "data": {
      "text/html": [
       "<div>\n",
       "<style scoped>\n",
       "    .dataframe tbody tr th:only-of-type {\n",
       "        vertical-align: middle;\n",
       "    }\n",
       "\n",
       "    .dataframe tbody tr th {\n",
       "        vertical-align: top;\n",
       "    }\n",
       "\n",
       "    .dataframe thead th {\n",
       "        text-align: right;\n",
       "    }\n",
       "</style>\n",
       "<table border=\"1\" class=\"dataframe\">\n",
       "  <thead>\n",
       "    <tr style=\"text-align: right;\">\n",
       "      <th></th>\n",
       "      <th>grade</th>\n",
       "      <th>online_progress</th>\n",
       "    </tr>\n",
       "  </thead>\n",
       "  <tbody>\n",
       "    <tr>\n",
       "      <th>count</th>\n",
       "      <td>1475.000000</td>\n",
       "      <td>1518.000000</td>\n",
       "    </tr>\n",
       "    <tr>\n",
       "      <th>mean</th>\n",
       "      <td>5.659431</td>\n",
       "      <td>33.972245</td>\n",
       "    </tr>\n",
       "    <tr>\n",
       "      <th>std</th>\n",
       "      <td>5.879756</td>\n",
       "      <td>45.715231</td>\n",
       "    </tr>\n",
       "    <tr>\n",
       "      <th>min</th>\n",
       "      <td>0.000000</td>\n",
       "      <td>0.000000</td>\n",
       "    </tr>\n",
       "    <tr>\n",
       "      <th>25%</th>\n",
       "      <td>0.000000</td>\n",
       "      <td>0.000000</td>\n",
       "    </tr>\n",
       "    <tr>\n",
       "      <th>50%</th>\n",
       "      <td>8.330000</td>\n",
       "      <td>0.000000</td>\n",
       "    </tr>\n",
       "    <tr>\n",
       "      <th>75%</th>\n",
       "      <td>10.000000</td>\n",
       "      <td>100.000000</td>\n",
       "    </tr>\n",
       "    <tr>\n",
       "      <th>max</th>\n",
       "      <td>100.000000</td>\n",
       "      <td>100.000000</td>\n",
       "    </tr>\n",
       "  </tbody>\n",
       "</table>\n",
       "</div>"
      ],
      "text/plain": [
       "             grade  online_progress\n",
       "count  1475.000000      1518.000000\n",
       "mean      5.659431        33.972245\n",
       "std       5.879756        45.715231\n",
       "min       0.000000         0.000000\n",
       "25%       0.000000         0.000000\n",
       "50%       8.330000         0.000000\n",
       "75%      10.000000       100.000000\n",
       "max     100.000000       100.000000"
      ]
     },
     "execution_count": 127,
     "metadata": {},
     "output_type": "execute_result"
    }
   ],
   "source": [
    "#Notas_cursos\n",
    "notas_cursos.shape #dimensiones (3898, 8)\n",
    "notas_cursos.columns\n",
    "notas_cursos.describe(include=['category', 'object', 'bool']) #variables discretas\n",
    "notas_cursos['course_name'].value_counts().to_frame()\n",
    "\n",
    "notas_cursos.describe(include= 'float64') #variables continuas\n"
   ]
  },
  {
   "cell_type": "code",
   "execution_count": 128,
   "metadata": {},
   "outputs": [
    {
     "data": {
      "text/plain": [
       "count             4\n",
       "unique            4\n",
       "top       LBL_ADMIN\n",
       "freq              1\n",
       "Name: role_name, dtype: object"
      ]
     },
     "execution_count": 128,
     "metadata": {},
     "output_type": "execute_result"
    }
   ],
   "source": [
    "#Roles\n",
    "roles.shape #dimensiones (4, 2)\n",
    "roles.columns\n",
    "roles['role_name'].describe() \n"
   ]
  },
  {
   "cell_type": "code",
   "execution_count": 129,
   "metadata": {},
   "outputs": [],
   "source": [
    "#Plantas\n",
    "plantas.shape #dimensiones (18, 2)\n",
    "plantas.columns\n",
    "plantas.describe() #variables discretas\n",
    "plantas['planta_id'].value_counts().to_frame()\n",
    "plantas['planta_name'].value_counts().to_frame() #eliminamos MT Aretxabal, ya que esta mal escrito y antes en usuarios hemos convertido MT Aretxabal en MT Aretxabaleta\n",
    "\n",
    "plantas = plantas.loc[:16, :]\n"
   ]
  },
  {
   "cell_type": "code",
   "execution_count": 130,
   "metadata": {},
   "outputs": [
    {
     "data": {
      "text/html": [
       "<div>\n",
       "<style scoped>\n",
       "    .dataframe tbody tr th:only-of-type {\n",
       "        vertical-align: middle;\n",
       "    }\n",
       "\n",
       "    .dataframe tbody tr th {\n",
       "        vertical-align: top;\n",
       "    }\n",
       "\n",
       "    .dataframe thead th {\n",
       "        text-align: right;\n",
       "    }\n",
       "</style>\n",
       "<table border=\"1\" class=\"dataframe\">\n",
       "  <thead>\n",
       "    <tr style=\"text-align: right;\">\n",
       "      <th></th>\n",
       "      <th>user_id</th>\n",
       "    </tr>\n",
       "  </thead>\n",
       "  <tbody>\n",
       "    <tr>\n",
       "      <th>134</th>\n",
       "      <td>2008</td>\n",
       "    </tr>\n",
       "    <tr>\n",
       "      <th>135</th>\n",
       "      <td>1769</td>\n",
       "    </tr>\n",
       "    <tr>\n",
       "      <th>145</th>\n",
       "      <td>1352</td>\n",
       "    </tr>\n",
       "    <tr>\n",
       "      <th>50</th>\n",
       "      <td>472</td>\n",
       "    </tr>\n",
       "    <tr>\n",
       "      <th>138</th>\n",
       "      <td>436</td>\n",
       "    </tr>\n",
       "    <tr>\n",
       "      <th>...</th>\n",
       "      <td>...</td>\n",
       "    </tr>\n",
       "    <tr>\n",
       "      <th>395</th>\n",
       "      <td>1</td>\n",
       "    </tr>\n",
       "    <tr>\n",
       "      <th>398</th>\n",
       "      <td>1</td>\n",
       "    </tr>\n",
       "    <tr>\n",
       "      <th>94</th>\n",
       "      <td>1</td>\n",
       "    </tr>\n",
       "    <tr>\n",
       "      <th>402</th>\n",
       "      <td>1</td>\n",
       "    </tr>\n",
       "    <tr>\n",
       "      <th>368</th>\n",
       "      <td>1</td>\n",
       "    </tr>\n",
       "  </tbody>\n",
       "</table>\n",
       "<p>195 rows × 1 columns</p>\n",
       "</div>"
      ],
      "text/plain": [
       "     user_id\n",
       "134     2008\n",
       "135     1769\n",
       "145     1352\n",
       "50       472\n",
       "138      436\n",
       "..       ...\n",
       "395        1\n",
       "398        1\n",
       "94         1\n",
       "402        1\n",
       "368        1\n",
       "\n",
       "[195 rows x 1 columns]"
      ]
     },
     "execution_count": 130,
     "metadata": {},
     "output_type": "execute_result"
    }
   ],
   "source": [
    "#Accesos\n",
    "accesos.shape #dimensiones (8816, 4)\n",
    "accesos.columns\n",
    "accesos.describe() #variables discretas\n",
    "accesos['description'].value_counts().to_frame()\n",
    "accesos['mdl_user_id'].value_counts().to_frame()\n",
    "accesos['user_id'].value_counts().to_frame()"
   ]
  },
  {
   "cell_type": "code",
   "execution_count": 131,
   "metadata": {},
   "outputs": [
    {
     "data": {
      "text/html": [
       "<div>\n",
       "<style scoped>\n",
       "    .dataframe tbody tr th:only-of-type {\n",
       "        vertical-align: middle;\n",
       "    }\n",
       "\n",
       "    .dataframe tbody tr th {\n",
       "        vertical-align: top;\n",
       "    }\n",
       "\n",
       "    .dataframe thead th {\n",
       "        text-align: right;\n",
       "    }\n",
       "</style>\n",
       "<table border=\"1\" class=\"dataframe\">\n",
       "  <thead>\n",
       "    <tr style=\"text-align: right;\">\n",
       "      <th></th>\n",
       "      <th>mdl_user_id</th>\n",
       "    </tr>\n",
       "  </thead>\n",
       "  <tbody>\n",
       "    <tr>\n",
       "      <th>461</th>\n",
       "      <td>1</td>\n",
       "    </tr>\n",
       "    <tr>\n",
       "      <th>159</th>\n",
       "      <td>1</td>\n",
       "    </tr>\n",
       "    <tr>\n",
       "      <th>148</th>\n",
       "      <td>1</td>\n",
       "    </tr>\n",
       "    <tr>\n",
       "      <th>150</th>\n",
       "      <td>1</td>\n",
       "    </tr>\n",
       "    <tr>\n",
       "      <th>151</th>\n",
       "      <td>1</td>\n",
       "    </tr>\n",
       "    <tr>\n",
       "      <th>...</th>\n",
       "      <td>...</td>\n",
       "    </tr>\n",
       "    <tr>\n",
       "      <th>336</th>\n",
       "      <td>1</td>\n",
       "    </tr>\n",
       "    <tr>\n",
       "      <th>337</th>\n",
       "      <td>1</td>\n",
       "    </tr>\n",
       "    <tr>\n",
       "      <th>338</th>\n",
       "      <td>1</td>\n",
       "    </tr>\n",
       "    <tr>\n",
       "      <th>339</th>\n",
       "      <td>1</td>\n",
       "    </tr>\n",
       "    <tr>\n",
       "      <th>3</th>\n",
       "      <td>1</td>\n",
       "    </tr>\n",
       "  </tbody>\n",
       "</table>\n",
       "<p>372 rows × 1 columns</p>\n",
       "</div>"
      ],
      "text/plain": [
       "     mdl_user_id\n",
       "461            1\n",
       "159            1\n",
       "148            1\n",
       "150            1\n",
       "151            1\n",
       "..           ...\n",
       "336            1\n",
       "337            1\n",
       "338            1\n",
       "339            1\n",
       "3              1\n",
       "\n",
       "[372 rows x 1 columns]"
      ]
     },
     "execution_count": 131,
     "metadata": {},
     "output_type": "execute_result"
    }
   ],
   "source": [
    "#Acceso_1ero_ultimo\n",
    "acceso_1ero_ultimo.shape #dimensiones (372, 3)\n",
    "acceso_1ero_ultimo.columns\n",
    "acceso_1ero_ultimo.describe() #variables discretas\n",
    "h =acceso_1ero_ultimo['1er acceso'] < acceso_1ero_ultimo['ultimo acceso']\n",
    "h.value_counts().to_frame() #en todos los casos el primer acceso ocurre antes del ultimo acceso, es correcto\n",
    "acceso_1ero_ultimo['mdl_user_id'].value_counts().to_frame()\n"
   ]
  },
  {
   "cell_type": "code",
   "execution_count": 132,
   "metadata": {},
   "outputs": [
    {
     "data": {
      "text/html": [
       "<div>\n",
       "<style scoped>\n",
       "    .dataframe tbody tr th:only-of-type {\n",
       "        vertical-align: middle;\n",
       "    }\n",
       "\n",
       "    .dataframe tbody tr th {\n",
       "        vertical-align: top;\n",
       "    }\n",
       "\n",
       "    .dataframe thead th {\n",
       "        text-align: right;\n",
       "    }\n",
       "</style>\n",
       "<table border=\"1\" class=\"dataframe\">\n",
       "  <thead>\n",
       "    <tr style=\"text-align: right;\">\n",
       "      <th></th>\n",
       "      <th>grade</th>\n",
       "    </tr>\n",
       "  </thead>\n",
       "  <tbody>\n",
       "    <tr>\n",
       "      <th>count</th>\n",
       "      <td>2114.000000</td>\n",
       "    </tr>\n",
       "    <tr>\n",
       "      <th>mean</th>\n",
       "      <td>9.573571</td>\n",
       "    </tr>\n",
       "    <tr>\n",
       "      <th>std</th>\n",
       "      <td>3.686237</td>\n",
       "    </tr>\n",
       "    <tr>\n",
       "      <th>min</th>\n",
       "      <td>0.000000</td>\n",
       "    </tr>\n",
       "    <tr>\n",
       "      <th>25%</th>\n",
       "      <td>8.340000</td>\n",
       "    </tr>\n",
       "    <tr>\n",
       "      <th>50%</th>\n",
       "      <td>9.710000</td>\n",
       "    </tr>\n",
       "    <tr>\n",
       "      <th>75%</th>\n",
       "      <td>10.000000</td>\n",
       "    </tr>\n",
       "    <tr>\n",
       "      <th>max</th>\n",
       "      <td>38.850000</td>\n",
       "    </tr>\n",
       "  </tbody>\n",
       "</table>\n",
       "</div>"
      ],
      "text/plain": [
       "             grade\n",
       "count  2114.000000\n",
       "mean      9.573571\n",
       "std       3.686237\n",
       "min       0.000000\n",
       "25%       8.340000\n",
       "50%       9.710000\n",
       "75%      10.000000\n",
       "max      38.850000"
      ]
     },
     "execution_count": 132,
     "metadata": {},
     "output_type": "execute_result"
    }
   ],
   "source": [
    "#Actividades\n",
    "actividades.shape #dimensiones (3464, 7)\n",
    "actividades.columns\n",
    "actividades.describe(include = ['object', 'category','bool', 'datetime64[ns, UTC]'] ) #variables discretas\n",
    "actividades.describe(include = ['float64']) #tenemos maximos por encima de 10\n"
   ]
  },
  {
   "cell_type": "code",
   "execution_count": 133,
   "metadata": {},
   "outputs": [
    {
     "name": "stdout",
     "output_type": "stream",
     "text": [
      "<class 'pandas.core.frame.DataFrame'>\n",
      "RangeIndex: 3464 entries, 0 to 3463\n",
      "Data columns (total 7 columns):\n",
      " #   Column              Non-Null Count  Dtype              \n",
      "---  ------              --------------  -----              \n",
      " 0   mdl_user_id         3464 non-null   category           \n",
      " 1   course_name         3464 non-null   string             \n",
      " 2   course_id           3464 non-null   category           \n",
      " 3   course_category_id  3464 non-null   category           \n",
      " 4   actividad_name      3460 non-null   string             \n",
      " 5   grade               2114 non-null   float64            \n",
      " 6   time                2129 non-null   datetime64[ns, UTC]\n",
      "dtypes: category(3), datetime64[ns, UTC](1), float64(1), string(2)\n",
      "memory usage: 131.9 KB\n"
     ]
    }
   ],
   "source": [
    "actividades.info()"
   ]
  },
  {
   "cell_type": "markdown",
   "metadata": {},
   "source": [
    "### DUPLICADOS"
   ]
  },
  {
   "cell_type": "code",
   "execution_count": 134,
   "metadata": {},
   "outputs": [],
   "source": [
    "#Quitamos filas duplicadas\n",
    "fn.eliminar_duplicados(usuarios)\n",
    "fn.eliminar_duplicados(tutores_perfil)\n",
    "fn.eliminar_duplicados(conocimientos)\n",
    "fn.eliminar_duplicados(cursos)\n",
    "fn.eliminar_duplicados(programas)\n",
    "fn.eliminar_duplicados(cursos_en_programas)\n",
    "fn.eliminar_duplicados(itinerarios) # se han eliminado 26 filas duplicadas \n",
    "fn.eliminar_duplicados(notas_cursos)\n",
    "fn.eliminar_duplicados(roles)\n",
    "fn.eliminar_duplicados(accesos) # se han eliminado 26 filas duplicadas \n",
    "fn.eliminar_duplicados(acceso_1ero_ultimo)\n",
    "fn.eliminar_duplicados(actividades) # se han eliminado 89 filas duplicadas\n",
    "\n"
   ]
  },
  {
   "cell_type": "code",
   "execution_count": 135,
   "metadata": {},
   "outputs": [
    {
     "name": "stdout",
     "output_type": "stream",
     "text": [
      "[]\n"
     ]
    }
   ],
   "source": [
    "#Identificamos las columnas duplicadas\n",
    "fn.columnas_duplicadas(usuarios) #ninguna"
   ]
  },
  {
   "cell_type": "code",
   "execution_count": 136,
   "metadata": {},
   "outputs": [
    {
     "name": "stdout",
     "output_type": "stream",
     "text": [
      "[]\n"
     ]
    }
   ],
   "source": [
    "fn.columnas_duplicadas(tutores_perfil) #ninguna"
   ]
  },
  {
   "cell_type": "code",
   "execution_count": 137,
   "metadata": {},
   "outputs": [
    {
     "name": "stdout",
     "output_type": "stream",
     "text": [
      "[]\n"
     ]
    }
   ],
   "source": [
    "fn.columnas_duplicadas(conocimientos) #ninguna"
   ]
  },
  {
   "cell_type": "code",
   "execution_count": 138,
   "metadata": {},
   "outputs": [
    {
     "name": "stdout",
     "output_type": "stream",
     "text": [
      "[]\n"
     ]
    }
   ],
   "source": [
    "fn.columnas_duplicadas(cursos) #ninguna"
   ]
  },
  {
   "cell_type": "code",
   "execution_count": 139,
   "metadata": {},
   "outputs": [
    {
     "name": "stdout",
     "output_type": "stream",
     "text": [
      "[]\n"
     ]
    }
   ],
   "source": [
    "fn.columnas_duplicadas(programas) #ninguna"
   ]
  },
  {
   "cell_type": "code",
   "execution_count": 140,
   "metadata": {},
   "outputs": [
    {
     "name": "stdout",
     "output_type": "stream",
     "text": [
      "[]\n"
     ]
    }
   ],
   "source": [
    "fn.columnas_duplicadas(cursos_en_programas) #ninguna"
   ]
  },
  {
   "cell_type": "code",
   "execution_count": 141,
   "metadata": {},
   "outputs": [
    {
     "name": "stdout",
     "output_type": "stream",
     "text": [
      "[]\n"
     ]
    }
   ],
   "source": [
    "fn.columnas_duplicadas(itinerarios) #ninguna"
   ]
  },
  {
   "cell_type": "code",
   "execution_count": 142,
   "metadata": {},
   "outputs": [
    {
     "name": "stdout",
     "output_type": "stream",
     "text": [
      "[]\n"
     ]
    }
   ],
   "source": [
    "fn.columnas_duplicadas(notas_cursos) #ninguna"
   ]
  },
  {
   "cell_type": "code",
   "execution_count": 143,
   "metadata": {},
   "outputs": [
    {
     "name": "stdout",
     "output_type": "stream",
     "text": [
      "[]\n"
     ]
    }
   ],
   "source": [
    "fn.columnas_duplicadas(roles) #ninguna"
   ]
  },
  {
   "cell_type": "code",
   "execution_count": 144,
   "metadata": {},
   "outputs": [
    {
     "name": "stdout",
     "output_type": "stream",
     "text": [
      "[]\n"
     ]
    }
   ],
   "source": [
    "fn.columnas_duplicadas(accesos) #ninguna"
   ]
  },
  {
   "cell_type": "code",
   "execution_count": 145,
   "metadata": {},
   "outputs": [
    {
     "name": "stdout",
     "output_type": "stream",
     "text": [
      "[]\n"
     ]
    }
   ],
   "source": [
    "fn.columnas_duplicadas(acceso_1ero_ultimo) #ninguna"
   ]
  },
  {
   "cell_type": "code",
   "execution_count": 146,
   "metadata": {},
   "outputs": [
    {
     "name": "stdout",
     "output_type": "stream",
     "text": [
      "[]\n"
     ]
    }
   ],
   "source": [
    "fn.columnas_duplicadas(actividades) #ninguna\n",
    "#Ningun data frame tiene columnas duplicadas"
   ]
  },
  {
   "cell_type": "code",
   "execution_count": 147,
   "metadata": {},
   "outputs": [
    {
     "data": {
      "text/plain": [
       "Index(['mdl_user_id', 'course_name', 'course_id', 'course_category_id',\n",
       "       'actividad_name', 'grade', 'time'],\n",
       "      dtype='object')"
      ]
     },
     "execution_count": 147,
     "metadata": {},
     "output_type": "execute_result"
    }
   ],
   "source": [
    "actividades.columns"
   ]
  },
  {
   "cell_type": "markdown",
   "metadata": {},
   "source": [
    "### MISSING VALUES"
   ]
  },
  {
   "cell_type": "code",
   "execution_count": 148,
   "metadata": {},
   "outputs": [
    {
     "name": "stdout",
     "output_type": "stream",
     "text": [
      "user_id\n",
      "False    420\n",
      "Name: user_id, dtype: int64\n",
      "\n",
      "useranonimo_name\n",
      "False    420\n",
      "Name: useranonimo_name, dtype: int64\n",
      "\n",
      "active_flag\n",
      "False    420\n",
      "Name: active_flag, dtype: int64\n",
      "\n",
      "language\n",
      "False    420\n",
      "Name: language, dtype: int64\n",
      "\n",
      "mdl_user_id\n",
      "False    405\n",
      "True      15\n",
      "Name: mdl_user_id, dtype: int64\n",
      "\n",
      "role_admin\n",
      "False    420\n",
      "Name: role_admin, dtype: int64\n",
      "\n",
      "role_manager\n",
      "False    420\n",
      "Name: role_manager, dtype: int64\n",
      "\n",
      "role_student\n",
      "False    420\n",
      "Name: role_student, dtype: int64\n",
      "\n",
      "role_tutor\n",
      "False    420\n",
      "Name: role_tutor, dtype: int64\n",
      "\n",
      "planta_name\n",
      "False    420\n",
      "Name: planta_name, dtype: int64\n",
      "\n"
     ]
    },
    {
     "data": {
      "text/plain": [
       "<matplotlib.axes._subplots.AxesSubplot at 0x1492d7531c0>"
      ]
     },
     "execution_count": 148,
     "metadata": {},
     "output_type": "execute_result"
    },
    {
     "data": {
      "image/png": "[encoded data removed]",
      "text/plain": [
       "<Figure size 432x288 with 1 Axes>"
      ]
     },
     "metadata": {},
     "output_type": "display_data"
    }
   ],
   "source": [
    "#Usuarios\n",
    "fn.identificar_missings(usuarios)\n",
    "sns.heatmap(usuarios.isnull(), cbar=False) #visualizamos los missings"
   ]
  },
  {
   "cell_type": "code",
   "execution_count": 149,
   "metadata": {},
   "outputs": [],
   "source": [
    "#Observamos que la columna last_acces está completamente vacia. Procedemos a imputarla desde acceso_1ero_ultimo (ultimo acceso)\n",
    "#Imputamos tambien 1er acceso\n",
    "#Esto lo haremos tras tratar \"acceso_1ero_ultimo\"\n",
    "\n",
    "\n",
    "#Asimismo, la columna de mdl_user_id, tiene 15 instancias con NaN. \n",
    "#Las eliminamos ya que esos usuarios no aparecen en ninguna tabla mas, no participan en los programas\n",
    "usuarios.dropna(subset=[\"mdl_user_id\"], inplace = True)"
   ]
  },
  {
   "cell_type": "code",
   "execution_count": 150,
   "metadata": {},
   "outputs": [
    {
     "data": {
      "text/plain": [
       "<matplotlib.axes._subplots.AxesSubplot at 0x1492f27f2b0>"
      ]
     },
     "execution_count": 150,
     "metadata": {},
     "output_type": "execute_result"
    },
    {
     "data": {
      "image/png": "[encoded data removed]",
      "text/plain": [
       "<Figure size 432x288 with 1 Axes>"
      ]
     },
     "metadata": {},
     "output_type": "display_data"
    }
   ],
   "source": [
    "sns.heatmap(usuarios.isnull(), cbar=False) #visualizamos los missings"
   ]
  },
  {
   "cell_type": "code",
   "execution_count": 151,
   "metadata": {},
   "outputs": [
    {
     "name": "stdout",
     "output_type": "stream",
     "text": [
      "perfil_id\n",
      "False    188\n",
      "Name: perfil_id, dtype: int64\n",
      "\n",
      "user_id\n",
      "False    188\n",
      "Name: user_id, dtype: int64\n",
      "\n",
      "perfil_name\n",
      "False    118\n",
      "True      70\n",
      "Name: perfil_name, dtype: int64\n",
      "\n"
     ]
    },
    {
     "data": {
      "text/plain": [
       "<matplotlib.axes._subplots.AxesSubplot at 0x1492f32bb20>"
      ]
     },
     "execution_count": 151,
     "metadata": {},
     "output_type": "execute_result"
    },
    {
     "data": {
      "image/png": "[encoded data removed]",
      "text/plain": [
       "<Figure size 432x288 with 1 Axes>"
      ]
     },
     "metadata": {},
     "output_type": "display_data"
    }
   ],
   "source": [
    "#Tutores_perfil\n",
    "fn.identificar_missings(tutores_perfil)\n",
    "sns.heatmap(tutores_perfil.isnull(), cbar=False) #visualizamos los missings"
   ]
  },
  {
   "cell_type": "code",
   "execution_count": 152,
   "metadata": {},
   "outputs": [],
   "source": [
    "tutores_perfil = tutores_perfil.dropna() #quitamos las filas con NaN en perfil_name. el perfil_id de esas filas es 0, por lo que definitivamente no aportan valor"
   ]
  },
  {
   "cell_type": "code",
   "execution_count": 153,
   "metadata": {},
   "outputs": [
    {
     "data": {
      "text/plain": [
       "<matplotlib.axes._subplots.AxesSubplot at 0x1492f3693d0>"
      ]
     },
     "execution_count": 153,
     "metadata": {},
     "output_type": "execute_result"
    },
    {
     "data": {
      "image/png": "[encoded data removed]",
      "text/plain": [
       "<Figure size 432x288 with 1 Axes>"
      ]
     },
     "metadata": {},
     "output_type": "display_data"
    }
   ],
   "source": [
    "sns.heatmap(tutores_perfil.isnull(), cbar=False) #visualizamos los missings"
   ]
  },
  {
   "cell_type": "code",
   "execution_count": 154,
   "metadata": {},
   "outputs": [
    {
     "name": "stdout",
     "output_type": "stream",
     "text": [
      "conocimiento_id\n",
      "False    155\n",
      "Name: conocimiento_id, dtype: int64\n",
      "\n",
      "conocimiento_name\n",
      "False    155\n",
      "Name: conocimiento_name, dtype: int64\n",
      "\n",
      "created_by\n",
      "False    155\n",
      "Name: created_by, dtype: int64\n",
      "\n",
      "categoria_conocimiento_id\n",
      "False    155\n",
      "Name: categoria_conocimiento_id, dtype: int64\n",
      "\n",
      "categoria_conocimiento_name\n",
      "False    133\n",
      "True      22\n",
      "Name: categoria_conocimiento_name, dtype: int64\n",
      "\n"
     ]
    },
    {
     "data": {
      "text/plain": [
       "<matplotlib.axes._subplots.AxesSubplot at 0x1492f3c4eb0>"
      ]
     },
     "execution_count": 154,
     "metadata": {},
     "output_type": "execute_result"
    },
    {
     "data": {
      "image/png": "[encoded data removed]",
      "text/plain": [
       "<Figure size 432x288 with 1 Axes>"
      ]
     },
     "metadata": {},
     "output_type": "display_data"
    }
   ],
   "source": [
    "#Conocimientos\n",
    "fn.identificar_missings(conocimientos)\n",
    "sns.heatmap(conocimientos.isnull(), cbar=False) #visualizamos los missings"
   ]
  },
  {
   "cell_type": "code",
   "execution_count": 155,
   "metadata": {},
   "outputs": [],
   "source": [
    "#La variable categoria_conocimiento_name tiene 22 missings. Esto se debe a que la categoria_conocimiento_id es 0. \n",
    "#Es decir, no existe ni tiene datos. Por lo tanto, vamos a quitar las filas que son missings o lo q es lo mismo, Filas\n",
    "# que tienen el valor de 0 en la variable categoria_conocimiento_id.\n",
    "\n",
    "indexNames = conocimientos[ conocimientos['categoria_conocimiento_id'] == 0 ].index\n",
    "conocimientos.drop(indexNames , inplace=True)"
   ]
  },
  {
   "cell_type": "code",
   "execution_count": 156,
   "metadata": {},
   "outputs": [
    {
     "data": {
      "text/plain": [
       "<matplotlib.axes._subplots.AxesSubplot at 0x1492f376ee0>"
      ]
     },
     "execution_count": 156,
     "metadata": {},
     "output_type": "execute_result"
    },
    {
     "data": {
      "image/png": "[encoded data removed]",
      "text/plain": [
       "<Figure size 432x288 with 1 Axes>"
      ]
     },
     "metadata": {},
     "output_type": "display_data"
    }
   ],
   "source": [
    "sns.heatmap(conocimientos.isnull(), cbar=False) #visualizamos los missings"
   ]
  },
  {
   "cell_type": "code",
   "execution_count": 157,
   "metadata": {},
   "outputs": [
    {
     "name": "stdout",
     "output_type": "stream",
     "text": [
      "course_id\n",
      "False    139\n",
      "Name: course_id, dtype: int64\n",
      "\n",
      "course_name\n",
      "False    139\n",
      "Name: course_name, dtype: int64\n",
      "\n",
      "course_category_id\n",
      "False    139\n",
      "Name: course_category_id, dtype: int64\n",
      "\n",
      "hours\n",
      "False    139\n",
      "Name: hours, dtype: int64\n",
      "\n",
      "course_shortname\n",
      "False    139\n",
      "Name: course_shortname, dtype: int64\n",
      "\n"
     ]
    },
    {
     "data": {
      "text/plain": [
       "<matplotlib.axes._subplots.AxesSubplot at 0x1492f452700>"
      ]
     },
     "execution_count": 157,
     "metadata": {},
     "output_type": "execute_result"
    },
    {
     "data": {
      "image/png": "[encoded data removed]",
      "text/plain": [
       "<Figure size 432x288 with 1 Axes>"
      ]
     },
     "metadata": {},
     "output_type": "display_data"
    }
   ],
   "source": [
    "#Cursos\n",
    "fn.identificar_missings(cursos) #no contiene valores vacios\n",
    "sns.heatmap(cursos.isnull(), cbar=False) #visualizamos los missings"
   ]
  },
  {
   "cell_type": "code",
   "execution_count": 158,
   "metadata": {},
   "outputs": [
    {
     "name": "stdout",
     "output_type": "stream",
     "text": [
      "program_id\n",
      "False    110\n",
      "Name: program_id, dtype: int64\n",
      "\n",
      "program_name\n",
      "False    110\n",
      "Name: program_name, dtype: int64\n",
      "\n",
      "program_category_id\n",
      "False    109\n",
      "True       1\n",
      "Name: program_category_id, dtype: int64\n",
      "\n"
     ]
    },
    {
     "data": {
      "text/plain": [
       "<matplotlib.axes._subplots.AxesSubplot at 0x1492f4a5220>"
      ]
     },
     "execution_count": 158,
     "metadata": {},
     "output_type": "execute_result"
    },
    {
     "data": {
      "image/png": "[encoded data removed]",
      "text/plain": [
       "<Figure size 432x288 with 1 Axes>"
      ]
     },
     "metadata": {},
     "output_type": "display_data"
    }
   ],
   "source": [
    "#Programas\n",
    "fn.identificar_missings(programas)\n",
    "\n",
    "sns.heatmap(programas.isnull(), cbar=False) #visualizamos los missings"
   ]
  },
  {
   "cell_type": "code",
   "execution_count": 159,
   "metadata": {},
   "outputs": [],
   "source": [
    "#identificamos la fila con NaN\n",
    "programas['vacio'] = programas['program_category_id'].isnull()\n",
    "programas[programas['vacio'] == True] #vemos que el program_name es pepe, por lo que no es valido\n",
    "\n",
    "programas.drop(['vacio'], axis = 1, inplace= True)\n",
    "\n",
    "programas.dropna(subset=[\"program_category_id\"], inplace = True) #lo eliminamos\n",
    "\n",
    "#puede que haya mas program_name inventados:\n",
    "programas['program_name'].unique() #se observan nombres que resultan extraños e inventados.\n",
    "\n",
    "#los quitamos\n",
    "#cursos_en_programas tiene program_name y program_id correctos (la mayoria), por lo que los imputamos desde ahi\n",
    "#ademas, asi eliminamos programas que no aparecen en la tabla cursos en programas, ya que que no aparezcan significa que no pertenecen a ningun curso de modle. No nos interesan\n",
    "cursos_en_programas['program_id'].unique().shape #71 programas no inventados (suponemos)\n",
    "programas['program_id'].unique().shape #109-71 = 38 programas inventados\n",
    "\n",
    "programas_correctos= []\n",
    "programas_correctos = pd.DataFrame(cursos_en_programas['program_id'].unique())\n",
    "programas_correctos.columns = ['program_id'] \n",
    "programas_correctos\n",
    "\n",
    "programas = programas_correctos.merge(programas, on=\"program_id\", how = \"left\")\n",
    "\n",
    "programas['program_name'].unique() #seguimos teniendo nombres inventados; los identificamos:\n",
    "programas[programas['program_name'].str.contains('prueba|Sergio')] \n",
    "\n",
    "#son las filas 24 - 38, las quitamos\n",
    "programas = programas.drop(range(24,39,1), axis = 0 ).reset_index(drop= True)"
   ]
  },
  {
   "cell_type": "code",
   "execution_count": 160,
   "metadata": {},
   "outputs": [],
   "source": [
    "#Nos hemos dado cuenta de que hay program_names con un DNI al final o con la propia palabra DNI\n",
    "#Eliminamos ese trozo de texto\n",
    "fn.eliminar_dni(programas, 'program_name')"
   ]
  },
  {
   "cell_type": "code",
   "execution_count": 161,
   "metadata": {},
   "outputs": [
    {
     "data": {
      "text/plain": [
       "<matplotlib.axes._subplots.AxesSubplot at 0x1492f4a7790>"
      ]
     },
     "execution_count": 161,
     "metadata": {},
     "output_type": "execute_result"
    },
    {
     "data": {
      "image/png": "[encoded data removed]",
      "text/plain": [
       "<Figure size 432x288 with 1 Axes>"
      ]
     },
     "metadata": {},
     "output_type": "display_data"
    }
   ],
   "source": [
    "sns.heatmap(programas.isnull(), cbar=False) #visualizamos los missings"
   ]
  },
  {
   "cell_type": "code",
   "execution_count": 162,
   "metadata": {},
   "outputs": [
    {
     "name": "stdout",
     "output_type": "stream",
     "text": [
      "program_course_online_id\n",
      "False    253\n",
      "Name: program_course_online_id, dtype: int64\n",
      "\n",
      "course_moodle_id\n",
      "False    253\n",
      "Name: course_moodle_id, dtype: int64\n",
      "\n",
      "conocimiento_id\n",
      "False    253\n",
      "Name: conocimiento_id, dtype: int64\n",
      "\n",
      "num_periodo\n",
      "False    253\n",
      "Name: num_periodo, dtype: int64\n",
      "\n",
      "program_id\n",
      "False    253\n",
      "Name: program_id, dtype: int64\n",
      "\n",
      "course_moodle_name\n",
      "False    253\n",
      "Name: course_moodle_name, dtype: int64\n",
      "\n",
      "conocimiento_name\n",
      "False    253\n",
      "Name: conocimiento_name, dtype: int64\n",
      "\n",
      "program_name\n",
      "False    253\n",
      "Name: program_name, dtype: int64\n",
      "\n"
     ]
    },
    {
     "data": {
      "text/plain": [
       "<matplotlib.axes._subplots.AxesSubplot at 0x1492f4f5370>"
      ]
     },
     "execution_count": 162,
     "metadata": {},
     "output_type": "execute_result"
    },
    {
     "data": {
      "image/png": "[encoded data removed]",
      "text/plain": [
       "<Figure size 432x288 with 1 Axes>"
      ]
     },
     "metadata": {},
     "output_type": "display_data"
    }
   ],
   "source": [
    "#Cursos en programas\n",
    "fn.identificar_missings(cursos_en_programas) #no hay missings\n",
    "\n",
    "sns.heatmap(cursos_en_programas.isnull(), cbar=False) #visualizamos los missings"
   ]
  },
  {
   "cell_type": "code",
   "execution_count": 163,
   "metadata": {},
   "outputs": [],
   "source": [
    "#El program name tiene los mismos nombres inventados q en el caso anterior. Los eliminamos\n",
    "cursos_en_programas[cursos_en_programas['program_name'].str.contains('prueba|Sergio')] \n",
    "\n",
    "cursos_en_programas = cursos_en_programas.drop(range(128,156,1), axis = 0 ).reset_index(drop = True)"
   ]
  },
  {
   "cell_type": "code",
   "execution_count": 164,
   "metadata": {},
   "outputs": [],
   "source": [
    "#eliminamos el DNI que hay al final de algunos program_names\n",
    "fn.eliminar_dni(cursos_en_programas, 'program_name')"
   ]
  },
  {
   "cell_type": "code",
   "execution_count": 165,
   "metadata": {},
   "outputs": [
    {
     "data": {
      "text/html": [
       "<div>\n",
       "<style scoped>\n",
       "    .dataframe tbody tr th:only-of-type {\n",
       "        vertical-align: middle;\n",
       "    }\n",
       "\n",
       "    .dataframe tbody tr th {\n",
       "        vertical-align: top;\n",
       "    }\n",
       "\n",
       "    .dataframe thead th {\n",
       "        text-align: right;\n",
       "    }\n",
       "</style>\n",
       "<table border=\"1\" class=\"dataframe\">\n",
       "  <thead>\n",
       "    <tr style=\"text-align: right;\">\n",
       "      <th></th>\n",
       "      <th>program_course_online_id</th>\n",
       "      <th>course_moodle_id</th>\n",
       "      <th>conocimiento_id</th>\n",
       "      <th>num_periodo</th>\n",
       "      <th>program_id</th>\n",
       "      <th>course_moodle_name</th>\n",
       "      <th>conocimiento_name</th>\n",
       "      <th>program_name</th>\n",
       "    </tr>\n",
       "  </thead>\n",
       "  <tbody>\n",
       "  </tbody>\n",
       "</table>\n",
       "</div>"
      ],
      "text/plain": [
       "Empty DataFrame\n",
       "Columns: [program_course_online_id, course_moodle_id, conocimiento_id, num_periodo, program_id, course_moodle_name, conocimiento_name, program_name]\n",
       "Index: []"
      ]
     },
     "execution_count": 165,
     "metadata": {},
     "output_type": "execute_result"
    }
   ],
   "source": [
    "cursos_en_programas[cursos_en_programas['program_name'].str.contains('prueba|Sergio')] #correcto"
   ]
  },
  {
   "cell_type": "code",
   "execution_count": 166,
   "metadata": {},
   "outputs": [
    {
     "name": "stdout",
     "output_type": "stream",
     "text": [
      "active_flag\n",
      "False    441\n",
      "Name: active_flag, dtype: int64\n",
      "\n",
      "itinerary_category_id\n",
      "False    441\n",
      "Name: itinerary_category_id, dtype: int64\n",
      "\n",
      "date_enroll\n",
      "False    440\n",
      "True       1\n",
      "Name: date_enroll, dtype: int64\n",
      "\n",
      "enroll_end\n",
      "True     280\n",
      "False    161\n",
      "Name: enroll_end, dtype: int64\n",
      "\n",
      "program_id\n",
      "False    441\n",
      "Name: program_id, dtype: int64\n",
      "\n",
      "tutor_academico_id\n",
      "False    441\n",
      "Name: tutor_academico_id, dtype: int64\n",
      "\n",
      "tutor_empresa_id\n",
      "False    441\n",
      "Name: tutor_empresa_id, dtype: int64\n",
      "\n",
      "user_id\n",
      "False    441\n",
      "Name: user_id, dtype: int64\n",
      "\n",
      "itinerary_category_name\n",
      "False    441\n",
      "Name: itinerary_category_name, dtype: int64\n",
      "\n",
      "program_name\n",
      "False    441\n",
      "Name: program_name, dtype: int64\n",
      "\n",
      "duracion\n",
      "True     280\n",
      "False    161\n",
      "Name: duracion, dtype: int64\n",
      "\n"
     ]
    },
    {
     "data": {
      "text/plain": [
       "<matplotlib.axes._subplots.AxesSubplot at 0x1492f5bb280>"
      ]
     },
     "execution_count": 166,
     "metadata": {},
     "output_type": "execute_result"
    },
    {
     "data": {
      "image/png": "[encoded data removed]",
      "text/plain": [
       "<Figure size 432x288 with 1 Axes>"
      ]
     },
     "metadata": {},
     "output_type": "display_data"
    }
   ],
   "source": [
    "#Itinerarios\n",
    "fn.identificar_missings(itinerarios)\n",
    "\n",
    "sns.heatmap(itinerarios.isnull(), cbar=False) #visualizamos los missings"
   ]
  },
  {
   "cell_type": "code",
   "execution_count": 167,
   "metadata": {},
   "outputs": [
    {
     "data": {
      "text/plain": [
       "<matplotlib.axes._subplots.AxesSubplot at 0x149305e06d0>"
      ]
     },
     "execution_count": 167,
     "metadata": {},
     "output_type": "execute_result"
    },
    {
     "data": {
      "image/png": "[encoded data removed]",
      "text/plain": [
       "<Figure size 432x288 with 1 Axes>"
      ]
     },
     "metadata": {},
     "output_type": "display_data"
    }
   ],
   "source": [
    "#identificamos la fila con NaN en date_enroll\n",
    "itinerarios1 = pd.DataFrame()\n",
    "itinerarios1['vacio'] = itinerarios['date_enroll'].isnull()\n",
    "itinerarios1\n",
    "itinerarios1[itinerarios1['vacio'] == True] \n",
    "itinerarios.iloc[52, :]\n",
    "\n",
    "#La eliminamos ya que todo itinerario debe tener fecha de comienzo, y no se puede imputar\n",
    "itinerarios.drop([52],axis=0, inplace = True)\n",
    "itinerarios.reset_index(drop = True)\n",
    "\n",
    "#con los missings de la variable enroll_end no hacemos nada, ya que la fecha final del itinerario no tiene porque estar siempre determinada\n",
    "\n",
    "sns.heatmap(itinerarios.isnull(), cbar=False) #visualizamos los missings\n"
   ]
  },
  {
   "cell_type": "code",
   "execution_count": 168,
   "metadata": {},
   "outputs": [
    {
     "name": "stdout",
     "output_type": "stream",
     "text": [
      "enroll_grade_id\n",
      "False    3898\n",
      "Name: enroll_grade_id, dtype: int64\n",
      "\n",
      "active_flag\n",
      "False    3898\n",
      "Name: active_flag, dtype: int64\n",
      "\n",
      "course_id\n",
      "False    3898\n",
      "Name: course_id, dtype: int64\n",
      "\n",
      "enroll_id\n",
      "False    3898\n",
      "Name: enroll_id, dtype: int64\n",
      "\n",
      "grade\n",
      "True     2423\n",
      "False    1475\n",
      "Name: grade, dtype: int64\n",
      "\n",
      "online_progress\n",
      "True     2380\n",
      "False    1518\n",
      "Name: online_progress, dtype: int64\n",
      "\n",
      "course_name\n",
      "False    3898\n",
      "Name: course_name, dtype: int64\n",
      "\n",
      "user_id\n",
      "False    3898\n",
      "Name: user_id, dtype: int64\n",
      "\n"
     ]
    },
    {
     "data": {
      "text/plain": [
       "<matplotlib.axes._subplots.AxesSubplot at 0x149305c87f0>"
      ]
     },
     "execution_count": 168,
     "metadata": {},
     "output_type": "execute_result"
    },
    {
     "data": {
      "image/png": "[encoded data removed]",
      "text/plain": [
       "<Figure size 432x288 with 1 Axes>"
      ]
     },
     "metadata": {},
     "output_type": "display_data"
    }
   ],
   "source": [
    "#Notas_cursos\n",
    "fn.identificar_missings(notas_cursos)\n",
    "sns.heatmap(notas_cursos.isnull(), cbar=False) #visualizamos los missings"
   ]
  },
  {
   "cell_type": "code",
   "execution_count": 169,
   "metadata": {},
   "outputs": [
    {
     "data": {
      "text/plain": [
       "<matplotlib.axes._subplots.AxesSubplot at 0x1492f3be130>"
      ]
     },
     "execution_count": 169,
     "metadata": {},
     "output_type": "execute_result"
    },
    {
     "data": {
      "image/png": "[encoded data removed]",
      "text/plain": [
       "<Figure size 432x288 with 1 Axes>"
      ]
     },
     "metadata": {},
     "output_type": "display_data"
    }
   ],
   "source": [
    "#Las dos variables con instancias que contienen missings son grade y online_progress. \n",
    "\n",
    "#En el caso de estas dos variables, es importante preguntarse porque tienen valores missings. La respuesta que se cree correcta\n",
    "#es de que se tratan de variables que no tienen que tener un valor de obligatoriamente. Es decir, quizas algunos aprendices todavia \n",
    "# no han realizado el grado o el curso por lo que no tienen ninguna nota asociada. Lo mismo ocurre con el online_progress,\n",
    "#puesto que mide el porcentaje de progreso del curso y quizas algunos aprendices no hayan dado comienzo al curso.\n",
    "\n",
    "#Por estos motivos, se ha decidido que los valores ausentes que se encuentran en blanco se sustituyen por un 0 (sin iniciar.)\n",
    "notas_cursos['grade'].fillna(0, inplace=True)#convertir NaN en 0\n",
    "notas_cursos['online_progress'].fillna(0, inplace=True)#convertir NaN en 0\n",
    "\n",
    "sns.heatmap(notas_cursos.isnull(), cbar=False) #visualizamos los missings"
   ]
  },
  {
   "cell_type": "code",
   "execution_count": 170,
   "metadata": {},
   "outputs": [
    {
     "name": "stdout",
     "output_type": "stream",
     "text": [
      "role_id\n",
      "False    4\n",
      "Name: role_id, dtype: int64\n",
      "\n",
      "role_name\n",
      "False    4\n",
      "Name: role_name, dtype: int64\n",
      "\n"
     ]
    },
    {
     "data": {
      "text/plain": [
       "<matplotlib.axes._subplots.AxesSubplot at 0x1492f49b610>"
      ]
     },
     "execution_count": 170,
     "metadata": {},
     "output_type": "execute_result"
    },
    {
     "data": {
      "image/png": "[encoded data removed]",
      "text/plain": [
       "<Figure size 432x288 with 1 Axes>"
      ]
     },
     "metadata": {},
     "output_type": "display_data"
    }
   ],
   "source": [
    "#Roles\n",
    "fn.identificar_missings(roles) #ningun valor ausente\n",
    "sns.heatmap(roles.isnull(), cbar=False) #visualizamos los missings"
   ]
  },
  {
   "cell_type": "code",
   "execution_count": 171,
   "metadata": {},
   "outputs": [
    {
     "name": "stdout",
     "output_type": "stream",
     "text": [
      "planta_id\n",
      "False    17\n",
      "Name: planta_id, dtype: int64\n",
      "\n",
      "planta_name\n",
      "False    17\n",
      "Name: planta_name, dtype: int64\n",
      "\n"
     ]
    },
    {
     "data": {
      "text/plain": [
       "<matplotlib.axes._subplots.AxesSubplot at 0x1492e44c730>"
      ]
     },
     "execution_count": 171,
     "metadata": {},
     "output_type": "execute_result"
    },
    {
     "data": {
      "image/png": "[encoded data removed]",
      "text/plain": [
       "<Figure size 432x288 with 1 Axes>"
      ]
     },
     "metadata": {},
     "output_type": "display_data"
    }
   ],
   "source": [
    "#Plantas\n",
    "fn.identificar_missings(plantas) #ningun valor ausente\n",
    "sns.heatmap(plantas.isnull(), cbar=False) #visualizamos los missings"
   ]
  },
  {
   "cell_type": "code",
   "execution_count": 172,
   "metadata": {},
   "outputs": [
    {
     "name": "stdout",
     "output_type": "stream",
     "text": [
      "description\n",
      "False    8231\n",
      "Name: description, dtype: int64\n",
      "\n",
      "timestamp\n",
      "False    8231\n",
      "Name: timestamp, dtype: int64\n",
      "\n",
      "mdl_user_id\n",
      "False    8231\n",
      "Name: mdl_user_id, dtype: int64\n",
      "\n",
      "user_id\n",
      "False    8231\n",
      "Name: user_id, dtype: int64\n",
      "\n"
     ]
    },
    {
     "data": {
      "text/plain": [
       "<matplotlib.axes._subplots.AxesSubplot at 0x1492ddb2640>"
      ]
     },
     "execution_count": 172,
     "metadata": {},
     "output_type": "execute_result"
    },
    {
     "data": {
      "image/png": "[encoded data removed]",
      "text/plain": [
       "<Figure size 432x288 with 1 Axes>"
      ]
     },
     "metadata": {},
     "output_type": "display_data"
    }
   ],
   "source": [
    "#Accesos\n",
    "fn.identificar_missings(accesos) #ningun valor ausente\n",
    "sns.heatmap(accesos.isnull(), cbar=False) #visualizamos los missings"
   ]
  },
  {
   "cell_type": "code",
   "execution_count": 173,
   "metadata": {},
   "outputs": [
    {
     "name": "stdout",
     "output_type": "stream",
     "text": [
      "mdl_user_id\n",
      "False    372\n",
      "Name: mdl_user_id, dtype: int64\n",
      "\n",
      "1er acceso\n",
      "False    295\n",
      "True      77\n",
      "Name: 1er acceso, dtype: int64\n",
      "\n",
      "ultimo acceso\n",
      "False    295\n",
      "True      77\n",
      "Name: ultimo acceso, dtype: int64\n",
      "\n"
     ]
    },
    {
     "data": {
      "text/plain": [
       "<matplotlib.axes._subplots.AxesSubplot at 0x1492ddb26a0>"
      ]
     },
     "execution_count": 173,
     "metadata": {},
     "output_type": "execute_result"
    },
    {
     "data": {
      "image/png": "[encoded data removed]",
      "text/plain": [
       "<Figure size 432x288 with 1 Axes>"
      ]
     },
     "metadata": {},
     "output_type": "display_data"
    }
   ],
   "source": [
    "#Acceso_1ero_ultimo\n",
    "fn.identificar_missings(acceso_1ero_ultimo)\n",
    "sns.heatmap(acceso_1ero_ultimo.isnull(), cbar=False) #visualizamos los missings"
   ]
  },
  {
   "cell_type": "code",
   "execution_count": 174,
   "metadata": {},
   "outputs": [
    {
     "data": {
      "image/png": "[encoded data removed]",
      "text/plain": [
       "<Figure size 432x288 with 1 Axes>"
      ]
     },
     "metadata": {},
     "output_type": "display_data"
    }
   ],
   "source": [
    "#Los NaN de 1er acceso y ultimo acceso son de las mismas filas, por lo que podemos quitarlas\n",
    "acceso_1ero_ultimo.dropna(subset=[\"1er acceso\"], inplace = True)\n",
    "\n",
    "#Imputamos las dos variables de \"acceso_1ero_ultimo\" en \"usuarios\"\n",
    "usuarios = usuarios.merge(acceso_1ero_ultimo, on=\"mdl_user_id\", how = \"left\")\n",
    "usuarios\n",
    "\n",
    "sns.heatmap(acceso_1ero_ultimo.isnull(), cbar=False) #visualizamos los missings\n",
    "#Eliminamos este dataframe\n",
    "del acceso_1ero_ultimo"
   ]
  },
  {
   "cell_type": "code",
   "execution_count": 175,
   "metadata": {},
   "outputs": [
    {
     "name": "stdout",
     "output_type": "stream",
     "text": [
      "mdl_user_id\n",
      "False    3375\n",
      "Name: mdl_user_id, dtype: int64\n",
      "\n",
      "course_name\n",
      "False    3375\n",
      "Name: course_name, dtype: int64\n",
      "\n",
      "course_id\n",
      "False    3375\n",
      "Name: course_id, dtype: int64\n",
      "\n",
      "course_category_id\n",
      "False    3375\n",
      "Name: course_category_id, dtype: int64\n",
      "\n",
      "actividad_name\n",
      "False    3371\n",
      "True        4\n",
      "Name: actividad_name, dtype: int64\n",
      "\n",
      "grade\n",
      "False    2097\n",
      "True     1278\n",
      "Name: grade, dtype: int64\n",
      "\n",
      "time\n",
      "False    2112\n",
      "True     1263\n",
      "Name: time, dtype: int64\n",
      "\n"
     ]
    },
    {
     "data": {
      "text/plain": [
       "<matplotlib.axes._subplots.AxesSubplot at 0x1492e5017c0>"
      ]
     },
     "execution_count": 175,
     "metadata": {},
     "output_type": "execute_result"
    },
    {
     "data": {
      "image/png": "[encoded data removed]",
      "text/plain": [
       "<Figure size 432x288 with 1 Axes>"
      ]
     },
     "metadata": {},
     "output_type": "display_data"
    }
   ],
   "source": [
    "#Actividades\n",
    "fn.identificar_missings(actividades)\n",
    "sns.heatmap(actividades.isnull(), cbar=False) #visualizamos los missings"
   ]
  },
  {
   "cell_type": "code",
   "execution_count": 176,
   "metadata": {},
   "outputs": [
    {
     "data": {
      "text/plain": [
       "<matplotlib.axes._subplots.AxesSubplot at 0x1492e4ce970>"
      ]
     },
     "execution_count": 176,
     "metadata": {},
     "output_type": "execute_result"
    },
    {
     "data": {
      "image/png": "[encoded data removed]",
      "text/plain": [
       "<Figure size 432x288 with 1 Axes>"
      ]
     },
     "metadata": {},
     "output_type": "display_data"
    }
   ],
   "source": [
    "#Eliminamos las filas con NaN en actividad_name, ya que no contienen informacion tampoco de grade y time\n",
    "actividades.dropna(subset=[\"actividad_name\"], inplace = True) \n",
    "\n",
    "#Los valores de las notas no se pueden imputar debido a que se tratan de usuarios que no han comenzado\n",
    "#con el curso, por lo que todavia no tienen ninguna nota.\n",
    "\n",
    "#En cuanto a la ultima variable, la columna time consta de un numero elevado de missings (1331). En este caso, como es logico, \n",
    "#ocurre lo mismo. Aquellos usuarios que no hayan comenzado con la actividad, no tienen la fecha ni la nota correspondiente. \n",
    "#Por ello, no se cree oportuno eliminar todas las intancias y los mantendremos como NaN. (En caso de necesidad, posteriormente\n",
    "#se eliminaran estos missings)\n",
    "\n",
    "sns.heatmap(actividades.isnull(), cbar=False) #visualizamos los missings"
   ]
  },
  {
   "cell_type": "markdown",
   "metadata": {},
   "source": [
    "### OUTLIERS"
   ]
  },
  {
   "cell_type": "code",
   "execution_count": 177,
   "metadata": {},
   "outputs": [],
   "source": [
    "#Usuarios\n",
    "#En esta tabla, no se puede realizar la tecnica para identificar outlier puesto que no se cuenta con ninguna variable cuantitva."
   ]
  },
  {
   "cell_type": "code",
   "execution_count": 178,
   "metadata": {},
   "outputs": [],
   "source": [
    "#Tutores_perfil\n",
    "#En esta tabla, no se puede realizar la tecnica para identificar outlier puesto que no se cuenta con ninguna variable cuantitva."
   ]
  },
  {
   "cell_type": "code",
   "execution_count": 179,
   "metadata": {},
   "outputs": [],
   "source": [
    "#Conocimientos\n",
    "#En esta tabla, no se puede realizar la tecnica para identificar outlier puesto que no se cuenta con ninguna variable cuantitva."
   ]
  },
  {
   "cell_type": "code",
   "execution_count": 180,
   "metadata": {},
   "outputs": [
    {
     "data": {
      "text/plain": [
       "<matplotlib.axes._subplots.AxesSubplot at 0x1492f1c6730>"
      ]
     },
     "execution_count": 180,
     "metadata": {},
     "output_type": "execute_result"
    },
    {
     "data": {
      "image/png": "[encoded data removed]",
      "text/plain": [
       "<Figure size 432x288 with 1 Axes>"
      ]
     },
     "metadata": {},
     "output_type": "display_data"
    }
   ],
   "source": [
    "#Cursos\n",
    "#En esta tabla, existe una variable cuantitativa (hours). Por lo que se puede analizar si existe algun outlier.\n",
    "sns.boxplot(x=cursos['hours'])#se observan los valores en boxplot."
   ]
  },
  {
   "cell_type": "code",
   "execution_count": 181,
   "metadata": {},
   "outputs": [
    {
     "name": "stdout",
     "output_type": "stream",
     "text": [
      "[1.43582832e-01 1.43582832e-01 1.43582832e-01 9.60637516e-02\n",
      " 9.40125683e-02 9.60637516e-02 9.60637516e-02 1.43582832e-01\n",
      " 9.60637516e-02 9.40125683e-02 1.43582832e-01 9.60637516e-02\n",
      " 9.60637516e-02 1.19823292e-01 1.43582832e-01 1.43582832e-01\n",
      " 1.43582832e-01 1.43582832e-01 1.43582832e-01 1.43582832e-01\n",
      " 1.43582832e-01 1.43582832e-01 1.43582832e-01 1.43582832e-01\n",
      " 1.43582832e-01 9.36023316e+00 1.43582832e-01 1.43582832e-01\n",
      " 1.43582832e-01 1.43582832e-01 9.60637516e-02 1.43582832e-01\n",
      " 1.43582832e-01 9.60637516e-02 9.60637516e-02 1.43582832e-01\n",
      " 2.47851316e-02 9.60637516e-02 1.19823292e-01 9.60637516e-02\n",
      " 1.31703062e-01 1.31703062e-01 1.31703062e-01 6.04244416e-02\n",
      " 3.31607968e-01 1.19823292e-01 7.23042116e-02 1.43582832e-01\n",
      " 4.85446716e-02 4.85446716e-02 6.98427916e+00 1.43582832e-01\n",
      " 1.43582832e-01 4.85446716e-02 1.43582832e-01 9.60637516e-02\n",
      " 1.02559165e-03 1.43582832e-01 1.19823292e-01 1.43582832e-01\n",
      " 9.40125683e-02 1.43582832e-01 1.43582832e-01 1.43582832e-01\n",
      " 1.43582832e-01 1.43582832e-01 1.43582832e-01 1.43582832e-01\n",
      " 1.43582832e-01 1.43582832e-01 1.43582832e-01 1.43582832e-01\n",
      " 1.43582832e-01 1.31703062e-01 1.43582832e-01 1.43582832e-01\n",
      " 1.43582832e-01 1.43582832e-01 1.43582832e-01 1.43582832e-01\n",
      " 1.43582832e-01 1.43582832e-01 1.43582832e-01 1.43582832e-01\n",
      " 4.85446716e-02 1.43582832e-01 1.43582832e-01 1.43582832e-01\n",
      " 1.43582832e-01 1.43582832e-01 1.43582832e-01 1.43582832e-01\n",
      " 1.43582832e-01 1.43582832e-01 1.43582832e-01 1.43582832e-01\n",
      " 1.19823292e-01 1.31703062e-01 1.19823292e-01 1.31703062e-01\n",
      " 1.43582832e-01 1.43582832e-01 1.43582832e-01 1.43582832e-01\n",
      " 1.43582832e-01 1.43582832e-01 1.43582832e-01 1.43582832e-01\n",
      " 1.43582832e-01 1.43582832e-01 1.43582832e-01 1.43582832e-01\n",
      " 1.43582832e-01 1.43582832e-01 1.19823292e-01 1.43582832e-01\n",
      " 1.43582832e-01 1.31703062e-01 1.43582832e-01 1.43582832e-01\n",
      " 1.43582832e-01 1.43582832e-01 1.43582832e-01 1.43582832e-01\n",
      " 1.43582832e-01 1.43582832e-01 1.43582832e-01 1.43582832e-01\n",
      " 1.43582832e-01 1.19823292e-01 1.19823292e-01 1.43582832e-01\n",
      " 1.43582832e-01 1.43582832e-01 1.43582832e-01 1.43582832e-01\n",
      " 1.43582832e-01 1.43582832e-01 3.31607968e-01]\n",
      "(array([25, 50], dtype=int64),)\n",
      "[0.30160617 0.30160617 0.30160617 0.09766295 1.69473946 0.09766295\n",
      " 0.09766295 0.30160617 0.09766295 1.69473946 0.30160617 0.09766295\n",
      " 0.09766295 0.10197161 0.30160617 0.30160617 0.30160617 0.30160617\n",
      " 0.30160617 0.30160617 0.30160617 0.30160617 0.30160617 0.30160617\n",
      " 0.30160617 7.68377636 0.30160617 0.30160617 0.30160617 0.30160617\n",
      " 0.09766295 0.30160617 0.30160617 0.09766295 0.09766295 0.30160617\n",
      " 0.69656664 0.09766295 0.10197161 0.09766295 0.20178889 0.20178889\n",
      " 0.20178889 0.3971148  3.69108509 0.10197161 0.29729752 0.30160617\n",
      " 0.49693208 0.49693208 5.68743073 0.30160617 0.30160617 0.49693208\n",
      " 0.30160617 0.09766295 0.89620121 0.30160617 0.10197161 0.30160617\n",
      " 1.69473946 0.30160617 0.30160617 0.30160617 0.30160617 0.30160617\n",
      " 0.30160617 0.30160617 0.30160617 0.30160617 0.30160617 0.30160617\n",
      " 0.30160617 0.20178889 0.30160617 0.30160617 0.30160617 0.30160617\n",
      " 0.30160617 0.30160617 0.30160617 0.30160617 0.30160617 0.30160617\n",
      " 0.49693208 0.30160617 0.30160617 0.30160617 0.30160617 0.30160617\n",
      " 0.30160617 0.30160617 0.30160617 0.30160617 0.30160617 0.30160617\n",
      " 0.10197161 0.20178889 0.10197161 0.20178889 0.30160617 0.30160617\n",
      " 0.30160617 0.30160617 0.30160617 0.30160617 0.30160617 0.30160617\n",
      " 0.30160617 0.30160617 0.30160617 0.30160617 0.30160617 0.30160617\n",
      " 0.10197161 0.30160617 0.30160617 0.20178889 0.30160617 0.30160617\n",
      " 0.30160617 0.30160617 0.30160617 0.30160617 0.30160617 0.30160617\n",
      " 0.30160617 0.30160617 0.30160617 0.10197161 0.10197161 0.30160617\n",
      " 0.30160617 0.30160617 0.30160617 0.30160617 0.30160617 0.30160617\n",
      " 3.69108509]\n"
     ]
    },
    {
     "data": {
      "text/plain": [
       "<matplotlib.axes._subplots.AxesSubplot at 0x1492e08a3a0>"
      ]
     },
     "execution_count": 181,
     "metadata": {},
     "output_type": "execute_result"
    },
    {
     "data": {
      "image/png": "[encoded data removed]",
      "text/plain": [
       "<Figure size 432x288 with 1 Axes>"
      ]
     },
     "metadata": {},
     "output_type": "display_data"
    }
   ],
   "source": [
    "#Utilizaremos la función Z-score definida en la biblioteca scipy para detectar los valores atípicos.\n",
    "z = np.abs(stats.zscore(cursos['hours']))\n",
    "print(z)\n",
    "\n",
    "threshold = 3 #definir un umbral para identificar un valor atípico.\n",
    "print(np.where(z > 3)) # existen dos filas que se identifican como outliers\n",
    "\n",
    "#Las dos filas (25 y 50) identificadas como outliers, se observan y se ve que quizas se trata de un error debido a que tienen un\n",
    "#cero de más.\n",
    "cursos['hours'][25]#se observa el valor correspondiente\n",
    "cursos['hours'][50]#se observa el valor correspondiente\n",
    "\n",
    "cursos['hours'].replace({800: 80,600: 60}, inplace = True)#se quita un cero\n",
    "\n",
    "z = np.abs(stats.zscore(cursos['hours']))\n",
    "print(z)\n",
    "\n",
    "sns.boxplot(x=cursos['hours'])#se observan los valores en boxplot.\n"
   ]
  },
  {
   "cell_type": "code",
   "execution_count": 182,
   "metadata": {},
   "outputs": [],
   "source": [
    "#Programas\n",
    "#En esta tabla, no se puede realizar la tecnica para identificar outlier puesto que no se cuenta con ninguna variable cuantitva."
   ]
  },
  {
   "cell_type": "code",
   "execution_count": 183,
   "metadata": {},
   "outputs": [],
   "source": [
    "#Cursos en programas\n",
    "#En esta tabla, existe una variable cuantitativa (num_periodos). No tiene outliers ya que, como hemos observado en los estadisticos, los valores que toma son 0, 1, 2, o 3"
   ]
  },
  {
   "cell_type": "code",
   "execution_count": 184,
   "metadata": {},
   "outputs": [],
   "source": [
    "#Itinerarios\n",
    "#No hay variables cuantitativas"
   ]
  },
  {
   "cell_type": "code",
   "execution_count": 185,
   "metadata": {},
   "outputs": [
    {
     "name": "stdout",
     "output_type": "stream",
     "text": [
      "(array([ 363, 1320, 1321, 1322, 1323, 1324, 1325, 1326, 1327, 1328, 1836,\n",
      "       2376, 3002, 3378, 3379, 3380, 3634, 3635, 3636, 3637, 3638, 3639,\n",
      "       3640, 3641, 3642, 3648, 3649], dtype=int64),)\n"
     ]
    },
    {
     "data": {
      "text/plain": [
       "10.0"
      ]
     },
     "execution_count": 185,
     "metadata": {},
     "output_type": "execute_result"
    },
    {
     "data": {
      "image/png": "[encoded data removed]",
      "text/plain": [
       "<Figure size 432x288 with 1 Axes>"
      ]
     },
     "metadata": {},
     "output_type": "display_data"
    }
   ],
   "source": [
    "#Notas_cursos\n",
    "notas_cursos.describe() #como hemos visto antes, los valores de grade superan el 10\n",
    "\n",
    "sns.boxplot(x=notas_cursos['grade'])#se observan los valores en boxplot.\n",
    "z = np.abs(stats.zscore(notas_cursos['grade']))\n",
    "\n",
    "threshold = 3 #definir un umbral para identificar un valor atípico.\n",
    "print(np.where(z > 3)) # existen 27 filas con umbral mayor que 3\n",
    "\n",
    "#notas mayores que 10, se dividen por 10 y se obtiene la nota real\n",
    "notas_cursos.loc[notas_cursos['grade'] > 10, 'grade'] = notas_cursos['grade']/10 #transformacion de la nota\n",
    "notas_cursos['grade'].max()#se observa que el valor maximo es 10."
   ]
  },
  {
   "cell_type": "code",
   "execution_count": 186,
   "metadata": {},
   "outputs": [
    {
     "data": {
      "text/plain": [
       "<matplotlib.axes._subplots.AxesSubplot at 0x1492e1176a0>"
      ]
     },
     "execution_count": 186,
     "metadata": {},
     "output_type": "execute_result"
    },
    {
     "data": {
      "image/png": "[encoded data removed]",
      "text/plain": [
       "<Figure size 432x288 with 1 Axes>"
      ]
     },
     "metadata": {},
     "output_type": "display_data"
    }
   ],
   "source": [
    "sns.boxplot(x=notas_cursos['grade'])#se observan los valores sin outliers en boxplot."
   ]
  },
  {
   "cell_type": "code",
   "execution_count": 187,
   "metadata": {},
   "outputs": [],
   "source": [
    "#Roles\n",
    "#No hay variables cuantitativas"
   ]
  },
  {
   "cell_type": "code",
   "execution_count": 188,
   "metadata": {},
   "outputs": [],
   "source": [
    "#Plantas\n",
    "#No hay variables cuantitativas"
   ]
  },
  {
   "cell_type": "code",
   "execution_count": 189,
   "metadata": {},
   "outputs": [],
   "source": [
    "#Accesos\n",
    "#No hay variables cuantitativas"
   ]
  },
  {
   "cell_type": "code",
   "execution_count": 190,
   "metadata": {},
   "outputs": [],
   "source": [
    "#Acceso_1ero_ultimo\n",
    "#No hay variables cuantitativas"
   ]
  },
  {
   "cell_type": "code",
   "execution_count": 191,
   "metadata": {},
   "outputs": [
    {
     "name": "stdout",
     "output_type": "stream",
     "text": [
      "(array([], dtype=int64),)\n"
     ]
    },
    {
     "name": "stderr",
     "output_type": "stream",
     "text": [
      "<ipython-input-191-4392e306ae68>:8: RuntimeWarning: invalid value encountered in greater\n",
      "  print(np.where(z > 3)) #se observa que contamos con algunos outliers\n"
     ]
    },
    {
     "data": {
      "text/plain": [
       "10.0"
      ]
     },
     "execution_count": 191,
     "metadata": {},
     "output_type": "execute_result"
    },
    {
     "data": {
      "image/png": "[encoded data removed]",
      "text/plain": [
       "<Figure size 432x288 with 1 Axes>"
      ]
     },
     "metadata": {},
     "output_type": "display_data"
    }
   ],
   "source": [
    "#Actividades\n",
    "#tiene una variable cualitativa: grade\n",
    "actividades.describe() #notas por encima de 10\n",
    "\n",
    "sns.boxplot(x=actividades['grade'])#se observan los valores en boxplot.\n",
    "z = np.abs(stats.zscore(actividades['grade']))\n",
    "threshold = 3 #definir un umbral para identificar un valor atípico.\n",
    "print(np.where(z > 3)) #se observa que contamos con algunos outliers\n",
    "\n",
    "#notas mayores que 10, se dividen por 10 y se obtiene la nota real\n",
    "actividades.loc[actividades['grade'] > 10, 'grade'] = actividades['grade']/10\n",
    "actividades['grade'].max()#se observa que el valor maximo es 10."
   ]
  },
  {
   "cell_type": "code",
   "execution_count": 192,
   "metadata": {},
   "outputs": [
    {
     "data": {
      "text/plain": [
       "<matplotlib.axes._subplots.AxesSubplot at 0x1492e29cfa0>"
      ]
     },
     "execution_count": 192,
     "metadata": {},
     "output_type": "execute_result"
    },
    {
     "data": {
      "image/png": "[encoded data removed]",
      "text/plain": [
       "<Figure size 432x288 with 1 Axes>"
      ]
     },
     "metadata": {},
     "output_type": "display_data"
    }
   ],
   "source": [
    "sns.boxplot(x=actividades['grade'])#se observan los valores sin outliers en boxplot."
   ]
  },
  {
   "cell_type": "code",
   "execution_count": 193,
   "metadata": {},
   "outputs": [],
   "source": [
    "#Una vez los datos limpios, los descargamos como csv a la carpeta datosTransformados"
   ]
  },
  {
   "cell_type": "code",
   "execution_count": 194,
   "metadata": {},
   "outputs": [],
   "source": [
    "# Eliminar los .csv existentes (antiguos) en la carpeta y descargar la última version\n",
    "for f in os.listdir(path_dataset1):\n",
    "    if not f.endswith(\".csv\"):\n",
    "        continue\n",
    "    os.remove(os.path.join(path_dataset1, f))\n",
    "\n",
    "\n",
    "fn.convertir_csv(usuarios, 'usuarios.csv')\n",
    "fn.convertir_csv(tutores_perfil, 'tutores_perfil.csv')\n",
    "fn.convertir_csv(conocimientos, 'conocimientos.csv')\n",
    "fn.convertir_csv(cursos, 'cursos.csv')\n",
    "fn.convertir_csv(programas, 'programas.csv')\n",
    "fn.convertir_csv(cursos_en_programas, 'cursos_en_programas.csv')\n",
    "fn.convertir_csv(itinerarios, 'itinerarios.csv')\n",
    "fn.convertir_csv(notas_cursos, 'notas_cursos.csv')\n",
    "fn.convertir_csv(roles, 'roles.csv')\n",
    "fn.convertir_csv(plantas, 'plantas.csv')\n",
    "fn.convertir_csv(accesos, 'accesos.csv')\n",
    "fn.convertir_csv(actividades, 'actividades.csv')"
   ]
  },
  {
   "cell_type": "code",
   "execution_count": 195,
   "metadata": {},
   "outputs": [
    {
     "name": "stderr",
     "output_type": "stream",
     "text": [
      "[NbConvertApp] Converting notebook Procesamiento.ipynb to script\n",
      "[NbConvertApp] Writing 27424 bytes to Procesamiento.py\n"
     ]
    }
   ],
   "source": [
    "!jupyter nbconvert --to script Procesamiento.ipynb"
   ]
  }
 ],
 "metadata": {
  "interpreter": {
   "hash": "72a6079d73eafc0590316d3b40a11fbcffba9212a851362991a80da4c423997a"
  },
  "kernelspec": {
   "display_name": "Python 3.9.7 64-bit",
   "language": "python",
   "name": "python3"
  },
  "language_info": {
   "codemirror_mode": {
    "name": "ipython",
    "version": 3
   },
   "file_extension": ".py",
   "mimetype": "text/x-python",
   "name": "python",
   "nbconvert_exporter": "python",
   "pygments_lexer": "ipython3",
   "version": "3.8.3"
  },
  "orig_nbformat": 4
 },
 "nbformat": 4,
 "nbformat_minor": 2
}

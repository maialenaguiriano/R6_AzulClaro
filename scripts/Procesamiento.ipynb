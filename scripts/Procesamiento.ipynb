{
 "cells": [
  {
   "cell_type": "markdown",
   "metadata": {},
   "source": [
    "### Librerias"
   ]
  },
  {
   "cell_type": "code",
   "execution_count": 61,
   "metadata": {},
   "outputs": [],
   "source": [
    "import pandas as pd  \n",
    "import os\n",
    "import numpy as np\n",
    "import datetime as dt # para gestión de fechas\n",
    "import seaborn as sns\n",
    "import matplotlib.pyplot as plt\n",
    "import matplotlib.mlab as mlab\n",
    "import matplotlib\n",
    "plt.style.use('ggplot')\n",
    "from matplotlib.pyplot import figure\n",
    "from datetime import datetime\n",
    "import locale\n",
    "from scipy import stats\n",
    "import re"
   ]
  },
  {
   "cell_type": "markdown",
   "metadata": {},
   "source": [
    "### Importar módulos creados por nosotros"
   ]
  },
  {
   "cell_type": "code",
   "execution_count": 2,
   "metadata": {},
   "outputs": [],
   "source": [
    "import funciones as fn #funciones es el nombre del script dnd hemos creado las funciones\n",
    "#from funciones import * \n",
    "#from scripts.librerias import *"
   ]
  },
  {
   "cell_type": "markdown",
   "metadata": {},
   "source": [
    "### Carga de datos"
   ]
  },
  {
   "cell_type": "code",
   "execution_count": 3,
   "metadata": {},
   "outputs": [],
   "source": [
    "path_dataset = 'D:\\\\Desktop\\\\Reto06\\\\datosOriginales\\\\' # ruta donde se encuentran los datos\n",
    "file = 'EDERJAKIN_LA_Datos_2021.xlsm'\n",
    "fichero = pd.ExcelFile(path_dataset + file)\n",
    "nombres_hojas = fichero.sheet_names"
   ]
  },
  {
   "cell_type": "code",
   "execution_count": 4,
   "metadata": {},
   "outputs": [],
   "source": [
    "# leer todas las hojas\n",
    "todo  = pd.read_excel(os.path.join(path_dataset,file), sheet_name = nombres_hojas)\n",
    "\n",
    "# separar\n",
    "for i in todo.keys():\n",
    "    globals()['%s' % i.replace(\" \", \"_\").lower()] = todo[i]"
   ]
  },
  {
   "cell_type": "markdown",
   "metadata": {},
   "source": [
    "# Limpieza "
   ]
  },
  {
   "cell_type": "markdown",
   "metadata": {},
   "source": [
    "## DATA CLEANING"
   ]
  },
  {
   "cell_type": "markdown",
   "metadata": {},
   "source": [
    "### ELIMINACION DE VARIABLES Y FILAS QUE NO DAN INFORMACION"
   ]
  },
  {
   "cell_type": "code",
   "execution_count": 5,
   "metadata": {},
   "outputs": [
    {
     "name": "stdout",
     "output_type": "stream",
     "text": [
      "<class 'pandas.core.frame.DataFrame'>\n",
      "RangeIndex: 372 entries, 0 to 371\n",
      "Data columns (total 3 columns):\n",
      " #   Column         Non-Null Count  Dtype \n",
      "---  ------         --------------  ----- \n",
      " 0   mdl_user_id    372 non-null    int64 \n",
      " 1   1er acceso     372 non-null    object\n",
      " 2   ultimo acceso  372 non-null    object\n",
      "dtypes: int64(1), object(2)\n",
      "memory usage: 8.8+ KB\n"
     ]
    }
   ],
   "source": [
    "acceso_1ero_ultimo.info()"
   ]
  },
  {
   "cell_type": "code",
   "execution_count": 6,
   "metadata": {},
   "outputs": [],
   "source": [
    "#Usuarios\n",
    "fn.eliminar_columnas(usuarios, 'last_access') #mas tarde imputaremos esta columna junto al primer acceso que estan en df accesos_1ero_ultimo"
   ]
  },
  {
   "cell_type": "code",
   "execution_count": 7,
   "metadata": {},
   "outputs": [],
   "source": [
    "#Tutores_perfil\n",
    "#fn.eliminar_columnas(tutores_perfil, '')"
   ]
  },
  {
   "cell_type": "code",
   "execution_count": 8,
   "metadata": {},
   "outputs": [],
   "source": [
    "#Conocimientos\n",
    "fn.eliminar_columnas(conocimientos, ['color', 'description', 'referencia']) #quitamos color y description ya que no aportan info y tienen pocos valores \n"
   ]
  },
  {
   "cell_type": "code",
   "execution_count": 9,
   "metadata": {},
   "outputs": [],
   "source": [
    "#Cursos\n",
    "fn.eliminar_columnas(cursos, ['summary', 'sortorder']) #quitamos summary ya que con la informacion de course_name es suficiente, y sortorder porque no aporta info necesaria"
   ]
  },
  {
   "cell_type": "code",
   "execution_count": 10,
   "metadata": {},
   "outputs": [],
   "source": [
    "#Itinerarios\n",
    "fn.eliminar_columnas(itinearios, ['remarks']) #esta vacia y no aporta informacion"
   ]
  },
  {
   "cell_type": "code",
   "execution_count": 11,
   "metadata": {},
   "outputs": [],
   "source": [
    "#Accesos\n",
    "accesos.groupby('description').size() #quitamos los accesos que fueron ERROR, ya que no son errores validos\n",
    "accesos['description']= accesos[accesos['description'] != 'Login SRM ERROR 1']"
   ]
  },
  {
   "cell_type": "code",
   "execution_count": 12,
   "metadata": {},
   "outputs": [],
   "source": [
    "#Acceso_1ero_ultimo\n",
    "fn.eliminar_dias(df= acceso_1ero_ultimo , columna= '1er acceso') #convertimos las fechas de texto a numerico, primero eliminando el dia de la semana\n",
    "fn.eliminar_dias(df= acceso_1ero_ultimo , columna= 'ultimo acceso')"
   ]
  },
  {
   "cell_type": "code",
   "execution_count": 13,
   "metadata": {},
   "outputs": [
    {
     "data": {
      "text/plain": [
       "'Spanish_Spain.1252'"
      ]
     },
     "execution_count": 13,
     "metadata": {},
     "output_type": "execute_result"
    }
   ],
   "source": [
    "locale.setlocale(locale.LC_ALL, 'esp_esp') #cambiamos el idioma"
   ]
  },
  {
   "cell_type": "code",
   "execution_count": 14,
   "metadata": {},
   "outputs": [
    {
     "ename": "NameError",
     "evalue": "name 'datetime' is not defined",
     "output_type": "error",
     "traceback": [
      "\u001b[1;31m---------------------------------------------------------------------------\u001b[0m",
      "\u001b[1;31mNameError\u001b[0m                                 Traceback (most recent call last)",
      "\u001b[1;32m<ipython-input-14-272a1c822e31>\u001b[0m in \u001b[0;36m<module>\u001b[1;34m\u001b[0m\n\u001b[1;32m----> 1\u001b[1;33m \u001b[0mfn\u001b[0m\u001b[1;33m.\u001b[0m\u001b[0mfecha_texto\u001b[0m\u001b[1;33m(\u001b[0m\u001b[0macceso_1ero_ultimo\u001b[0m\u001b[1;33m,\u001b[0m \u001b[1;34m'1er acceso'\u001b[0m\u001b[1;33m)\u001b[0m\u001b[1;33m\u001b[0m\u001b[1;33m\u001b[0m\u001b[0m\n\u001b[0m\u001b[0;32m      2\u001b[0m \u001b[0mfn\u001b[0m\u001b[1;33m.\u001b[0m\u001b[0mfecha_texto\u001b[0m\u001b[1;33m(\u001b[0m\u001b[0macceso_1ero_ultimo\u001b[0m\u001b[1;33m,\u001b[0m \u001b[1;34m'ultimo acceso'\u001b[0m\u001b[1;33m)\u001b[0m \u001b[1;31m#PORQUE LA FUNCION NO FUNCIONA??\u001b[0m\u001b[1;33m\u001b[0m\u001b[1;33m\u001b[0m\u001b[0m\n",
      "\u001b[1;32md:\\Desktop\\Reto06\\scripts\\funciones.py\u001b[0m in \u001b[0;36mfecha_texto\u001b[1;34m(df, columna)\u001b[0m\n\u001b[0;32m     57\u001b[0m     \u001b[1;32mfor\u001b[0m \u001b[0mindex\u001b[0m\u001b[1;33m,\u001b[0m \u001b[0mvalue\u001b[0m \u001b[1;32min\u001b[0m \u001b[0menumerate\u001b[0m\u001b[1;33m(\u001b[0m\u001b[0mdf\u001b[0m\u001b[1;33m[\u001b[0m\u001b[0mcolumna\u001b[0m\u001b[1;33m]\u001b[0m\u001b[1;33m)\u001b[0m\u001b[1;33m:\u001b[0m\u001b[1;33m\u001b[0m\u001b[1;33m\u001b[0m\u001b[0m\n\u001b[0;32m     58\u001b[0m         \u001b[1;32mif\u001b[0m \u001b[0mvalue\u001b[0m \u001b[1;33m!=\u001b[0m \u001b[1;34m'--'\u001b[0m\u001b[1;33m:\u001b[0m\u001b[1;33m\u001b[0m\u001b[1;33m\u001b[0m\u001b[0m\n\u001b[1;32m---> 59\u001b[1;33m             \u001b[0mdf\u001b[0m\u001b[1;33m.\u001b[0m\u001b[0mloc\u001b[0m\u001b[1;33m[\u001b[0m\u001b[0mindex\u001b[0m\u001b[1;33m,\u001b[0m \u001b[0mcolumna\u001b[0m\u001b[1;33m]\u001b[0m\u001b[1;33m=\u001b[0m \u001b[0mdatetime\u001b[0m\u001b[1;33m.\u001b[0m\u001b[0mstrptime\u001b[0m\u001b[1;33m(\u001b[0m\u001b[0mvalue\u001b[0m\u001b[1;33m,\u001b[0m \u001b[1;34m'%d de %B de %Y, %H:%M'\u001b[0m\u001b[1;33m)\u001b[0m\u001b[1;33m\u001b[0m\u001b[1;33m\u001b[0m\u001b[0m\n\u001b[0m\u001b[0;32m     60\u001b[0m \u001b[1;33m\u001b[0m\u001b[0m\n",
      "\u001b[1;31mNameError\u001b[0m: name 'datetime' is not defined"
     ]
    }
   ],
   "source": [
    "fn.fecha_texto(acceso_1ero_ultimo, '1er acceso')\n",
    "fn.fecha_texto(acceso_1ero_ultimo, 'ultimo acceso') #PORQUE LA FUNCION NO FUNCIONA??"
   ]
  },
  {
   "cell_type": "code",
   "execution_count": 15,
   "metadata": {},
   "outputs": [],
   "source": [
    "for index, value in enumerate(acceso_1ero_ultimo['1er acceso']):\n",
    "    if value != '--':\n",
    "        acceso_1ero_ultimo.loc[index, '1er acceso']=datetime.strptime(value, '%d de %B de %Y, %H:%M')\n",
    "    else:\n",
    "         acceso_1ero_ultimo.loc[index, '1er acceso'] = None"
   ]
  },
  {
   "cell_type": "code",
   "execution_count": 16,
   "metadata": {},
   "outputs": [],
   "source": [
    "for index, value in enumerate(acceso_1ero_ultimo['ultimo acceso']):\n",
    "    if value != '--':\n",
    "        acceso_1ero_ultimo.loc[index, 'ultimo acceso']=datetime.strptime(value, '%d de %B de %Y, %H:%M')\n",
    "    else: \n",
    "        acceso_1ero_ultimo.loc[index, 'ultimo acceso'] = None #covertimos -- a valores vacios\n"
   ]
  },
  {
   "cell_type": "markdown",
   "metadata": {},
   "source": [
    "### CORRECCION DEL TIPO DE LAS VARIABLES"
   ]
  },
  {
   "cell_type": "code",
   "execution_count": 17,
   "metadata": {},
   "outputs": [
    {
     "name": "stdout",
     "output_type": "stream",
     "text": [
      "<class 'pandas.core.frame.DataFrame'>\n",
      "RangeIndex: 420 entries, 0 to 419\n",
      "Data columns (total 10 columns):\n",
      " #   Column            Non-Null Count  Dtype  \n",
      "---  ------            --------------  -----  \n",
      " 0   user_id           420 non-null    int64  \n",
      " 1   useranonimo_name  420 non-null    object \n",
      " 2   active_flag       420 non-null    int64  \n",
      " 3   language          420 non-null    object \n",
      " 4   mdl_user_id       405 non-null    float64\n",
      " 5   role_admin        420 non-null    int64  \n",
      " 6   role_manager      420 non-null    int64  \n",
      " 7   role_student      420 non-null    int64  \n",
      " 8   role_tutor        420 non-null    int64  \n",
      " 9   planta_name       420 non-null    object \n",
      "dtypes: float64(1), int64(6), object(3)\n",
      "memory usage: 32.9+ KB\n"
     ]
    }
   ],
   "source": [
    "#usuarios:\n",
    "usuarios.info()"
   ]
  },
  {
   "cell_type": "code",
   "execution_count": 18,
   "metadata": {},
   "outputs": [],
   "source": [
    "fn.corregir_tipo(df = usuarios, columnas = [ 'user_id', 'language', 'planta_name'], tipo = 'category') #las pasamos a tipo category\n",
    "fn.corregir_tipo(df = usuarios, columnas = ['active_flag',  'role_admin','role_manager','role_student','role_tutor'], tipo = 'bool') #a tipo bool\n",
    "fn.corregir_tipo(df = usuarios, columnas = [ 'mdl_user_id'], tipo = 'object')"
   ]
  },
  {
   "cell_type": "code",
   "execution_count": 19,
   "metadata": {},
   "outputs": [
    {
     "data": {
      "text/html": [
       "<div>\n",
       "<style scoped>\n",
       "    .dataframe tbody tr th:only-of-type {\n",
       "        vertical-align: middle;\n",
       "    }\n",
       "\n",
       "    .dataframe tbody tr th {\n",
       "        vertical-align: top;\n",
       "    }\n",
       "\n",
       "    .dataframe thead th {\n",
       "        text-align: right;\n",
       "    }\n",
       "</style>\n",
       "<table border=\"1\" class=\"dataframe\">\n",
       "  <thead>\n",
       "    <tr style=\"text-align: right;\">\n",
       "      <th></th>\n",
       "      <th>user_id</th>\n",
       "      <th>useranonimo_name</th>\n",
       "      <th>active_flag</th>\n",
       "      <th>language</th>\n",
       "      <th>mdl_user_id</th>\n",
       "      <th>role_admin</th>\n",
       "      <th>role_manager</th>\n",
       "      <th>role_student</th>\n",
       "      <th>role_tutor</th>\n",
       "      <th>planta_name</th>\n",
       "    </tr>\n",
       "  </thead>\n",
       "  <tbody>\n",
       "    <tr>\n",
       "      <th>0</th>\n",
       "      <td>3</td>\n",
       "      <td>username_03</td>\n",
       "      <td>True</td>\n",
       "      <td>es</td>\n",
       "      <td>13</td>\n",
       "      <td>False</td>\n",
       "      <td>False</td>\n",
       "      <td>True</td>\n",
       "      <td>False</td>\n",
       "      <td>ABP Bergara</td>\n",
       "    </tr>\n",
       "    <tr>\n",
       "      <th>1</th>\n",
       "      <td>4</td>\n",
       "      <td>username_04</td>\n",
       "      <td>True</td>\n",
       "      <td>es</td>\n",
       "      <td>14</td>\n",
       "      <td>False</td>\n",
       "      <td>False</td>\n",
       "      <td>True</td>\n",
       "      <td>False</td>\n",
       "      <td>Fagorederlan</td>\n",
       "    </tr>\n",
       "    <tr>\n",
       "      <th>2</th>\n",
       "      <td>5</td>\n",
       "      <td>username_05</td>\n",
       "      <td>True</td>\n",
       "      <td>es</td>\n",
       "      <td>15</td>\n",
       "      <td>False</td>\n",
       "      <td>False</td>\n",
       "      <td>True</td>\n",
       "      <td>False</td>\n",
       "      <td>ABP Arrasate</td>\n",
       "    </tr>\n",
       "    <tr>\n",
       "      <th>3</th>\n",
       "      <td>6</td>\n",
       "      <td>username_06</td>\n",
       "      <td>True</td>\n",
       "      <td>es</td>\n",
       "      <td>17</td>\n",
       "      <td>False</td>\n",
       "      <td>False</td>\n",
       "      <td>True</td>\n",
       "      <td>False</td>\n",
       "      <td>Fagorederlan</td>\n",
       "    </tr>\n",
       "    <tr>\n",
       "      <th>4</th>\n",
       "      <td>7</td>\n",
       "      <td>username_07</td>\n",
       "      <td>True</td>\n",
       "      <td>es</td>\n",
       "      <td>18</td>\n",
       "      <td>False</td>\n",
       "      <td>False</td>\n",
       "      <td>True</td>\n",
       "      <td>False</td>\n",
       "      <td>ABP Arrasate</td>\n",
       "    </tr>\n",
       "  </tbody>\n",
       "</table>\n",
       "</div>"
      ],
      "text/plain": [
       "  user_id useranonimo_name  active_flag language mdl_user_id  role_admin  \\\n",
       "0       3      username_03         True       es          13       False   \n",
       "1       4      username_04         True       es          14       False   \n",
       "2       5      username_05         True       es          15       False   \n",
       "3       6      username_06         True       es          17       False   \n",
       "4       7      username_07         True       es          18       False   \n",
       "\n",
       "   role_manager  role_student  role_tutor   planta_name  \n",
       "0         False          True       False   ABP Bergara  \n",
       "1         False          True       False  Fagorederlan  \n",
       "2         False          True       False  ABP Arrasate  \n",
       "3         False          True       False  Fagorederlan  \n",
       "4         False          True       False  ABP Arrasate  "
      ]
     },
     "execution_count": 19,
     "metadata": {},
     "output_type": "execute_result"
    }
   ],
   "source": [
    "#quitamos columnas Unnamed:\n",
    "fn.eliminar_unnamed(usuarios)\n",
    "usuarios.head() #correcto"
   ]
  },
  {
   "cell_type": "code",
   "execution_count": 20,
   "metadata": {},
   "outputs": [
    {
     "name": "stdout",
     "output_type": "stream",
     "text": [
      "<class 'pandas.core.frame.DataFrame'>\n",
      "RangeIndex: 188 entries, 0 to 187\n",
      "Data columns (total 3 columns):\n",
      " #   Column       Non-Null Count  Dtype \n",
      "---  ------       --------------  ----- \n",
      " 0   perfil_id    188 non-null    int64 \n",
      " 1   user_id      188 non-null    int64 \n",
      " 2   perfil_name  118 non-null    object\n",
      "dtypes: int64(2), object(1)\n",
      "memory usage: 4.5+ KB\n"
     ]
    }
   ],
   "source": [
    "#tutores_perfil\n",
    "tutores_perfil.info()"
   ]
  },
  {
   "cell_type": "code",
   "execution_count": 21,
   "metadata": {},
   "outputs": [
    {
     "name": "stdout",
     "output_type": "stream",
     "text": [
      "<class 'pandas.core.frame.DataFrame'>\n",
      "RangeIndex: 188 entries, 0 to 187\n",
      "Data columns (total 3 columns):\n",
      " #   Column       Non-Null Count  Dtype   \n",
      "---  ------       --------------  -----   \n",
      " 0   perfil_id    188 non-null    category\n",
      " 1   user_id      188 non-null    category\n",
      " 2   perfil_name  118 non-null    object  \n",
      "dtypes: category(2), object(1)\n",
      "memory usage: 8.5+ KB\n"
     ]
    }
   ],
   "source": [
    "fn.corregir_tipo(df= tutores_perfil, columnas= ['user_id','perfil_id'], tipo= 'category') #las pasamos a tipo category\n",
    "fn.eliminar_unnamed(tutores_perfil) #eliminamos columnas unnamed\n",
    "tutores_perfil.info() #correcto"
   ]
  },
  {
   "cell_type": "code",
   "execution_count": 22,
   "metadata": {},
   "outputs": [
    {
     "name": "stdout",
     "output_type": "stream",
     "text": [
      "<class 'pandas.core.frame.DataFrame'>\n",
      "RangeIndex: 155 entries, 0 to 154\n",
      "Data columns (total 5 columns):\n",
      " #   Column                       Non-Null Count  Dtype \n",
      "---  ------                       --------------  ----- \n",
      " 0   conocimiento_id              155 non-null    int64 \n",
      " 1   conocimiento_name            155 non-null    object\n",
      " 2   created_by                   155 non-null    int64 \n",
      " 3   categoria_conocimiento_id    155 non-null    int64 \n",
      " 4   categoria_conocimiento_name  133 non-null    object\n",
      "dtypes: int64(3), object(2)\n",
      "memory usage: 6.2+ KB\n"
     ]
    }
   ],
   "source": [
    "#Conocimientos\n",
    "conocimientos.info()"
   ]
  },
  {
   "cell_type": "code",
   "execution_count": 23,
   "metadata": {},
   "outputs": [
    {
     "name": "stdout",
     "output_type": "stream",
     "text": [
      "<class 'pandas.core.frame.DataFrame'>\n",
      "RangeIndex: 155 entries, 0 to 154\n",
      "Data columns (total 5 columns):\n",
      " #   Column                       Non-Null Count  Dtype   \n",
      "---  ------                       --------------  -----   \n",
      " 0   conocimiento_id              155 non-null    category\n",
      " 1   conocimiento_name            155 non-null    object  \n",
      " 2   created_by                   155 non-null    category\n",
      " 3   categoria_conocimiento_id    155 non-null    category\n",
      " 4   categoria_conocimiento_name  133 non-null    object  \n",
      "dtypes: category(3), object(2)\n",
      "memory usage: 10.9+ KB\n"
     ]
    }
   ],
   "source": [
    "fn.corregir_tipo(df= conocimientos, columnas= [ 'conocimiento_id','categoria_conocimiento_id','created_by'], tipo= 'category') #las pasamos a category\n",
    "fn.eliminar_unnamed(conocimientos) #quitamos columnas 'unnamed'\n",
    "conocimientos.info() #correcto"
   ]
  },
  {
   "cell_type": "code",
   "execution_count": 24,
   "metadata": {},
   "outputs": [
    {
     "name": "stdout",
     "output_type": "stream",
     "text": [
      "<class 'pandas.core.frame.DataFrame'>\n",
      "RangeIndex: 139 entries, 0 to 138\n",
      "Data columns (total 5 columns):\n",
      " #   Column            Non-Null Count  Dtype \n",
      "---  ------            --------------  ----- \n",
      " 0   course_id         139 non-null    int64 \n",
      " 1   course_name       139 non-null    object\n",
      " 2   category          139 non-null    int64 \n",
      " 3   hours             139 non-null    int64 \n",
      " 4   course_shortname  139 non-null    object\n",
      "dtypes: int64(3), object(2)\n",
      "memory usage: 5.6+ KB\n"
     ]
    }
   ],
   "source": [
    "#Cursos\n",
    "cursos.info()"
   ]
  },
  {
   "cell_type": "code",
   "execution_count": 25,
   "metadata": {},
   "outputs": [
    {
     "name": "stdout",
     "output_type": "stream",
     "text": [
      "<class 'pandas.core.frame.DataFrame'>\n",
      "RangeIndex: 139 entries, 0 to 138\n",
      "Data columns (total 5 columns):\n",
      " #   Column            Non-Null Count  Dtype   \n",
      "---  ------            --------------  -----   \n",
      " 0   course_id         139 non-null    category\n",
      " 1   course_name       139 non-null    object  \n",
      " 2   category          139 non-null    category\n",
      " 3   hours             139 non-null    int64   \n",
      " 4   course_shortname  139 non-null    object  \n",
      "dtypes: category(2), int64(1), object(2)\n",
      "memory usage: 10.6+ KB\n"
     ]
    }
   ],
   "source": [
    "fn.corregir_tipo(df= cursos, columnas= ['category', 'course_id'], tipo= 'category') #las pasamos a tipo category\n",
    "fn.eliminar_unnamed(cursos) #eliminamos columnas unnamed\n",
    "cursos.info() #correcto"
   ]
  },
  {
   "cell_type": "code",
   "execution_count": 26,
   "metadata": {},
   "outputs": [
    {
     "name": "stdout",
     "output_type": "stream",
     "text": [
      "<class 'pandas.core.frame.DataFrame'>\n",
      "RangeIndex: 110 entries, 0 to 109\n",
      "Data columns (total 3 columns):\n",
      " #   Column               Non-Null Count  Dtype \n",
      "---  ------               --------------  ----- \n",
      " 0   program_id           110 non-null    int64 \n",
      " 1   program_name         110 non-null    object\n",
      " 2   program_category_id  109 non-null    object\n",
      "dtypes: int64(1), object(2)\n",
      "memory usage: 2.7+ KB\n"
     ]
    }
   ],
   "source": [
    "#Programas\n",
    "programas.info()"
   ]
  },
  {
   "cell_type": "code",
   "execution_count": 27,
   "metadata": {},
   "outputs": [
    {
     "name": "stdout",
     "output_type": "stream",
     "text": [
      "<class 'pandas.core.frame.DataFrame'>\n",
      "RangeIndex: 110 entries, 0 to 109\n",
      "Data columns (total 3 columns):\n",
      " #   Column               Non-Null Count  Dtype   \n",
      "---  ------               --------------  -----   \n",
      " 0   program_id           110 non-null    category\n",
      " 1   program_name         110 non-null    object  \n",
      " 2   program_category_id  109 non-null    category\n",
      "dtypes: category(2), object(1)\n",
      "memory usage: 7.4+ KB\n"
     ]
    }
   ],
   "source": [
    "fn.corregir_tipo(df= programas, columnas= ['program_id', 'program_category_id', ], tipo= 'category') #las pasamos a tipo category\n",
    "fn.eliminar_unnamed(programas) #eliminamos columnas unnamed\n",
    "programas.info() #correcto"
   ]
  },
  {
   "cell_type": "code",
   "execution_count": 28,
   "metadata": {},
   "outputs": [
    {
     "name": "stdout",
     "output_type": "stream",
     "text": [
      "<class 'pandas.core.frame.DataFrame'>\n",
      "RangeIndex: 253 entries, 0 to 252\n",
      "Data columns (total 8 columns):\n",
      " #   Column                    Non-Null Count  Dtype \n",
      "---  ------                    --------------  ----- \n",
      " 0   program_course_online_id  253 non-null    int64 \n",
      " 1   course_moodle_id          253 non-null    int64 \n",
      " 2   conocimiento_id           253 non-null    int64 \n",
      " 3   num_periodo               253 non-null    int64 \n",
      " 4   program_id                253 non-null    int64 \n",
      " 5   course_moodle_id.1        253 non-null    object\n",
      " 6   conocimiento_name         253 non-null    object\n",
      " 7   program_name              253 non-null    object\n",
      "dtypes: int64(5), object(3)\n",
      "memory usage: 15.9+ KB\n"
     ]
    }
   ],
   "source": [
    "#Cursos en programas\n",
    "cursos_en_programas.info()"
   ]
  },
  {
   "cell_type": "code",
   "execution_count": 29,
   "metadata": {},
   "outputs": [
    {
     "name": "stdout",
     "output_type": "stream",
     "text": [
      "<class 'pandas.core.frame.DataFrame'>\n",
      "RangeIndex: 253 entries, 0 to 252\n",
      "Data columns (total 8 columns):\n",
      " #   Column                    Non-Null Count  Dtype   \n",
      "---  ------                    --------------  -----   \n",
      " 0   program_course_online_id  253 non-null    category\n",
      " 1   course_moodle_id          253 non-null    category\n",
      " 2   conocimiento_id           253 non-null    category\n",
      " 3   num_periodo               253 non-null    category\n",
      " 4   program_id                253 non-null    category\n",
      " 5   course_moodle_name        253 non-null    object  \n",
      " 6   conocimiento_name         253 non-null    object  \n",
      " 7   program_name              253 non-null    object  \n",
      "dtypes: category(5), object(3)\n",
      "memory usage: 28.9+ KB\n"
     ]
    }
   ],
   "source": [
    "fn.corregir_tipo(df= cursos_en_programas, columnas= ['program_course_online_id','course_moodle_id','conocimiento_id', 'program_id', 'num_periodo' ], tipo= 'category') #las pasamos a tipo category\n",
    "fn.eliminar_unnamed(cursos_en_programas) #eliminamos columnas unnamed\n",
    "\n",
    "#cambiamos el mobre de course_moodle_id.1 a course_moodle_name\n",
    "cursos_en_programas.rename(columns={'course_moodle_id.1': 'course_moodle_name'}, inplace=True)\n",
    "cursos_en_programas.info() #correcto\n"
   ]
  },
  {
   "cell_type": "code",
   "execution_count": 30,
   "metadata": {},
   "outputs": [
    {
     "name": "stdout",
     "output_type": "stream",
     "text": [
      "<class 'pandas.core.frame.DataFrame'>\n",
      "RangeIndex: 467 entries, 0 to 466\n",
      "Data columns (total 10 columns):\n",
      " #   Column              Non-Null Count  Dtype \n",
      "---  ------              --------------  ----- \n",
      " 0   active_flag         467 non-null    int64 \n",
      " 1   category_id         467 non-null    int64 \n",
      " 2   date_enroll         466 non-null    object\n",
      " 3   enroll_end          170 non-null    object\n",
      " 4   program_id          467 non-null    int64 \n",
      " 5   tutor_academico_id  467 non-null    int64 \n",
      " 6   tutor_empresa_id    467 non-null    int64 \n",
      " 7   user_id             467 non-null    int64 \n",
      " 8   category_name       467 non-null    object\n",
      " 9   program_name        467 non-null    object\n",
      "dtypes: int64(6), object(4)\n",
      "memory usage: 36.6+ KB\n"
     ]
    }
   ],
   "source": [
    "#Itinerarios\n",
    "itinearios.info()"
   ]
  },
  {
   "cell_type": "code",
   "execution_count": 31,
   "metadata": {},
   "outputs": [
    {
     "name": "stdout",
     "output_type": "stream",
     "text": [
      "<class 'pandas.core.frame.DataFrame'>\n",
      "RangeIndex: 467 entries, 0 to 466\n",
      "Data columns (total 10 columns):\n",
      " #   Column              Non-Null Count  Dtype              \n",
      "---  ------              --------------  -----              \n",
      " 0   active_flag         467 non-null    bool               \n",
      " 1   category_id         467 non-null    category           \n",
      " 2   date_enroll         466 non-null    datetime64[ns, UTC]\n",
      " 3   enroll_end          170 non-null    datetime64[ns, UTC]\n",
      " 4   program_id          467 non-null    category           \n",
      " 5   tutor_academico_id  467 non-null    category           \n",
      " 6   tutor_empresa_id    467 non-null    category           \n",
      " 7   user_id             467 non-null    category           \n",
      " 8   category_name       467 non-null    object             \n",
      " 9   program_name        467 non-null    object             \n",
      "dtypes: bool(1), category(5), datetime64[ns, UTC](2), object(2)\n",
      "memory usage: 34.8+ KB\n"
     ]
    }
   ],
   "source": [
    "#En primer lugar, cambiar nombre a tabla.\n",
    "\n",
    "itinerarios = itinearios\n",
    "\n",
    "fn.corregir_tipo(df= itinerarios, columnas= ['active_flag', ], tipo= 'bool') #las pasamos a tipo bool\n",
    "fn.corregir_tipo(df= itinerarios, columnas= ['user_id','tutor_academico_id', 'tutor_empresa_id','category_id', 'program_id' ], tipo= 'category') #las pasamos a tipo category\n",
    "\n",
    "itinerarios['enroll_end'] = pd.to_datetime(itinerarios['enroll_end'], utc= True) #las pasamos a tipo date\n",
    "itinerarios['date_enroll'] = pd.to_datetime(itinerarios['date_enroll'], utc= True)\n",
    "\n",
    "fn.eliminar_unnamed(itinerarios) #eliminamos columnas unnamed\n",
    "itinerarios.info() #correcto\n"
   ]
  },
  {
   "cell_type": "code",
   "execution_count": 32,
   "metadata": {},
   "outputs": [
    {
     "name": "stdout",
     "output_type": "stream",
     "text": [
      "<class 'pandas.core.frame.DataFrame'>\n",
      "RangeIndex: 3898 entries, 0 to 3897\n",
      "Data columns (total 8 columns):\n",
      " #   Column           Non-Null Count  Dtype  \n",
      "---  ------           --------------  -----  \n",
      " 0   enroll_grade_id  3898 non-null   int64  \n",
      " 1   active_flag      3898 non-null   int64  \n",
      " 2   course_id        3898 non-null   int64  \n",
      " 3   enroll_id        3898 non-null   int64  \n",
      " 4   grade            1475 non-null   float64\n",
      " 5   online_progress  1518 non-null   float64\n",
      " 6   course_name      3898 non-null   object \n",
      " 7   user_id          3898 non-null   int64  \n",
      "dtypes: float64(2), int64(5), object(1)\n",
      "memory usage: 243.8+ KB\n"
     ]
    }
   ],
   "source": [
    "#Notas_cursos\n",
    "notas_cursos.info()"
   ]
  },
  {
   "cell_type": "code",
   "execution_count": 33,
   "metadata": {},
   "outputs": [
    {
     "name": "stdout",
     "output_type": "stream",
     "text": [
      "<class 'pandas.core.frame.DataFrame'>\n",
      "RangeIndex: 3898 entries, 0 to 3897\n",
      "Data columns (total 8 columns):\n",
      " #   Column           Non-Null Count  Dtype   \n",
      "---  ------           --------------  -----   \n",
      " 0   enroll_grade_id  3898 non-null   category\n",
      " 1   active_flag      3898 non-null   bool    \n",
      " 2   course_id        3898 non-null   category\n",
      " 3   enroll_id        3898 non-null   category\n",
      " 4   grade            1475 non-null   float64 \n",
      " 5   online_progress  1518 non-null   float64 \n",
      " 6   course_name      3898 non-null   object  \n",
      " 7   user_id          3898 non-null   category\n",
      "dtypes: bool(1), category(4), float64(2), object(1)\n",
      "memory usage: 353.8+ KB\n"
     ]
    }
   ],
   "source": [
    "fn.corregir_tipo(df= notas_cursos, columnas= ['active_flag'], tipo= 'bool') #las pasamos a tipo bool\n",
    "fn.corregir_tipo(df= notas_cursos, columnas= ['enroll_grade_id', 'course_id', 'enroll_id', 'user_id' ], tipo= 'category')\n",
    "\n",
    "fn.eliminar_unnamed(notas_cursos) #eliminamos columnas unnamed\n",
    "notas_cursos.info() #correcto"
   ]
  },
  {
   "cell_type": "code",
   "execution_count": 34,
   "metadata": {},
   "outputs": [
    {
     "name": "stdout",
     "output_type": "stream",
     "text": [
      "<class 'pandas.core.frame.DataFrame'>\n",
      "RangeIndex: 4 entries, 0 to 3\n",
      "Data columns (total 2 columns):\n",
      " #   Column     Non-Null Count  Dtype \n",
      "---  ------     --------------  ----- \n",
      " 0   role_id    4 non-null      int64 \n",
      " 1   role_name  4 non-null      object\n",
      "dtypes: int64(1), object(1)\n",
      "memory usage: 192.0+ bytes\n"
     ]
    }
   ],
   "source": [
    "#Roles\n",
    "roles.info()"
   ]
  },
  {
   "cell_type": "code",
   "execution_count": 35,
   "metadata": {},
   "outputs": [
    {
     "name": "stdout",
     "output_type": "stream",
     "text": [
      "<class 'pandas.core.frame.DataFrame'>\n",
      "RangeIndex: 4 entries, 0 to 3\n",
      "Data columns (total 2 columns):\n",
      " #   Column     Non-Null Count  Dtype   \n",
      "---  ------     --------------  -----   \n",
      " 0   role_id    4 non-null      category\n",
      " 1   role_name  4 non-null      object  \n",
      "dtypes: category(1), object(1)\n",
      "memory usage: 356.0+ bytes\n"
     ]
    }
   ],
   "source": [
    "fn.corregir_tipo(df= roles, columnas= ['role_id'], tipo= 'category') #las pasamos a tipo category\n",
    "fn.eliminar_unnamed(roles) #eliminamos columnas unnamed\n",
    "roles.info() #correcto"
   ]
  },
  {
   "cell_type": "code",
   "execution_count": 36,
   "metadata": {},
   "outputs": [
    {
     "name": "stdout",
     "output_type": "stream",
     "text": [
      "<class 'pandas.core.frame.DataFrame'>\n",
      "RangeIndex: 18 entries, 0 to 17\n",
      "Data columns (total 2 columns):\n",
      " #   Column       Non-Null Count  Dtype \n",
      "---  ------       --------------  ----- \n",
      " 0   planta_id    18 non-null     int64 \n",
      " 1   planta_name  18 non-null     object\n",
      "dtypes: int64(1), object(1)\n",
      "memory usage: 416.0+ bytes\n"
     ]
    }
   ],
   "source": [
    "#Plantas\n",
    "plantas.info()"
   ]
  },
  {
   "cell_type": "code",
   "execution_count": 37,
   "metadata": {},
   "outputs": [],
   "source": [
    "fn.corregir_tipo(df= plantas, columnas= ['planta_id'], tipo= 'category') #las pasamos a tipo category\n",
    "fn.eliminar_unnamed(plantas) #eliminamos columnas unnamed"
   ]
  },
  {
   "cell_type": "code",
   "execution_count": 38,
   "metadata": {},
   "outputs": [
    {
     "name": "stdout",
     "output_type": "stream",
     "text": [
      "<class 'pandas.core.frame.DataFrame'>\n",
      "RangeIndex: 8816 entries, 0 to 8815\n",
      "Data columns (total 4 columns):\n",
      " #   Column       Non-Null Count  Dtype \n",
      "---  ------       --------------  ----- \n",
      " 0   description  8254 non-null   object\n",
      " 1   timestamp    8816 non-null   object\n",
      " 2   mdl_user_id  8816 non-null   int64 \n",
      " 3   user_id      8816 non-null   int64 \n",
      "dtypes: int64(2), object(2)\n",
      "memory usage: 275.6+ KB\n"
     ]
    }
   ],
   "source": [
    "#Accesos\n",
    "accesos.info()"
   ]
  },
  {
   "cell_type": "code",
   "execution_count": 39,
   "metadata": {},
   "outputs": [
    {
     "name": "stdout",
     "output_type": "stream",
     "text": [
      "<class 'pandas.core.frame.DataFrame'>\n",
      "RangeIndex: 8816 entries, 0 to 8815\n",
      "Data columns (total 4 columns):\n",
      " #   Column       Non-Null Count  Dtype              \n",
      "---  ------       --------------  -----              \n",
      " 0   description  8254 non-null   object             \n",
      " 1   timestamp    8816 non-null   datetime64[ns, UTC]\n",
      " 2   mdl_user_id  8816 non-null   category           \n",
      " 3   user_id      8816 non-null   category           \n",
      "dtypes: category(2), datetime64[ns, UTC](1), object(1)\n",
      "memory usage: 195.4+ KB\n"
     ]
    }
   ],
   "source": [
    "fn.corregir_tipo(df= accesos, columnas= ['mdl_user_id', 'user_id'], tipo= 'category') #las pasamos a tipo category\n",
    "fn.eliminar_unnamed(accesos) #eliminamos columnas unnamed\n",
    "accesos['timestamp'] = pd.to_datetime(accesos['timestamp'], utc= True)\n",
    "accesos.info() #correcto"
   ]
  },
  {
   "cell_type": "code",
   "execution_count": 40,
   "metadata": {},
   "outputs": [
    {
     "name": "stdout",
     "output_type": "stream",
     "text": [
      "<class 'pandas.core.frame.DataFrame'>\n",
      "RangeIndex: 372 entries, 0 to 371\n",
      "Data columns (total 3 columns):\n",
      " #   Column         Non-Null Count  Dtype \n",
      "---  ------         --------------  ----- \n",
      " 0   mdl_user_id    372 non-null    int64 \n",
      " 1   1er acceso     295 non-null    object\n",
      " 2   ultimo acceso  296 non-null    object\n",
      "dtypes: int64(1), object(2)\n",
      "memory usage: 8.8+ KB\n"
     ]
    }
   ],
   "source": [
    "#Acceso_1ero_ultimo\n",
    "acceso_1ero_ultimo.info()"
   ]
  },
  {
   "cell_type": "code",
   "execution_count": 41,
   "metadata": {},
   "outputs": [
    {
     "name": "stdout",
     "output_type": "stream",
     "text": [
      "<class 'pandas.core.frame.DataFrame'>\n",
      "RangeIndex: 372 entries, 0 to 371\n",
      "Data columns (total 3 columns):\n",
      " #   Column         Non-Null Count  Dtype              \n",
      "---  ------         --------------  -----              \n",
      " 0   mdl_user_id    372 non-null    category           \n",
      " 1   1er acceso     295 non-null    datetime64[ns, UTC]\n",
      " 2   ultimo acceso  295 non-null    datetime64[ns, UTC]\n",
      "dtypes: category(1), datetime64[ns, UTC](2)\n",
      "memory usage: 19.6 KB\n"
     ]
    }
   ],
   "source": [
    "fn.corregir_tipo(df= acceso_1ero_ultimo, columnas= ['mdl_user_id'], tipo= 'category') #las pasamos a tipo category\n",
    "acceso_1ero_ultimo['1er acceso'] = pd.to_datetime(acceso_1ero_ultimo['1er acceso'], utc= True) #a tipo datetime\n",
    "acceso_1ero_ultimo['ultimo acceso'] = pd.to_datetime(acceso_1ero_ultimo['1er acceso'], utc= True)\n",
    "fn.eliminar_unnamed(accesos) #eliminamos columnas unnamed\n",
    "acceso_1ero_ultimo.info()"
   ]
  },
  {
   "cell_type": "code",
   "execution_count": 34,
   "metadata": {},
   "outputs": [
    {
     "name": "stdout",
     "output_type": "stream",
     "text": [
      "<class 'pandas.core.frame.DataFrame'>\n",
      "RangeIndex: 3464 entries, 0 to 3463\n",
      "Data columns (total 7 columns):\n",
      " #   Column          Non-Null Count  Dtype  \n",
      "---  ------          --------------  -----  \n",
      " 0   mdl_user_id     3464 non-null   int64  \n",
      " 1   course_name     3464 non-null   object \n",
      " 2   course_id       3464 non-null   int64  \n",
      " 3   category        3464 non-null   object \n",
      " 4   actividad_name  3460 non-null   object \n",
      " 5   grade           2114 non-null   float64\n",
      " 6   time            2129 non-null   object \n",
      "dtypes: float64(1), int64(2), object(4)\n",
      "memory usage: 189.6+ KB\n"
     ]
    }
   ],
   "source": [
    "#Actividades\n",
    "actividades.info()"
   ]
  },
  {
   "cell_type": "code",
   "execution_count": 35,
   "metadata": {},
   "outputs": [
    {
     "name": "stdout",
     "output_type": "stream",
     "text": [
      "<class 'pandas.core.frame.DataFrame'>\n",
      "RangeIndex: 3464 entries, 0 to 3463\n",
      "Data columns (total 7 columns):\n",
      " #   Column          Non-Null Count  Dtype              \n",
      "---  ------          --------------  -----              \n",
      " 0   mdl_user_id     3464 non-null   category           \n",
      " 1   course_name     3464 non-null   object             \n",
      " 2   course_id       3464 non-null   category           \n",
      " 3   category        3464 non-null   category           \n",
      " 4   actividad_name  3460 non-null   object             \n",
      " 5   grade           2114 non-null   float64            \n",
      " 6   time            2129 non-null   datetime64[ns, UTC]\n",
      "dtypes: category(3), datetime64[ns, UTC](1), float64(1), object(2)\n",
      "memory usage: 131.9+ KB\n"
     ]
    }
   ],
   "source": [
    "fn.corregir_tipo(df= actividades, columnas= ['mdl_user_id', 'course_id', 'category'], tipo= 'category') #las pasamos a tipo category\n",
    "actividades['time'] = pd.to_datetime(actividades['time'], utc= True) #a tipo datetime\n",
    "\n",
    "fn.eliminar_unnamed(actividades) #eliminamos columnas unnamed\n",
    "actividades.info()"
   ]
  },
  {
   "cell_type": "markdown",
   "metadata": {},
   "source": [
    "# Estadisticos"
   ]
  },
  {
   "cell_type": "code",
   "execution_count": 36,
   "metadata": {},
   "outputs": [],
   "source": [
    "#Usuarios\n",
    "usuarios.shape #dimensiones (420, 12)\n",
    "usuarios.columns\n",
    "usuarios.describe() #son todas variables discretas\n",
    "usuarios['language'].value_counts().to_frame()\n",
    "usuarios['planta_name'].value_counts().to_frame() \n",
    "usuarios.loc[usuarios['planta_name'] == 'MT Aretxabal', 'planta_name'] = 'MT Aretxabaleta' #renombramos MT Aretxabal a MT Aretxabaleta\n",
    "\n"
   ]
  },
  {
   "cell_type": "code",
   "execution_count": 37,
   "metadata": {},
   "outputs": [
    {
     "data": {
      "text/html": [
       "<div>\n",
       "<style scoped>\n",
       "    .dataframe tbody tr th:only-of-type {\n",
       "        vertical-align: middle;\n",
       "    }\n",
       "\n",
       "    .dataframe tbody tr th {\n",
       "        vertical-align: top;\n",
       "    }\n",
       "\n",
       "    .dataframe thead th {\n",
       "        text-align: right;\n",
       "    }\n",
       "</style>\n",
       "<table border=\"1\" class=\"dataframe\">\n",
       "  <thead>\n",
       "    <tr style=\"text-align: right;\">\n",
       "      <th></th>\n",
       "      <th>perfil_name</th>\n",
       "    </tr>\n",
       "  </thead>\n",
       "  <tbody>\n",
       "    <tr>\n",
       "      <th>Tutor empresa</th>\n",
       "      <td>67</td>\n",
       "    </tr>\n",
       "    <tr>\n",
       "      <th>Instructor</th>\n",
       "      <td>27</td>\n",
       "    </tr>\n",
       "    <tr>\n",
       "      <th>Gestor de empresa</th>\n",
       "      <td>22</td>\n",
       "    </tr>\n",
       "    <tr>\n",
       "      <th>Tutor académico</th>\n",
       "      <td>2</td>\n",
       "    </tr>\n",
       "  </tbody>\n",
       "</table>\n",
       "</div>"
      ],
      "text/plain": [
       "                   perfil_name\n",
       "Tutor empresa               67\n",
       "Instructor                  27\n",
       "Gestor de empresa           22\n",
       "Tutor académico              2"
      ]
     },
     "execution_count": 37,
     "metadata": {},
     "output_type": "execute_result"
    }
   ],
   "source": [
    "#Tutores_perfil\n",
    "tutores_perfil.shape #dimensiones (188, 3)\n",
    "tutores_perfil.columns\n",
    "tutores_perfil.describe() #son todas variables discretas\n",
    "tutores_perfil['perfil_name'].value_counts().to_frame()"
   ]
  },
  {
   "cell_type": "code",
   "execution_count": 38,
   "metadata": {},
   "outputs": [
    {
     "data": {
      "text/html": [
       "<div>\n",
       "<style scoped>\n",
       "    .dataframe tbody tr th:only-of-type {\n",
       "        vertical-align: middle;\n",
       "    }\n",
       "\n",
       "    .dataframe tbody tr th {\n",
       "        vertical-align: top;\n",
       "    }\n",
       "\n",
       "    .dataframe thead th {\n",
       "        text-align: right;\n",
       "    }\n",
       "</style>\n",
       "<table border=\"1\" class=\"dataframe\">\n",
       "  <thead>\n",
       "    <tr style=\"text-align: right;\">\n",
       "      <th></th>\n",
       "      <th>categoria_conocimiento_name</th>\n",
       "    </tr>\n",
       "  </thead>\n",
       "  <tbody>\n",
       "    <tr>\n",
       "      <th>TÉCNICOS/TECNOLÓGICOS ABP</th>\n",
       "      <td>24</td>\n",
       "    </tr>\n",
       "    <tr>\n",
       "      <th>GESTION</th>\n",
       "      <td>22</td>\n",
       "    </tr>\n",
       "    <tr>\n",
       "      <th>TÉCNICO / TECNOLÓGICO MT - REFERENCIAS</th>\n",
       "      <td>16</td>\n",
       "    </tr>\n",
       "    <tr>\n",
       "      <th>ACOGIDA</th>\n",
       "      <td>16</td>\n",
       "    </tr>\n",
       "    <tr>\n",
       "      <th>DUAL</th>\n",
       "      <td>15</td>\n",
       "    </tr>\n",
       "    <tr>\n",
       "      <th>TÉCNICOS</th>\n",
       "      <td>8</td>\n",
       "    </tr>\n",
       "    <tr>\n",
       "      <th>PERSONALES</th>\n",
       "      <td>8</td>\n",
       "    </tr>\n",
       "    <tr>\n",
       "      <th>Técnico Tecnologico ABP Referencias</th>\n",
       "      <td>5</td>\n",
       "    </tr>\n",
       "    <tr>\n",
       "      <th>TÉCNICO / TECNOLÓGICO MT</th>\n",
       "      <td>4</td>\n",
       "    </tr>\n",
       "    <tr>\n",
       "      <th>SOCIETARIOS</th>\n",
       "      <td>4</td>\n",
       "    </tr>\n",
       "    <tr>\n",
       "      <th>GENERALES</th>\n",
       "      <td>3</td>\n",
       "    </tr>\n",
       "    <tr>\n",
       "      <th>Técnico / Tecnológico LPPFE</th>\n",
       "      <td>3</td>\n",
       "    </tr>\n",
       "    <tr>\n",
       "      <th>TÉCNICOS/TECNOLÓGICOS FET</th>\n",
       "      <td>2</td>\n",
       "    </tr>\n",
       "    <tr>\n",
       "      <th>TÉCNICOS/TECNOLÓGICOS ABP2</th>\n",
       "      <td>1</td>\n",
       "    </tr>\n",
       "    <tr>\n",
       "      <th>ACABADO - Tratamiento Térmico</th>\n",
       "      <td>1</td>\n",
       "    </tr>\n",
       "    <tr>\n",
       "      <th>MECANIZADO 44164571V</th>\n",
       "      <td>1</td>\n",
       "    </tr>\n",
       "  </tbody>\n",
       "</table>\n",
       "</div>"
      ],
      "text/plain": [
       "                                         categoria_conocimiento_name\n",
       "TÉCNICOS/TECNOLÓGICOS ABP                                         24\n",
       "GESTION                                                           22\n",
       "TÉCNICO / TECNOLÓGICO MT - REFERENCIAS                            16\n",
       "ACOGIDA                                                           16\n",
       "DUAL                                                              15\n",
       "TÉCNICOS                                                           8\n",
       "PERSONALES                                                         8\n",
       "Técnico Tecnologico ABP Referencias                                5\n",
       "TÉCNICO / TECNOLÓGICO MT                                           4\n",
       "SOCIETARIOS                                                        4\n",
       "GENERALES                                                          3\n",
       "Técnico / Tecnológico LPPFE                                        3\n",
       "TÉCNICOS/TECNOLÓGICOS FET                                          2\n",
       "TÉCNICOS/TECNOLÓGICOS ABP2                                         1\n",
       "ACABADO - Tratamiento Térmico                                      1\n",
       "MECANIZADO 44164571V                                               1"
      ]
     },
     "execution_count": 38,
     "metadata": {},
     "output_type": "execute_result"
    }
   ],
   "source": [
    "#Conocimientos\n",
    "conocimientos.shape #dimensiones (155, 5)\n",
    "conocimientos.columns\n",
    "conocimientos.describe()\n",
    "conocimientos['created_by'].value_counts().to_frame()\n",
    "conocimientos['categoria_conocimiento_name'].value_counts().to_frame()\n"
   ]
  },
  {
   "cell_type": "code",
   "execution_count": 39,
   "metadata": {},
   "outputs": [
    {
     "data": {
      "text/html": [
       "<div>\n",
       "<style scoped>\n",
       "    .dataframe tbody tr th:only-of-type {\n",
       "        vertical-align: middle;\n",
       "    }\n",
       "\n",
       "    .dataframe tbody tr th {\n",
       "        vertical-align: top;\n",
       "    }\n",
       "\n",
       "    .dataframe thead th {\n",
       "        text-align: right;\n",
       "    }\n",
       "</style>\n",
       "<table border=\"1\" class=\"dataframe\">\n",
       "  <thead>\n",
       "    <tr style=\"text-align: right;\">\n",
       "      <th></th>\n",
       "      <th>category</th>\n",
       "    </tr>\n",
       "  </thead>\n",
       "  <tbody>\n",
       "    <tr>\n",
       "      <th>3</th>\n",
       "      <td>32</td>\n",
       "    </tr>\n",
       "    <tr>\n",
       "      <th>27</th>\n",
       "      <td>20</td>\n",
       "    </tr>\n",
       "    <tr>\n",
       "      <th>24</th>\n",
       "      <td>20</td>\n",
       "    </tr>\n",
       "    <tr>\n",
       "      <th>7</th>\n",
       "      <td>17</td>\n",
       "    </tr>\n",
       "    <tr>\n",
       "      <th>45</th>\n",
       "      <td>14</td>\n",
       "    </tr>\n",
       "    <tr>\n",
       "      <th>44</th>\n",
       "      <td>11</td>\n",
       "    </tr>\n",
       "    <tr>\n",
       "      <th>5</th>\n",
       "      <td>9</td>\n",
       "    </tr>\n",
       "    <tr>\n",
       "      <th>35</th>\n",
       "      <td>8</td>\n",
       "    </tr>\n",
       "    <tr>\n",
       "      <th>42</th>\n",
       "      <td>3</td>\n",
       "    </tr>\n",
       "    <tr>\n",
       "      <th>23</th>\n",
       "      <td>2</td>\n",
       "    </tr>\n",
       "    <tr>\n",
       "      <th>40</th>\n",
       "      <td>1</td>\n",
       "    </tr>\n",
       "    <tr>\n",
       "      <th>18</th>\n",
       "      <td>1</td>\n",
       "    </tr>\n",
       "    <tr>\n",
       "      <th>0</th>\n",
       "      <td>1</td>\n",
       "    </tr>\n",
       "  </tbody>\n",
       "</table>\n",
       "</div>"
      ],
      "text/plain": [
       "    category\n",
       "3         32\n",
       "27        20\n",
       "24        20\n",
       "7         17\n",
       "45        14\n",
       "44        11\n",
       "5          9\n",
       "35         8\n",
       "42         3\n",
       "23         2\n",
       "40         1\n",
       "18         1\n",
       "0          1"
      ]
     },
     "execution_count": 39,
     "metadata": {},
     "output_type": "execute_result"
    }
   ],
   "source": [
    "#Cursos\n",
    "cursos.shape #dimensiones (139, 5)\n",
    "cursos.columns\n",
    "cursos.describe(include=['object', 'category'])\n",
    "cursos['hours'].describe()\n",
    "cursos['category'].value_counts().to_frame()"
   ]
  },
  {
   "cell_type": "code",
   "execution_count": 40,
   "metadata": {},
   "outputs": [
    {
     "data": {
      "text/html": [
       "<div>\n",
       "<style scoped>\n",
       "    .dataframe tbody tr th:only-of-type {\n",
       "        vertical-align: middle;\n",
       "    }\n",
       "\n",
       "    .dataframe tbody tr th {\n",
       "        vertical-align: top;\n",
       "    }\n",
       "\n",
       "    .dataframe thead th {\n",
       "        text-align: right;\n",
       "    }\n",
       "</style>\n",
       "<table border=\"1\" class=\"dataframe\">\n",
       "  <thead>\n",
       "    <tr style=\"text-align: right;\">\n",
       "      <th></th>\n",
       "      <th>program_category_id</th>\n",
       "    </tr>\n",
       "  </thead>\n",
       "  <tbody>\n",
       "    <tr>\n",
       "      <th>TÉCNICO</th>\n",
       "      <td>57</td>\n",
       "    </tr>\n",
       "    <tr>\n",
       "      <th>DUAL</th>\n",
       "      <td>24</td>\n",
       "    </tr>\n",
       "    <tr>\n",
       "      <th>SOPORTE&amp;OPERARIO</th>\n",
       "      <td>13</td>\n",
       "    </tr>\n",
       "    <tr>\n",
       "      <th>GESTIÓN</th>\n",
       "      <td>5</td>\n",
       "    </tr>\n",
       "    <tr>\n",
       "      <th>ESPECIALISTA</th>\n",
       "      <td>5</td>\n",
       "    </tr>\n",
       "    <tr>\n",
       "      <th>FORMACIÓN</th>\n",
       "      <td>4</td>\n",
       "    </tr>\n",
       "    <tr>\n",
       "      <th>PROFESIONAL</th>\n",
       "      <td>1</td>\n",
       "    </tr>\n",
       "  </tbody>\n",
       "</table>\n",
       "</div>"
      ],
      "text/plain": [
       "                  program_category_id\n",
       "TÉCNICO                            57\n",
       "DUAL                               24\n",
       "SOPORTE&OPERARIO                   13\n",
       "GESTIÓN                             5\n",
       "ESPECIALISTA                        5\n",
       "FORMACIÓN                           4\n",
       "PROFESIONAL                         1"
      ]
     },
     "execution_count": 40,
     "metadata": {},
     "output_type": "execute_result"
    }
   ],
   "source": [
    "#Programas\n",
    "programas.shape #dimensiones (110, 3)\n",
    "programas.columns\n",
    "programas.describe()\n",
    "programas['program_category_id'].value_counts().to_frame()"
   ]
  },
  {
   "cell_type": "code",
   "execution_count": 41,
   "metadata": {},
   "outputs": [
    {
     "data": {
      "text/html": [
       "<div>\n",
       "<style scoped>\n",
       "    .dataframe tbody tr th:only-of-type {\n",
       "        vertical-align: middle;\n",
       "    }\n",
       "\n",
       "    .dataframe tbody tr th {\n",
       "        vertical-align: top;\n",
       "    }\n",
       "\n",
       "    .dataframe thead th {\n",
       "        text-align: right;\n",
       "    }\n",
       "</style>\n",
       "<table border=\"1\" class=\"dataframe\">\n",
       "  <thead>\n",
       "    <tr style=\"text-align: right;\">\n",
       "      <th></th>\n",
       "      <th>program_name</th>\n",
       "    </tr>\n",
       "  </thead>\n",
       "  <tbody>\n",
       "    <tr>\n",
       "      <th>Maquinista Mecanizados Autogestión MT</th>\n",
       "      <td>18</td>\n",
       "    </tr>\n",
       "    <tr>\n",
       "      <th>TÉCNICO DEMO 72535972K</th>\n",
       "      <td>15</td>\n",
       "    </tr>\n",
       "    <tr>\n",
       "      <th>Maquinista Mecanizado ABP Bergara</th>\n",
       "      <td>11</td>\n",
       "    </tr>\n",
       "    <tr>\n",
       "      <th>PERTSONALAK</th>\n",
       "      <td>9</td>\n",
       "    </tr>\n",
       "    <tr>\n",
       "      <th>prueba_na</th>\n",
       "      <td>8</td>\n",
       "    </tr>\n",
       "    <tr>\n",
       "      <th>prueba_na2</th>\n",
       "      <td>7</td>\n",
       "    </tr>\n",
       "    <tr>\n",
       "      <th>Control Visual Mec ABP</th>\n",
       "      <td>7</td>\n",
       "    </tr>\n",
       "    <tr>\n",
       "      <th>Tratamiento Térmico ABP Bergara</th>\n",
       "      <td>6</td>\n",
       "    </tr>\n",
       "    <tr>\n",
       "      <th>Tratamiento Térmico ABP Arrasate</th>\n",
       "      <td>6</td>\n",
       "    </tr>\n",
       "    <tr>\n",
       "      <th>iti ciclo dual v2</th>\n",
       "      <td>6</td>\n",
       "    </tr>\n",
       "    <tr>\n",
       "      <th>Operario de Tratamiento Térmico ABP Bergara</th>\n",
       "      <td>6</td>\n",
       "    </tr>\n",
       "    <tr>\n",
       "      <th>Operario Control Final UKL</th>\n",
       "      <td>6</td>\n",
       "    </tr>\n",
       "    <tr>\n",
       "      <th>pruebas_01</th>\n",
       "      <td>6</td>\n",
       "    </tr>\n",
       "    <tr>\n",
       "      <th>Programa PILOTO</th>\n",
       "      <td>5</td>\n",
       "    </tr>\n",
       "    <tr>\n",
       "      <th>Operario de Fusión ABP Bergara</th>\n",
       "      <td>5</td>\n",
       "    </tr>\n",
       "    <tr>\n",
       "      <th>Operario Control Final CBI</th>\n",
       "      <td>5</td>\n",
       "    </tr>\n",
       "    <tr>\n",
       "      <th>Operario de Acabados LPC</th>\n",
       "      <td>5</td>\n",
       "    </tr>\n",
       "    <tr>\n",
       "      <th>Produkzio Ingeniaritzako Teknikaria - LPPFE Mek</th>\n",
       "      <td>5</td>\n",
       "    </tr>\n",
       "    <tr>\n",
       "      <th>ITI CICLO DUAL 2019-2020</th>\n",
       "      <td>5</td>\n",
       "    </tr>\n",
       "    <tr>\n",
       "      <th>Operario Control Final LPC</th>\n",
       "      <td>5</td>\n",
       "    </tr>\n",
       "    <tr>\n",
       "      <th>Maquinista Mecanizados LPPFe</th>\n",
       "      <td>5</td>\n",
       "    </tr>\n",
       "    <tr>\n",
       "      <th>Sergio</th>\n",
       "      <td>5</td>\n",
       "    </tr>\n",
       "    <tr>\n",
       "      <th>TecnicoDemo 72843595L</th>\n",
       "      <td>4</td>\n",
       "    </tr>\n",
       "    <tr>\n",
       "      <th>Programa PILOTO 2</th>\n",
       "      <td>4</td>\n",
       "    </tr>\n",
       "    <tr>\n",
       "      <th>TECNICO DEMO_2 16280334Z</th>\n",
       "      <td>4</td>\n",
       "    </tr>\n",
       "    <tr>\n",
       "      <th>ITI GRADO DUAL 2019-2020</th>\n",
       "      <td>4</td>\n",
       "    </tr>\n",
       "    <tr>\n",
       "      <th>Maquinista Mecanizado ABP ARRASATE</th>\n",
       "      <td>4</td>\n",
       "    </tr>\n",
       "    <tr>\n",
       "      <th>ITI GRADO DUAL 2020-2021</th>\n",
       "      <td>3</td>\n",
       "    </tr>\n",
       "    <tr>\n",
       "      <th>TECNICO DEMO_2 15399844X</th>\n",
       "      <td>3</td>\n",
       "    </tr>\n",
       "    <tr>\n",
       "      <th>TECNICO DEMO 72602115Q</th>\n",
       "      <td>3</td>\n",
       "    </tr>\n",
       "    <tr>\n",
       "      <th>TECNICO DEMO_2 72471737W</th>\n",
       "      <td>3</td>\n",
       "    </tr>\n",
       "    <tr>\n",
       "      <th>TECNICO DEMO_2 72602115Q</th>\n",
       "      <td>3</td>\n",
       "    </tr>\n",
       "    <tr>\n",
       "      <th>TECNICO DEMO 15366607P</th>\n",
       "      <td>3</td>\n",
       "    </tr>\n",
       "    <tr>\n",
       "      <th>TÉCNICO DEMO_2 72721410X</th>\n",
       "      <td>3</td>\n",
       "    </tr>\n",
       "    <tr>\n",
       "      <th>TECNICO DEMO 22762525T</th>\n",
       "      <td>3</td>\n",
       "    </tr>\n",
       "    <tr>\n",
       "      <th>TÉCNICO DEMO_2 44164571V</th>\n",
       "      <td>3</td>\n",
       "    </tr>\n",
       "    <tr>\n",
       "      <th>TÉCNICO DEMO_2 72843595L</th>\n",
       "      <td>3</td>\n",
       "    </tr>\n",
       "    <tr>\n",
       "      <th>TÉCNICO DEMO_2 15243686E</th>\n",
       "      <td>3</td>\n",
       "    </tr>\n",
       "    <tr>\n",
       "      <th>DEMO 2021/02</th>\n",
       "      <td>3</td>\n",
       "    </tr>\n",
       "    <tr>\n",
       "      <th>Control Visual Bruto</th>\n",
       "      <td>3</td>\n",
       "    </tr>\n",
       "    <tr>\n",
       "      <th>Operario de Macheria LPC</th>\n",
       "      <td>3</td>\n",
       "    </tr>\n",
       "    <tr>\n",
       "      <th>TÉCNICO DEMO_2 DNI</th>\n",
       "      <td>3</td>\n",
       "    </tr>\n",
       "    <tr>\n",
       "      <th>TÉCNICO DEMO_2 72446579Y</th>\n",
       "      <td>3</td>\n",
       "    </tr>\n",
       "    <tr>\n",
       "      <th>TÉCNICO DEMO 72525972K</th>\n",
       "      <td>3</td>\n",
       "    </tr>\n",
       "    <tr>\n",
       "      <th>TÉCNICO DEMO_2 44333161V</th>\n",
       "      <td>3</td>\n",
       "    </tr>\n",
       "    <tr>\n",
       "      <th>TÉCNICO DEMO 72535392J</th>\n",
       "      <td>3</td>\n",
       "    </tr>\n",
       "    <tr>\n",
       "      <th>TÉCNICO DEMO_2 15380855L</th>\n",
       "      <td>3</td>\n",
       "    </tr>\n",
       "    <tr>\n",
       "      <th>TÉCNICO DEMO_2 72602115Q</th>\n",
       "      <td>3</td>\n",
       "    </tr>\n",
       "    <tr>\n",
       "      <th>TECNICO DEMO 2 15366607P</th>\n",
       "      <td>3</td>\n",
       "    </tr>\n",
       "    <tr>\n",
       "      <th>TÉCNICO DEMO_2 22762525T</th>\n",
       "      <td>3</td>\n",
       "    </tr>\n",
       "    <tr>\n",
       "      <th>TÉCNICO DEMO 44164571V</th>\n",
       "      <td>3</td>\n",
       "    </tr>\n",
       "    <tr>\n",
       "      <th>TECNICO DEMO 15399844X</th>\n",
       "      <td>2</td>\n",
       "    </tr>\n",
       "    <tr>\n",
       "      <th>prueba_na_v2</th>\n",
       "      <td>1</td>\n",
       "    </tr>\n",
       "    <tr>\n",
       "      <th>prueba_02</th>\n",
       "      <td>1</td>\n",
       "    </tr>\n",
       "    <tr>\n",
       "      <th>Gestor plataforma EDERJAKIN</th>\n",
       "      <td>1</td>\n",
       "    </tr>\n",
       "  </tbody>\n",
       "</table>\n",
       "</div>"
      ],
      "text/plain": [
       "                                                 program_name\n",
       "Maquinista Mecanizados Autogestión MT                      18\n",
       "TÉCNICO DEMO 72535972K                                     15\n",
       "Maquinista Mecanizado ABP Bergara                          11\n",
       "PERTSONALAK                                                 9\n",
       "prueba_na                                                   8\n",
       "prueba_na2                                                  7\n",
       "Control Visual Mec ABP                                      7\n",
       "Tratamiento Térmico ABP Bergara                             6\n",
       "Tratamiento Térmico ABP Arrasate                            6\n",
       "iti ciclo dual v2                                           6\n",
       "Operario de Tratamiento Térmico ABP Bergara                 6\n",
       "Operario Control Final UKL                                  6\n",
       "pruebas_01                                                  6\n",
       "Programa PILOTO                                             5\n",
       "Operario de Fusión ABP Bergara                              5\n",
       "Operario Control Final CBI                                  5\n",
       "Operario de Acabados LPC                                    5\n",
       "Produkzio Ingeniaritzako Teknikaria - LPPFE Mek             5\n",
       "ITI CICLO DUAL 2019-2020                                    5\n",
       "Operario Control Final LPC                                  5\n",
       "Maquinista Mecanizados LPPFe                                5\n",
       "Sergio                                                      5\n",
       "TecnicoDemo 72843595L                                       4\n",
       "Programa PILOTO 2                                           4\n",
       "TECNICO DEMO_2 16280334Z                                    4\n",
       "ITI GRADO DUAL 2019-2020                                    4\n",
       "Maquinista Mecanizado ABP ARRASATE                          4\n",
       "ITI GRADO DUAL 2020-2021                                    3\n",
       "TECNICO DEMO_2 15399844X                                    3\n",
       "TECNICO DEMO 72602115Q                                      3\n",
       "TECNICO DEMO_2 72471737W                                    3\n",
       "TECNICO DEMO_2 72602115Q                                    3\n",
       "TECNICO DEMO 15366607P                                      3\n",
       "TÉCNICO DEMO_2 72721410X                                    3\n",
       "TECNICO DEMO 22762525T                                      3\n",
       "TÉCNICO DEMO_2 44164571V                                    3\n",
       "TÉCNICO DEMO_2 72843595L                                    3\n",
       "TÉCNICO DEMO_2 15243686E                                    3\n",
       "DEMO 2021/02                                                3\n",
       "Control Visual Bruto                                        3\n",
       "Operario de Macheria LPC                                    3\n",
       "TÉCNICO DEMO_2 DNI                                          3\n",
       "TÉCNICO DEMO_2 72446579Y                                    3\n",
       "TÉCNICO DEMO 72525972K                                      3\n",
       "TÉCNICO DEMO_2 44333161V                                    3\n",
       "TÉCNICO DEMO 72535392J                                      3\n",
       "TÉCNICO DEMO_2 15380855L                                    3\n",
       "TÉCNICO DEMO_2 72602115Q                                    3\n",
       "TECNICO DEMO 2 15366607P                                    3\n",
       "TÉCNICO DEMO_2 22762525T                                    3\n",
       "TÉCNICO DEMO 44164571V                                      3\n",
       "TECNICO DEMO 15399844X                                      2\n",
       "prueba_na_v2                                                1\n",
       "prueba_02                                                   1\n",
       "Gestor plataforma EDERJAKIN                                 1"
      ]
     },
     "execution_count": 41,
     "metadata": {},
     "output_type": "execute_result"
    }
   ],
   "source": [
    "#Cursos en programas\n",
    "cursos_en_programas.shape #dimensiones (253, 8)\n",
    "cursos_en_programas.columns\n",
    "cursos_en_programas.describe(include=['category', 'object'])\n",
    "cursos_en_programas['course_moodle_name'].value_counts().to_frame()\n",
    "cursos_en_programas['conocimiento_name'].value_counts().to_frame()\n",
    "cursos_en_programas['num_periodo'].value_counts().to_frame()\n",
    "cursos_en_programas['program_name'].value_counts().to_frame()\n",
    "\n"
   ]
  },
  {
   "cell_type": "code",
   "execution_count": 42,
   "metadata": {},
   "outputs": [],
   "source": [
    "#Itinerarios\n",
    "itinerarios.shape #dimensiones (467, 10)\n",
    "itinerarios.columns\n",
    "itinerarios.describe(include=['category', 'object', 'bool'])\n",
    "itinerarios.describe(include=['datetime64[ns, UTC]'])\n",
    "\n",
    "#hacemos una nueva variable para saber la duracion del programa\n",
    "itinerarios['duracion'] = itinerarios['enroll_end'] - itinerarios['date_enroll']\n",
    "itinerarios.describe(include=['timedelta64[ns]']) #tenemos duraciones por debajo de cero, quiere decir que el date_enroll de algunos programas ocurre despues que el enroll_end, es imposible\n",
    "itinerarios[itinerarios['duracion'] < '0 days'] #intercambiamos los valores las dos columnas en esas dos filas\n",
    "\n",
    "fecha = itinerarios.loc[96, 'date_enroll']\n",
    "itinerarios.loc[96, 'date_enroll'] = itinerarios.loc[96, 'enroll_end']\n",
    "itinerarios.loc[96, 'enroll_end'] = fecha\n",
    "\n",
    "fecha = itinerarios.loc[317, 'date_enroll']\n",
    "itinerarios.loc[317, 'date_enroll'] = itinerarios.loc[317, 'enroll_end']\n",
    "itinerarios.loc[317, 'enroll_end'] = fecha"
   ]
  },
  {
   "cell_type": "code",
   "execution_count": 43,
   "metadata": {},
   "outputs": [
    {
     "data": {
      "text/html": [
       "<div>\n",
       "<style scoped>\n",
       "    .dataframe tbody tr th:only-of-type {\n",
       "        vertical-align: middle;\n",
       "    }\n",
       "\n",
       "    .dataframe tbody tr th {\n",
       "        vertical-align: top;\n",
       "    }\n",
       "\n",
       "    .dataframe thead th {\n",
       "        text-align: right;\n",
       "    }\n",
       "</style>\n",
       "<table border=\"1\" class=\"dataframe\">\n",
       "  <thead>\n",
       "    <tr style=\"text-align: right;\">\n",
       "      <th></th>\n",
       "      <th>active_flag</th>\n",
       "      <th>category_id</th>\n",
       "      <th>date_enroll</th>\n",
       "      <th>enroll_end</th>\n",
       "      <th>program_id</th>\n",
       "      <th>tutor_academico_id</th>\n",
       "      <th>tutor_empresa_id</th>\n",
       "      <th>user_id</th>\n",
       "      <th>category_name</th>\n",
       "      <th>program_name</th>\n",
       "      <th>duracion</th>\n",
       "    </tr>\n",
       "  </thead>\n",
       "  <tbody>\n",
       "  </tbody>\n",
       "</table>\n",
       "</div>"
      ],
      "text/plain": [
       "Empty DataFrame\n",
       "Columns: [active_flag, category_id, date_enroll, enroll_end, program_id, tutor_academico_id, tutor_empresa_id, user_id, category_name, program_name, duracion]\n",
       "Index: []"
      ]
     },
     "execution_count": 43,
     "metadata": {},
     "output_type": "execute_result"
    }
   ],
   "source": [
    "itinerarios['duracion'] = itinerarios['enroll_end'] - itinerarios['date_enroll'] #volvemos a calcular la variable duracion\n",
    "itinerarios[itinerarios['duracion'] < '0 days'] #correcto"
   ]
  },
  {
   "cell_type": "code",
   "execution_count": 44,
   "metadata": {},
   "outputs": [
    {
     "data": {
      "text/html": [
       "<div>\n",
       "<style scoped>\n",
       "    .dataframe tbody tr th:only-of-type {\n",
       "        vertical-align: middle;\n",
       "    }\n",
       "\n",
       "    .dataframe tbody tr th {\n",
       "        vertical-align: top;\n",
       "    }\n",
       "\n",
       "    .dataframe thead th {\n",
       "        text-align: right;\n",
       "    }\n",
       "</style>\n",
       "<table border=\"1\" class=\"dataframe\">\n",
       "  <thead>\n",
       "    <tr style=\"text-align: right;\">\n",
       "      <th></th>\n",
       "      <th>grade</th>\n",
       "      <th>online_progress</th>\n",
       "    </tr>\n",
       "  </thead>\n",
       "  <tbody>\n",
       "    <tr>\n",
       "      <th>count</th>\n",
       "      <td>1475.000000</td>\n",
       "      <td>1518.000000</td>\n",
       "    </tr>\n",
       "    <tr>\n",
       "      <th>mean</th>\n",
       "      <td>5.659431</td>\n",
       "      <td>33.972245</td>\n",
       "    </tr>\n",
       "    <tr>\n",
       "      <th>std</th>\n",
       "      <td>5.879756</td>\n",
       "      <td>45.715231</td>\n",
       "    </tr>\n",
       "    <tr>\n",
       "      <th>min</th>\n",
       "      <td>0.000000</td>\n",
       "      <td>0.000000</td>\n",
       "    </tr>\n",
       "    <tr>\n",
       "      <th>25%</th>\n",
       "      <td>0.000000</td>\n",
       "      <td>0.000000</td>\n",
       "    </tr>\n",
       "    <tr>\n",
       "      <th>50%</th>\n",
       "      <td>8.330000</td>\n",
       "      <td>0.000000</td>\n",
       "    </tr>\n",
       "    <tr>\n",
       "      <th>75%</th>\n",
       "      <td>10.000000</td>\n",
       "      <td>100.000000</td>\n",
       "    </tr>\n",
       "    <tr>\n",
       "      <th>max</th>\n",
       "      <td>100.000000</td>\n",
       "      <td>100.000000</td>\n",
       "    </tr>\n",
       "  </tbody>\n",
       "</table>\n",
       "</div>"
      ],
      "text/plain": [
       "             grade  online_progress\n",
       "count  1475.000000      1518.000000\n",
       "mean      5.659431        33.972245\n",
       "std       5.879756        45.715231\n",
       "min       0.000000         0.000000\n",
       "25%       0.000000         0.000000\n",
       "50%       8.330000         0.000000\n",
       "75%      10.000000       100.000000\n",
       "max     100.000000       100.000000"
      ]
     },
     "execution_count": 44,
     "metadata": {},
     "output_type": "execute_result"
    }
   ],
   "source": [
    "#Notas_cursos\n",
    "notas_cursos.shape #dimensiones (3898, 8)\n",
    "notas_cursos.columns\n",
    "notas_cursos.describe(include=['category', 'object', 'bool']) #variables discretas\n",
    "notas_cursos['course_name'].value_counts().to_frame()\n",
    "\n",
    "notas_cursos.describe(include= 'float64') #variables continuas\n"
   ]
  },
  {
   "cell_type": "code",
   "execution_count": 45,
   "metadata": {},
   "outputs": [
    {
     "data": {
      "text/plain": [
       "count               4\n",
       "unique              4\n",
       "top       LBL_MANAGER\n",
       "freq                1\n",
       "Name: role_name, dtype: object"
      ]
     },
     "execution_count": 45,
     "metadata": {},
     "output_type": "execute_result"
    }
   ],
   "source": [
    "#Roles\n",
    "roles.shape #dimensiones (4, 2)\n",
    "roles.columns\n",
    "roles['role_name'].describe() \n"
   ]
  },
  {
   "cell_type": "code",
   "execution_count": 46,
   "metadata": {},
   "outputs": [],
   "source": [
    "#Plantas\n",
    "plantas.shape #dimensiones (18, 2)\n",
    "plantas.columns\n",
    "plantas.describe() #variables discretas\n",
    "plantas['planta_id'].value_counts().to_frame()\n",
    "plantas['planta_name'].value_counts().to_frame() #eliminamos MT Aretxabal, ya que esta mal escrito y antes en usuarios hemos convertido MT Aretxabal en MT Aretxabaleta\n",
    "\n",
    "plantas = plantas.loc[:16, :]\n"
   ]
  },
  {
   "cell_type": "code",
   "execution_count": 47,
   "metadata": {},
   "outputs": [
    {
     "data": {
      "text/html": [
       "<div>\n",
       "<style scoped>\n",
       "    .dataframe tbody tr th:only-of-type {\n",
       "        vertical-align: middle;\n",
       "    }\n",
       "\n",
       "    .dataframe tbody tr th {\n",
       "        vertical-align: top;\n",
       "    }\n",
       "\n",
       "    .dataframe thead th {\n",
       "        text-align: right;\n",
       "    }\n",
       "</style>\n",
       "<table border=\"1\" class=\"dataframe\">\n",
       "  <thead>\n",
       "    <tr style=\"text-align: right;\">\n",
       "      <th></th>\n",
       "      <th>user_id</th>\n",
       "    </tr>\n",
       "  </thead>\n",
       "  <tbody>\n",
       "    <tr>\n",
       "      <th>134</th>\n",
       "      <td>2025</td>\n",
       "    </tr>\n",
       "    <tr>\n",
       "      <th>135</th>\n",
       "      <td>1798</td>\n",
       "    </tr>\n",
       "    <tr>\n",
       "      <th>145</th>\n",
       "      <td>1398</td>\n",
       "    </tr>\n",
       "    <tr>\n",
       "      <th>50</th>\n",
       "      <td>534</td>\n",
       "    </tr>\n",
       "    <tr>\n",
       "      <th>138</th>\n",
       "      <td>485</td>\n",
       "    </tr>\n",
       "    <tr>\n",
       "      <th>...</th>\n",
       "      <td>...</td>\n",
       "    </tr>\n",
       "    <tr>\n",
       "      <th>404</th>\n",
       "      <td>1</td>\n",
       "    </tr>\n",
       "    <tr>\n",
       "      <th>157</th>\n",
       "      <td>1</td>\n",
       "    </tr>\n",
       "    <tr>\n",
       "      <th>325</th>\n",
       "      <td>1</td>\n",
       "    </tr>\n",
       "    <tr>\n",
       "      <th>46</th>\n",
       "      <td>1</td>\n",
       "    </tr>\n",
       "    <tr>\n",
       "      <th>395</th>\n",
       "      <td>1</td>\n",
       "    </tr>\n",
       "  </tbody>\n",
       "</table>\n",
       "<p>201 rows × 1 columns</p>\n",
       "</div>"
      ],
      "text/plain": [
       "     user_id\n",
       "134     2025\n",
       "135     1798\n",
       "145     1398\n",
       "50       534\n",
       "138      485\n",
       "..       ...\n",
       "404        1\n",
       "157        1\n",
       "325        1\n",
       "46         1\n",
       "395        1\n",
       "\n",
       "[201 rows x 1 columns]"
      ]
     },
     "execution_count": 47,
     "metadata": {},
     "output_type": "execute_result"
    }
   ],
   "source": [
    "#Accesos\n",
    "accesos.shape #dimensiones (8816, 4)\n",
    "accesos.columns\n",
    "accesos.describe() #variables discretas\n",
    "accesos['description'].value_counts().to_frame()\n",
    "accesos['mdl_user_id'].value_counts().to_frame()\n",
    "accesos['user_id'].value_counts().to_frame()"
   ]
  },
  {
   "cell_type": "code",
   "execution_count": 48,
   "metadata": {},
   "outputs": [
    {
     "data": {
      "text/html": [
       "<div>\n",
       "<style scoped>\n",
       "    .dataframe tbody tr th:only-of-type {\n",
       "        vertical-align: middle;\n",
       "    }\n",
       "\n",
       "    .dataframe tbody tr th {\n",
       "        vertical-align: top;\n",
       "    }\n",
       "\n",
       "    .dataframe thead th {\n",
       "        text-align: right;\n",
       "    }\n",
       "</style>\n",
       "<table border=\"1\" class=\"dataframe\">\n",
       "  <thead>\n",
       "    <tr style=\"text-align: right;\">\n",
       "      <th></th>\n",
       "      <th>mdl_user_id</th>\n",
       "    </tr>\n",
       "  </thead>\n",
       "  <tbody>\n",
       "    <tr>\n",
       "      <th>461</th>\n",
       "      <td>1</td>\n",
       "    </tr>\n",
       "    <tr>\n",
       "      <th>159</th>\n",
       "      <td>1</td>\n",
       "    </tr>\n",
       "    <tr>\n",
       "      <th>148</th>\n",
       "      <td>1</td>\n",
       "    </tr>\n",
       "    <tr>\n",
       "      <th>150</th>\n",
       "      <td>1</td>\n",
       "    </tr>\n",
       "    <tr>\n",
       "      <th>151</th>\n",
       "      <td>1</td>\n",
       "    </tr>\n",
       "    <tr>\n",
       "      <th>...</th>\n",
       "      <td>...</td>\n",
       "    </tr>\n",
       "    <tr>\n",
       "      <th>336</th>\n",
       "      <td>1</td>\n",
       "    </tr>\n",
       "    <tr>\n",
       "      <th>337</th>\n",
       "      <td>1</td>\n",
       "    </tr>\n",
       "    <tr>\n",
       "      <th>338</th>\n",
       "      <td>1</td>\n",
       "    </tr>\n",
       "    <tr>\n",
       "      <th>339</th>\n",
       "      <td>1</td>\n",
       "    </tr>\n",
       "    <tr>\n",
       "      <th>3</th>\n",
       "      <td>1</td>\n",
       "    </tr>\n",
       "  </tbody>\n",
       "</table>\n",
       "<p>372 rows × 1 columns</p>\n",
       "</div>"
      ],
      "text/plain": [
       "     mdl_user_id\n",
       "461            1\n",
       "159            1\n",
       "148            1\n",
       "150            1\n",
       "151            1\n",
       "..           ...\n",
       "336            1\n",
       "337            1\n",
       "338            1\n",
       "339            1\n",
       "3              1\n",
       "\n",
       "[372 rows x 1 columns]"
      ]
     },
     "execution_count": 48,
     "metadata": {},
     "output_type": "execute_result"
    }
   ],
   "source": [
    "#Acceso_1ero_ultimo\n",
    "acceso_1ero_ultimo.shape #dimensiones (372, 3)\n",
    "acceso_1ero_ultimo.columns\n",
    "acceso_1ero_ultimo.describe() #variables discretas\n",
    "h =acceso_1ero_ultimo['1er acceso'] < acceso_1ero_ultimo['ultimo acceso']\n",
    "h.value_counts().to_frame() #en todos los casos el primer acceso ocurre antes del ultimo acceso, es correcto\n",
    "acceso_1ero_ultimo['mdl_user_id'].value_counts().to_frame()\n"
   ]
  },
  {
   "cell_type": "code",
   "execution_count": 49,
   "metadata": {},
   "outputs": [
    {
     "data": {
      "text/html": [
       "<div>\n",
       "<style scoped>\n",
       "    .dataframe tbody tr th:only-of-type {\n",
       "        vertical-align: middle;\n",
       "    }\n",
       "\n",
       "    .dataframe tbody tr th {\n",
       "        vertical-align: top;\n",
       "    }\n",
       "\n",
       "    .dataframe thead th {\n",
       "        text-align: right;\n",
       "    }\n",
       "</style>\n",
       "<table border=\"1\" class=\"dataframe\">\n",
       "  <thead>\n",
       "    <tr style=\"text-align: right;\">\n",
       "      <th></th>\n",
       "      <th>grade</th>\n",
       "    </tr>\n",
       "  </thead>\n",
       "  <tbody>\n",
       "    <tr>\n",
       "      <th>count</th>\n",
       "      <td>2114.000000</td>\n",
       "    </tr>\n",
       "    <tr>\n",
       "      <th>mean</th>\n",
       "      <td>9.573571</td>\n",
       "    </tr>\n",
       "    <tr>\n",
       "      <th>std</th>\n",
       "      <td>3.686237</td>\n",
       "    </tr>\n",
       "    <tr>\n",
       "      <th>min</th>\n",
       "      <td>0.000000</td>\n",
       "    </tr>\n",
       "    <tr>\n",
       "      <th>25%</th>\n",
       "      <td>8.340000</td>\n",
       "    </tr>\n",
       "    <tr>\n",
       "      <th>50%</th>\n",
       "      <td>9.710000</td>\n",
       "    </tr>\n",
       "    <tr>\n",
       "      <th>75%</th>\n",
       "      <td>10.000000</td>\n",
       "    </tr>\n",
       "    <tr>\n",
       "      <th>max</th>\n",
       "      <td>38.850000</td>\n",
       "    </tr>\n",
       "  </tbody>\n",
       "</table>\n",
       "</div>"
      ],
      "text/plain": [
       "             grade\n",
       "count  2114.000000\n",
       "mean      9.573571\n",
       "std       3.686237\n",
       "min       0.000000\n",
       "25%       8.340000\n",
       "50%       9.710000\n",
       "75%      10.000000\n",
       "max      38.850000"
      ]
     },
     "execution_count": 49,
     "metadata": {},
     "output_type": "execute_result"
    }
   ],
   "source": [
    "#Actividades\n",
    "actividades.shape #dimensiones (3464, 7)\n",
    "actividades.columns\n",
    "actividades.describe(include = ['object', 'category','bool', 'datetime64[ns, UTC]'] ) #variables discretas\n",
    "actividades.describe(include = ['float64']) #tenemos maximos por encima de 10\n"
   ]
  },
  {
   "cell_type": "code",
   "execution_count": 50,
   "metadata": {},
   "outputs": [
    {
     "name": "stdout",
     "output_type": "stream",
     "text": [
      "<class 'pandas.core.frame.DataFrame'>\n",
      "RangeIndex: 3464 entries, 0 to 3463\n",
      "Data columns (total 7 columns):\n",
      " #   Column          Non-Null Count  Dtype              \n",
      "---  ------          --------------  -----              \n",
      " 0   mdl_user_id     3464 non-null   category           \n",
      " 1   course_name     3464 non-null   object             \n",
      " 2   course_id       3464 non-null   category           \n",
      " 3   category        3464 non-null   category           \n",
      " 4   actividad_name  3460 non-null   object             \n",
      " 5   grade           2114 non-null   float64            \n",
      " 6   time            2129 non-null   datetime64[ns, UTC]\n",
      "dtypes: category(3), datetime64[ns, UTC](1), float64(1), object(2)\n",
      "memory usage: 131.9+ KB\n"
     ]
    }
   ],
   "source": [
    "actividades.info()"
   ]
  },
  {
   "cell_type": "markdown",
   "metadata": {},
   "source": [
    "### DUPLICADOS"
   ]
  },
  {
   "cell_type": "code",
   "execution_count": 51,
   "metadata": {},
   "outputs": [],
   "source": [
    "#Quitamos filas duplicadas\n",
    "fn.eliminar_duplicados(usuarios)\n",
    "fn.eliminar_duplicados(tutores_perfil)\n",
    "fn.eliminar_duplicados(conocimientos)\n",
    "fn.eliminar_duplicados(cursos)\n",
    "fn.eliminar_duplicados(programas)\n",
    "fn.eliminar_duplicados(cursos_en_programas)\n",
    "fn.eliminar_duplicados(itinerarios) # se han eliminado 26 filas duplicadas \n",
    "fn.eliminar_duplicados(notas_cursos)\n",
    "fn.eliminar_duplicados(roles)\n",
    "fn.eliminar_duplicados(accesos) # se han eliminado 26 filas duplicadas \n",
    "fn.eliminar_duplicados(acceso_1ero_ultimo)\n",
    "fn.eliminar_duplicados(actividades) # se han eliminado 89 filas duplicadas\n",
    "\n"
   ]
  },
  {
   "cell_type": "code",
   "execution_count": 52,
   "metadata": {},
   "outputs": [
    {
     "ename": "TypeError",
     "evalue": "data type not understood",
     "output_type": "error",
     "traceback": [
      "\u001b[1;31m---------------------------------------------------------------------------\u001b[0m",
      "\u001b[1;31mTypeError\u001b[0m                                 Traceback (most recent call last)",
      "\u001b[1;32m<ipython-input-52-dfff02889172>\u001b[0m in \u001b[0;36m<module>\u001b[1;34m\u001b[0m\n\u001b[0;32m      1\u001b[0m \u001b[1;31m#Identificamos las columnas duplicadas\u001b[0m\u001b[1;33m\u001b[0m\u001b[1;33m\u001b[0m\u001b[1;33m\u001b[0m\u001b[0m\n\u001b[1;32m----> 2\u001b[1;33m \u001b[0mfn\u001b[0m\u001b[1;33m.\u001b[0m\u001b[0mcolumnas_duplicadas\u001b[0m\u001b[1;33m(\u001b[0m\u001b[0musuarios\u001b[0m\u001b[1;33m)\u001b[0m\u001b[1;33m\u001b[0m\u001b[1;33m\u001b[0m\u001b[0m\n\u001b[0m",
      "\u001b[1;32md:\\Desktop\\Reto06\\scripts\\funciones.py\u001b[0m in \u001b[0;36mcolumnas_duplicadas\u001b[1;34m(df)\u001b[0m\n\u001b[0;32m     18\u001b[0m \u001b[1;33m\u001b[0m\u001b[0m\n\u001b[0;32m     19\u001b[0m         \u001b[1;32mfor\u001b[0m \u001b[0mcomp\u001b[0m \u001b[1;32min\u001b[0m \u001b[0mrange\u001b[0m\u001b[1;33m(\u001b[0m\u001b[0mcol\u001b[0m \u001b[1;33m+\u001b[0m \u001b[1;36m1\u001b[0m\u001b[1;33m,\u001b[0m \u001b[0mdf\u001b[0m\u001b[1;33m.\u001b[0m\u001b[0mshape\u001b[0m\u001b[1;33m[\u001b[0m\u001b[1;36m1\u001b[0m\u001b[1;33m]\u001b[0m\u001b[1;33m)\u001b[0m\u001b[1;33m:\u001b[0m\u001b[1;33m\u001b[0m\u001b[1;33m\u001b[0m\u001b[0m\n\u001b[1;32m---> 20\u001b[1;33m             \u001b[1;32mif\u001b[0m \u001b[0mcontents\u001b[0m\u001b[1;33m.\u001b[0m\u001b[0mequals\u001b[0m\u001b[1;33m(\u001b[0m\u001b[0mdf\u001b[0m\u001b[1;33m.\u001b[0m\u001b[0miloc\u001b[0m\u001b[1;33m[\u001b[0m\u001b[1;33m:\u001b[0m\u001b[1;33m,\u001b[0m \u001b[0mcomp\u001b[0m\u001b[1;33m]\u001b[0m\u001b[1;33m)\u001b[0m\u001b[1;33m:\u001b[0m\u001b[1;33m\u001b[0m\u001b[1;33m\u001b[0m\u001b[0m\n\u001b[0m\u001b[0;32m     21\u001b[0m                 \u001b[0mduplicates\u001b[0m\u001b[1;33m.\u001b[0m\u001b[0mappend\u001b[0m\u001b[1;33m(\u001b[0m\u001b[0mcomp\u001b[0m\u001b[1;33m)\u001b[0m\u001b[1;33m\u001b[0m\u001b[1;33m\u001b[0m\u001b[0m\n\u001b[0;32m     22\u001b[0m \u001b[1;33m\u001b[0m\u001b[0m\n",
      "\u001b[1;32mC:\\ProgramData\\Anaconda3\\lib\\site-packages\\pandas\\core\\generic.py\u001b[0m in \u001b[0;36mequals\u001b[1;34m(self, other)\u001b[0m\n\u001b[0;32m   1433\u001b[0m         \u001b[1;32mif\u001b[0m \u001b[1;32mnot\u001b[0m \u001b[0misinstance\u001b[0m\u001b[1;33m(\u001b[0m\u001b[0mother\u001b[0m\u001b[1;33m,\u001b[0m \u001b[0mself\u001b[0m\u001b[1;33m.\u001b[0m\u001b[0m_constructor\u001b[0m\u001b[1;33m)\u001b[0m\u001b[1;33m:\u001b[0m\u001b[1;33m\u001b[0m\u001b[1;33m\u001b[0m\u001b[0m\n\u001b[0;32m   1434\u001b[0m             \u001b[1;32mreturn\u001b[0m \u001b[1;32mFalse\u001b[0m\u001b[1;33m\u001b[0m\u001b[1;33m\u001b[0m\u001b[0m\n\u001b[1;32m-> 1435\u001b[1;33m         \u001b[1;32mreturn\u001b[0m \u001b[0mself\u001b[0m\u001b[1;33m.\u001b[0m\u001b[0m_data\u001b[0m\u001b[1;33m.\u001b[0m\u001b[0mequals\u001b[0m\u001b[1;33m(\u001b[0m\u001b[0mother\u001b[0m\u001b[1;33m.\u001b[0m\u001b[0m_data\u001b[0m\u001b[1;33m)\u001b[0m\u001b[1;33m\u001b[0m\u001b[1;33m\u001b[0m\u001b[0m\n\u001b[0m\u001b[0;32m   1436\u001b[0m \u001b[1;33m\u001b[0m\u001b[0m\n\u001b[0;32m   1437\u001b[0m     \u001b[1;31m# -------------------------------------------------------------------------\u001b[0m\u001b[1;33m\u001b[0m\u001b[1;33m\u001b[0m\u001b[1;33m\u001b[0m\u001b[0m\n",
      "\u001b[1;32mC:\\ProgramData\\Anaconda3\\lib\\site-packages\\pandas\\core\\internals\\managers.py\u001b[0m in \u001b[0;36mequals\u001b[1;34m(self, other)\u001b[0m\n\u001b[0;32m   1415\u001b[0m         \u001b[0mself_blocks\u001b[0m \u001b[1;33m=\u001b[0m \u001b[0msorted\u001b[0m\u001b[1;33m(\u001b[0m\u001b[0mself\u001b[0m\u001b[1;33m.\u001b[0m\u001b[0mblocks\u001b[0m\u001b[1;33m,\u001b[0m \u001b[0mkey\u001b[0m\u001b[1;33m=\u001b[0m\u001b[0mcanonicalize\u001b[0m\u001b[1;33m)\u001b[0m\u001b[1;33m\u001b[0m\u001b[1;33m\u001b[0m\u001b[0m\n\u001b[0;32m   1416\u001b[0m         \u001b[0mother_blocks\u001b[0m \u001b[1;33m=\u001b[0m \u001b[0msorted\u001b[0m\u001b[1;33m(\u001b[0m\u001b[0mother\u001b[0m\u001b[1;33m.\u001b[0m\u001b[0mblocks\u001b[0m\u001b[1;33m,\u001b[0m \u001b[0mkey\u001b[0m\u001b[1;33m=\u001b[0m\u001b[0mcanonicalize\u001b[0m\u001b[1;33m)\u001b[0m\u001b[1;33m\u001b[0m\u001b[1;33m\u001b[0m\u001b[0m\n\u001b[1;32m-> 1417\u001b[1;33m         return all(\n\u001b[0m\u001b[0;32m   1418\u001b[0m             \u001b[0mblock\u001b[0m\u001b[1;33m.\u001b[0m\u001b[0mequals\u001b[0m\u001b[1;33m(\u001b[0m\u001b[0moblock\u001b[0m\u001b[1;33m)\u001b[0m \u001b[1;32mfor\u001b[0m \u001b[0mblock\u001b[0m\u001b[1;33m,\u001b[0m \u001b[0moblock\u001b[0m \u001b[1;32min\u001b[0m \u001b[0mzip\u001b[0m\u001b[1;33m(\u001b[0m\u001b[0mself_blocks\u001b[0m\u001b[1;33m,\u001b[0m \u001b[0mother_blocks\u001b[0m\u001b[1;33m)\u001b[0m\u001b[1;33m\u001b[0m\u001b[1;33m\u001b[0m\u001b[0m\n\u001b[0;32m   1419\u001b[0m         )\n",
      "\u001b[1;32mC:\\ProgramData\\Anaconda3\\lib\\site-packages\\pandas\\core\\internals\\managers.py\u001b[0m in \u001b[0;36m<genexpr>\u001b[1;34m(.0)\u001b[0m\n\u001b[0;32m   1416\u001b[0m         \u001b[0mother_blocks\u001b[0m \u001b[1;33m=\u001b[0m \u001b[0msorted\u001b[0m\u001b[1;33m(\u001b[0m\u001b[0mother\u001b[0m\u001b[1;33m.\u001b[0m\u001b[0mblocks\u001b[0m\u001b[1;33m,\u001b[0m \u001b[0mkey\u001b[0m\u001b[1;33m=\u001b[0m\u001b[0mcanonicalize\u001b[0m\u001b[1;33m)\u001b[0m\u001b[1;33m\u001b[0m\u001b[1;33m\u001b[0m\u001b[0m\n\u001b[0;32m   1417\u001b[0m         return all(\n\u001b[1;32m-> 1418\u001b[1;33m             \u001b[0mblock\u001b[0m\u001b[1;33m.\u001b[0m\u001b[0mequals\u001b[0m\u001b[1;33m(\u001b[0m\u001b[0moblock\u001b[0m\u001b[1;33m)\u001b[0m \u001b[1;32mfor\u001b[0m \u001b[0mblock\u001b[0m\u001b[1;33m,\u001b[0m \u001b[0moblock\u001b[0m \u001b[1;32min\u001b[0m \u001b[0mzip\u001b[0m\u001b[1;33m(\u001b[0m\u001b[0mself_blocks\u001b[0m\u001b[1;33m,\u001b[0m \u001b[0mother_blocks\u001b[0m\u001b[1;33m)\u001b[0m\u001b[1;33m\u001b[0m\u001b[1;33m\u001b[0m\u001b[0m\n\u001b[0m\u001b[0;32m   1419\u001b[0m         )\n\u001b[0;32m   1420\u001b[0m \u001b[1;33m\u001b[0m\u001b[0m\n",
      "\u001b[1;32mC:\\ProgramData\\Anaconda3\\lib\\site-packages\\pandas\\core\\internals\\blocks.py\u001b[0m in \u001b[0;36mequals\u001b[1;34m(self, other)\u001b[0m\n\u001b[0;32m   1458\u001b[0m \u001b[1;33m\u001b[0m\u001b[0m\n\u001b[0;32m   1459\u001b[0m     \u001b[1;32mdef\u001b[0m \u001b[0mequals\u001b[0m\u001b[1;33m(\u001b[0m\u001b[0mself\u001b[0m\u001b[1;33m,\u001b[0m \u001b[0mother\u001b[0m\u001b[1;33m)\u001b[0m \u001b[1;33m->\u001b[0m \u001b[0mbool\u001b[0m\u001b[1;33m:\u001b[0m\u001b[1;33m\u001b[0m\u001b[1;33m\u001b[0m\u001b[0m\n\u001b[1;32m-> 1460\u001b[1;33m         \u001b[1;32mif\u001b[0m \u001b[0mself\u001b[0m\u001b[1;33m.\u001b[0m\u001b[0mdtype\u001b[0m \u001b[1;33m!=\u001b[0m \u001b[0mother\u001b[0m\u001b[1;33m.\u001b[0m\u001b[0mdtype\u001b[0m \u001b[1;32mor\u001b[0m \u001b[0mself\u001b[0m\u001b[1;33m.\u001b[0m\u001b[0mshape\u001b[0m \u001b[1;33m!=\u001b[0m \u001b[0mother\u001b[0m\u001b[1;33m.\u001b[0m\u001b[0mshape\u001b[0m\u001b[1;33m:\u001b[0m\u001b[1;33m\u001b[0m\u001b[1;33m\u001b[0m\u001b[0m\n\u001b[0m\u001b[0;32m   1461\u001b[0m             \u001b[1;32mreturn\u001b[0m \u001b[1;32mFalse\u001b[0m\u001b[1;33m\u001b[0m\u001b[1;33m\u001b[0m\u001b[0m\n\u001b[0;32m   1462\u001b[0m         \u001b[1;32mreturn\u001b[0m \u001b[0marray_equivalent\u001b[0m\u001b[1;33m(\u001b[0m\u001b[0mself\u001b[0m\u001b[1;33m.\u001b[0m\u001b[0mvalues\u001b[0m\u001b[1;33m,\u001b[0m \u001b[0mother\u001b[0m\u001b[1;33m.\u001b[0m\u001b[0mvalues\u001b[0m\u001b[1;33m)\u001b[0m\u001b[1;33m\u001b[0m\u001b[1;33m\u001b[0m\u001b[0m\n",
      "\u001b[1;31mTypeError\u001b[0m: data type not understood"
     ]
    }
   ],
   "source": [
    "#Identificamos las columnas duplicadas\n",
    "fn.columnas_duplicadas(usuarios)"
   ]
  },
  {
   "cell_type": "code",
   "execution_count": 283,
   "metadata": {},
   "outputs": [
    {
     "ename": "NameError",
     "evalue": "name 'np' is not defined",
     "output_type": "error",
     "traceback": [
      "\u001b[1;31m---------------------------------------------------------------------------\u001b[0m",
      "\u001b[1;31mNameError\u001b[0m                                 Traceback (most recent call last)",
      "\u001b[1;32m<ipython-input-283-841d83cd2994>\u001b[0m in \u001b[0;36m<module>\u001b[1;34m\u001b[0m\n\u001b[1;32m----> 1\u001b[1;33m \u001b[0mfn\u001b[0m\u001b[1;33m.\u001b[0m\u001b[0mcolumnas_duplicadas\u001b[0m\u001b[1;33m(\u001b[0m\u001b[0mtutores_perfil\u001b[0m\u001b[1;33m)\u001b[0m\u001b[1;33m\u001b[0m\u001b[1;33m\u001b[0m\u001b[0m\n\u001b[0m",
      "\u001b[1;32md:\\Desktop\\Reto06\\scripts\\funciones.py\u001b[0m in \u001b[0;36mcolumnas_duplicadas\u001b[1;34m(df)\u001b[0m\n\u001b[0;32m     21\u001b[0m                 \u001b[0mduplicates\u001b[0m\u001b[1;33m.\u001b[0m\u001b[0mappend\u001b[0m\u001b[1;33m(\u001b[0m\u001b[0mcomp\u001b[0m\u001b[1;33m)\u001b[0m\u001b[1;33m\u001b[0m\u001b[1;33m\u001b[0m\u001b[0m\n\u001b[0;32m     22\u001b[0m \u001b[1;33m\u001b[0m\u001b[0m\n\u001b[1;32m---> 23\u001b[1;33m     \u001b[0mduplicates\u001b[0m \u001b[1;33m=\u001b[0m \u001b[0mnp\u001b[0m\u001b[1;33m.\u001b[0m\u001b[0munique\u001b[0m\u001b[1;33m(\u001b[0m\u001b[0mduplicates\u001b[0m\u001b[1;33m)\u001b[0m\u001b[1;33m.\u001b[0m\u001b[0mtolist\u001b[0m\u001b[1;33m(\u001b[0m\u001b[1;33m)\u001b[0m\u001b[1;33m\u001b[0m\u001b[1;33m\u001b[0m\u001b[0m\n\u001b[0m\u001b[0;32m     24\u001b[0m     \u001b[0mprint\u001b[0m\u001b[1;33m(\u001b[0m\u001b[0mduplicates\u001b[0m\u001b[1;33m)\u001b[0m\u001b[1;33m\u001b[0m\u001b[1;33m\u001b[0m\u001b[0m\n\u001b[0;32m     25\u001b[0m \u001b[1;33m\u001b[0m\u001b[0m\n",
      "\u001b[1;31mNameError\u001b[0m: name 'np' is not defined"
     ]
    }
   ],
   "source": [
    "fn.columnas_duplicadas(tutores_perfil)"
   ]
  },
  {
   "cell_type": "code",
   "execution_count": 284,
   "metadata": {},
   "outputs": [
    {
     "ename": "NameError",
     "evalue": "name 'columnas_duplicadas' is not defined",
     "output_type": "error",
     "traceback": [
      "\u001b[1;31m---------------------------------------------------------------------------\u001b[0m",
      "\u001b[1;31mNameError\u001b[0m                                 Traceback (most recent call last)",
      "\u001b[1;32m<ipython-input-284-025644b4f515>\u001b[0m in \u001b[0;36m<module>\u001b[1;34m\u001b[0m\n\u001b[1;32m----> 1\u001b[1;33m \u001b[0mcolumnas_duplicadas\u001b[0m\u001b[1;33m(\u001b[0m\u001b[0mconocimientos\u001b[0m\u001b[1;33m)\u001b[0m\u001b[1;33m\u001b[0m\u001b[1;33m\u001b[0m\u001b[0m\n\u001b[0m",
      "\u001b[1;31mNameError\u001b[0m: name 'columnas_duplicadas' is not defined"
     ]
    }
   ],
   "source": [
    "columnas_duplicadas(conocimientos)"
   ]
  },
  {
   "cell_type": "code",
   "execution_count": 285,
   "metadata": {},
   "outputs": [
    {
     "ename": "NameError",
     "evalue": "name 'columnas_duplicadas' is not defined",
     "output_type": "error",
     "traceback": [
      "\u001b[1;31m---------------------------------------------------------------------------\u001b[0m",
      "\u001b[1;31mNameError\u001b[0m                                 Traceback (most recent call last)",
      "\u001b[1;32m<ipython-input-285-1c7871f7b199>\u001b[0m in \u001b[0;36m<module>\u001b[1;34m\u001b[0m\n\u001b[1;32m----> 1\u001b[1;33m \u001b[0mcolumnas_duplicadas\u001b[0m\u001b[1;33m(\u001b[0m\u001b[0mcursos\u001b[0m\u001b[1;33m)\u001b[0m\u001b[1;33m\u001b[0m\u001b[1;33m\u001b[0m\u001b[0m\n\u001b[0m",
      "\u001b[1;31mNameError\u001b[0m: name 'columnas_duplicadas' is not defined"
     ]
    }
   ],
   "source": [
    "columnas_duplicadas(cursos)"
   ]
  },
  {
   "cell_type": "code",
   "execution_count": 286,
   "metadata": {},
   "outputs": [
    {
     "ename": "TypeError",
     "evalue": "data type not understood",
     "output_type": "error",
     "traceback": [
      "\u001b[1;31m---------------------------------------------------------------------------\u001b[0m",
      "\u001b[1;31mTypeError\u001b[0m                                 Traceback (most recent call last)",
      "\u001b[1;32m<ipython-input-286-db396122c959>\u001b[0m in \u001b[0;36m<module>\u001b[1;34m\u001b[0m\n\u001b[1;32m----> 1\u001b[1;33m \u001b[0mfn\u001b[0m\u001b[1;33m.\u001b[0m\u001b[0mcolumnas_duplicadas\u001b[0m\u001b[1;33m(\u001b[0m\u001b[0mprogramas\u001b[0m\u001b[1;33m)\u001b[0m\u001b[1;33m\u001b[0m\u001b[1;33m\u001b[0m\u001b[0m\n\u001b[0m",
      "\u001b[1;32md:\\Desktop\\Reto06\\scripts\\funciones.py\u001b[0m in \u001b[0;36mcolumnas_duplicadas\u001b[1;34m(df)\u001b[0m\n\u001b[0;32m     18\u001b[0m \u001b[1;33m\u001b[0m\u001b[0m\n\u001b[0;32m     19\u001b[0m         \u001b[1;32mfor\u001b[0m \u001b[0mcomp\u001b[0m \u001b[1;32min\u001b[0m \u001b[0mrange\u001b[0m\u001b[1;33m(\u001b[0m\u001b[0mcol\u001b[0m \u001b[1;33m+\u001b[0m \u001b[1;36m1\u001b[0m\u001b[1;33m,\u001b[0m \u001b[0mdf\u001b[0m\u001b[1;33m.\u001b[0m\u001b[0mshape\u001b[0m\u001b[1;33m[\u001b[0m\u001b[1;36m1\u001b[0m\u001b[1;33m]\u001b[0m\u001b[1;33m)\u001b[0m\u001b[1;33m:\u001b[0m\u001b[1;33m\u001b[0m\u001b[1;33m\u001b[0m\u001b[0m\n\u001b[1;32m---> 20\u001b[1;33m             \u001b[1;32mif\u001b[0m \u001b[0mcontents\u001b[0m\u001b[1;33m.\u001b[0m\u001b[0mequals\u001b[0m\u001b[1;33m(\u001b[0m\u001b[0mdf\u001b[0m\u001b[1;33m.\u001b[0m\u001b[0miloc\u001b[0m\u001b[1;33m[\u001b[0m\u001b[1;33m:\u001b[0m\u001b[1;33m,\u001b[0m \u001b[0mcomp\u001b[0m\u001b[1;33m]\u001b[0m\u001b[1;33m)\u001b[0m\u001b[1;33m:\u001b[0m\u001b[1;33m\u001b[0m\u001b[1;33m\u001b[0m\u001b[0m\n\u001b[0m\u001b[0;32m     21\u001b[0m                 \u001b[0mduplicates\u001b[0m\u001b[1;33m.\u001b[0m\u001b[0mappend\u001b[0m\u001b[1;33m(\u001b[0m\u001b[0mcomp\u001b[0m\u001b[1;33m)\u001b[0m\u001b[1;33m\u001b[0m\u001b[1;33m\u001b[0m\u001b[0m\n\u001b[0;32m     22\u001b[0m \u001b[1;33m\u001b[0m\u001b[0m\n",
      "\u001b[1;32mC:\\ProgramData\\Anaconda3\\lib\\site-packages\\pandas\\core\\generic.py\u001b[0m in \u001b[0;36mequals\u001b[1;34m(self, other)\u001b[0m\n\u001b[0;32m   1433\u001b[0m         \u001b[1;32mif\u001b[0m \u001b[1;32mnot\u001b[0m \u001b[0misinstance\u001b[0m\u001b[1;33m(\u001b[0m\u001b[0mother\u001b[0m\u001b[1;33m,\u001b[0m \u001b[0mself\u001b[0m\u001b[1;33m.\u001b[0m\u001b[0m_constructor\u001b[0m\u001b[1;33m)\u001b[0m\u001b[1;33m:\u001b[0m\u001b[1;33m\u001b[0m\u001b[1;33m\u001b[0m\u001b[0m\n\u001b[0;32m   1434\u001b[0m             \u001b[1;32mreturn\u001b[0m \u001b[1;32mFalse\u001b[0m\u001b[1;33m\u001b[0m\u001b[1;33m\u001b[0m\u001b[0m\n\u001b[1;32m-> 1435\u001b[1;33m         \u001b[1;32mreturn\u001b[0m \u001b[0mself\u001b[0m\u001b[1;33m.\u001b[0m\u001b[0m_data\u001b[0m\u001b[1;33m.\u001b[0m\u001b[0mequals\u001b[0m\u001b[1;33m(\u001b[0m\u001b[0mother\u001b[0m\u001b[1;33m.\u001b[0m\u001b[0m_data\u001b[0m\u001b[1;33m)\u001b[0m\u001b[1;33m\u001b[0m\u001b[1;33m\u001b[0m\u001b[0m\n\u001b[0m\u001b[0;32m   1436\u001b[0m \u001b[1;33m\u001b[0m\u001b[0m\n\u001b[0;32m   1437\u001b[0m     \u001b[1;31m# -------------------------------------------------------------------------\u001b[0m\u001b[1;33m\u001b[0m\u001b[1;33m\u001b[0m\u001b[1;33m\u001b[0m\u001b[0m\n",
      "\u001b[1;32mC:\\ProgramData\\Anaconda3\\lib\\site-packages\\pandas\\core\\internals\\managers.py\u001b[0m in \u001b[0;36mequals\u001b[1;34m(self, other)\u001b[0m\n\u001b[0;32m   1415\u001b[0m         \u001b[0mself_blocks\u001b[0m \u001b[1;33m=\u001b[0m \u001b[0msorted\u001b[0m\u001b[1;33m(\u001b[0m\u001b[0mself\u001b[0m\u001b[1;33m.\u001b[0m\u001b[0mblocks\u001b[0m\u001b[1;33m,\u001b[0m \u001b[0mkey\u001b[0m\u001b[1;33m=\u001b[0m\u001b[0mcanonicalize\u001b[0m\u001b[1;33m)\u001b[0m\u001b[1;33m\u001b[0m\u001b[1;33m\u001b[0m\u001b[0m\n\u001b[0;32m   1416\u001b[0m         \u001b[0mother_blocks\u001b[0m \u001b[1;33m=\u001b[0m \u001b[0msorted\u001b[0m\u001b[1;33m(\u001b[0m\u001b[0mother\u001b[0m\u001b[1;33m.\u001b[0m\u001b[0mblocks\u001b[0m\u001b[1;33m,\u001b[0m \u001b[0mkey\u001b[0m\u001b[1;33m=\u001b[0m\u001b[0mcanonicalize\u001b[0m\u001b[1;33m)\u001b[0m\u001b[1;33m\u001b[0m\u001b[1;33m\u001b[0m\u001b[0m\n\u001b[1;32m-> 1417\u001b[1;33m         return all(\n\u001b[0m\u001b[0;32m   1418\u001b[0m             \u001b[0mblock\u001b[0m\u001b[1;33m.\u001b[0m\u001b[0mequals\u001b[0m\u001b[1;33m(\u001b[0m\u001b[0moblock\u001b[0m\u001b[1;33m)\u001b[0m \u001b[1;32mfor\u001b[0m \u001b[0mblock\u001b[0m\u001b[1;33m,\u001b[0m \u001b[0moblock\u001b[0m \u001b[1;32min\u001b[0m \u001b[0mzip\u001b[0m\u001b[1;33m(\u001b[0m\u001b[0mself_blocks\u001b[0m\u001b[1;33m,\u001b[0m \u001b[0mother_blocks\u001b[0m\u001b[1;33m)\u001b[0m\u001b[1;33m\u001b[0m\u001b[1;33m\u001b[0m\u001b[0m\n\u001b[0;32m   1419\u001b[0m         )\n",
      "\u001b[1;32mC:\\ProgramData\\Anaconda3\\lib\\site-packages\\pandas\\core\\internals\\managers.py\u001b[0m in \u001b[0;36m<genexpr>\u001b[1;34m(.0)\u001b[0m\n\u001b[0;32m   1416\u001b[0m         \u001b[0mother_blocks\u001b[0m \u001b[1;33m=\u001b[0m \u001b[0msorted\u001b[0m\u001b[1;33m(\u001b[0m\u001b[0mother\u001b[0m\u001b[1;33m.\u001b[0m\u001b[0mblocks\u001b[0m\u001b[1;33m,\u001b[0m \u001b[0mkey\u001b[0m\u001b[1;33m=\u001b[0m\u001b[0mcanonicalize\u001b[0m\u001b[1;33m)\u001b[0m\u001b[1;33m\u001b[0m\u001b[1;33m\u001b[0m\u001b[0m\n\u001b[0;32m   1417\u001b[0m         return all(\n\u001b[1;32m-> 1418\u001b[1;33m             \u001b[0mblock\u001b[0m\u001b[1;33m.\u001b[0m\u001b[0mequals\u001b[0m\u001b[1;33m(\u001b[0m\u001b[0moblock\u001b[0m\u001b[1;33m)\u001b[0m \u001b[1;32mfor\u001b[0m \u001b[0mblock\u001b[0m\u001b[1;33m,\u001b[0m \u001b[0moblock\u001b[0m \u001b[1;32min\u001b[0m \u001b[0mzip\u001b[0m\u001b[1;33m(\u001b[0m\u001b[0mself_blocks\u001b[0m\u001b[1;33m,\u001b[0m \u001b[0mother_blocks\u001b[0m\u001b[1;33m)\u001b[0m\u001b[1;33m\u001b[0m\u001b[1;33m\u001b[0m\u001b[0m\n\u001b[0m\u001b[0;32m   1419\u001b[0m         )\n\u001b[0;32m   1420\u001b[0m \u001b[1;33m\u001b[0m\u001b[0m\n",
      "\u001b[1;32mC:\\ProgramData\\Anaconda3\\lib\\site-packages\\pandas\\core\\internals\\blocks.py\u001b[0m in \u001b[0;36mequals\u001b[1;34m(self, other)\u001b[0m\n\u001b[0;32m   1458\u001b[0m \u001b[1;33m\u001b[0m\u001b[0m\n\u001b[0;32m   1459\u001b[0m     \u001b[1;32mdef\u001b[0m \u001b[0mequals\u001b[0m\u001b[1;33m(\u001b[0m\u001b[0mself\u001b[0m\u001b[1;33m,\u001b[0m \u001b[0mother\u001b[0m\u001b[1;33m)\u001b[0m \u001b[1;33m->\u001b[0m \u001b[0mbool\u001b[0m\u001b[1;33m:\u001b[0m\u001b[1;33m\u001b[0m\u001b[1;33m\u001b[0m\u001b[0m\n\u001b[1;32m-> 1460\u001b[1;33m         \u001b[1;32mif\u001b[0m \u001b[0mself\u001b[0m\u001b[1;33m.\u001b[0m\u001b[0mdtype\u001b[0m \u001b[1;33m!=\u001b[0m \u001b[0mother\u001b[0m\u001b[1;33m.\u001b[0m\u001b[0mdtype\u001b[0m \u001b[1;32mor\u001b[0m \u001b[0mself\u001b[0m\u001b[1;33m.\u001b[0m\u001b[0mshape\u001b[0m \u001b[1;33m!=\u001b[0m \u001b[0mother\u001b[0m\u001b[1;33m.\u001b[0m\u001b[0mshape\u001b[0m\u001b[1;33m:\u001b[0m\u001b[1;33m\u001b[0m\u001b[1;33m\u001b[0m\u001b[0m\n\u001b[0m\u001b[0;32m   1461\u001b[0m             \u001b[1;32mreturn\u001b[0m \u001b[1;32mFalse\u001b[0m\u001b[1;33m\u001b[0m\u001b[1;33m\u001b[0m\u001b[0m\n\u001b[0;32m   1462\u001b[0m         \u001b[1;32mreturn\u001b[0m \u001b[0marray_equivalent\u001b[0m\u001b[1;33m(\u001b[0m\u001b[0mself\u001b[0m\u001b[1;33m.\u001b[0m\u001b[0mvalues\u001b[0m\u001b[1;33m,\u001b[0m \u001b[0mother\u001b[0m\u001b[1;33m.\u001b[0m\u001b[0mvalues\u001b[0m\u001b[1;33m)\u001b[0m\u001b[1;33m\u001b[0m\u001b[1;33m\u001b[0m\u001b[0m\n",
      "\u001b[1;31mTypeError\u001b[0m: data type not understood"
     ]
    }
   ],
   "source": [
    "fn.columnas_duplicadas(programas)"
   ]
  },
  {
   "cell_type": "code",
   "execution_count": 287,
   "metadata": {},
   "outputs": [
    {
     "ename": "NameError",
     "evalue": "name 'columnas_duplicadas' is not defined",
     "output_type": "error",
     "traceback": [
      "\u001b[1;31m---------------------------------------------------------------------------\u001b[0m",
      "\u001b[1;31mNameError\u001b[0m                                 Traceback (most recent call last)",
      "\u001b[1;32m<ipython-input-287-b269824a3b1e>\u001b[0m in \u001b[0;36m<module>\u001b[1;34m\u001b[0m\n\u001b[1;32m----> 1\u001b[1;33m \u001b[0mcolumnas_duplicadas\u001b[0m\u001b[1;33m(\u001b[0m\u001b[0mcursos_en_programas\u001b[0m\u001b[1;33m)\u001b[0m\u001b[1;33m\u001b[0m\u001b[1;33m\u001b[0m\u001b[0m\n\u001b[0m",
      "\u001b[1;31mNameError\u001b[0m: name 'columnas_duplicadas' is not defined"
     ]
    }
   ],
   "source": [
    "columnas_duplicadas(cursos_en_programas)"
   ]
  },
  {
   "cell_type": "code",
   "execution_count": 288,
   "metadata": {},
   "outputs": [
    {
     "ename": "NameError",
     "evalue": "name 'columnas_duplicadas' is not defined",
     "output_type": "error",
     "traceback": [
      "\u001b[1;31m---------------------------------------------------------------------------\u001b[0m",
      "\u001b[1;31mNameError\u001b[0m                                 Traceback (most recent call last)",
      "\u001b[1;32m<ipython-input-288-82b1b214a6ca>\u001b[0m in \u001b[0;36m<module>\u001b[1;34m\u001b[0m\n\u001b[1;32m----> 1\u001b[1;33m \u001b[0mcolumnas_duplicadas\u001b[0m\u001b[1;33m(\u001b[0m\u001b[0mitinerarios\u001b[0m\u001b[1;33m)\u001b[0m\u001b[1;33m\u001b[0m\u001b[1;33m\u001b[0m\u001b[0m\n\u001b[0m",
      "\u001b[1;31mNameError\u001b[0m: name 'columnas_duplicadas' is not defined"
     ]
    }
   ],
   "source": [
    "columnas_duplicadas(itinerarios)"
   ]
  },
  {
   "cell_type": "code",
   "execution_count": 289,
   "metadata": {},
   "outputs": [
    {
     "ename": "NameError",
     "evalue": "name 'columnas_duplicadas' is not defined",
     "output_type": "error",
     "traceback": [
      "\u001b[1;31m---------------------------------------------------------------------------\u001b[0m",
      "\u001b[1;31mNameError\u001b[0m                                 Traceback (most recent call last)",
      "\u001b[1;32m<ipython-input-289-4f29e60b5b23>\u001b[0m in \u001b[0;36m<module>\u001b[1;34m\u001b[0m\n\u001b[1;32m----> 1\u001b[1;33m \u001b[0mcolumnas_duplicadas\u001b[0m\u001b[1;33m(\u001b[0m\u001b[0mnotas_cursos\u001b[0m\u001b[1;33m)\u001b[0m\u001b[1;33m\u001b[0m\u001b[1;33m\u001b[0m\u001b[0m\n\u001b[0m",
      "\u001b[1;31mNameError\u001b[0m: name 'columnas_duplicadas' is not defined"
     ]
    }
   ],
   "source": [
    "columnas_duplicadas(notas_cursos)"
   ]
  },
  {
   "cell_type": "code",
   "execution_count": null,
   "metadata": {},
   "outputs": [
    {
     "name": "stdout",
     "output_type": "stream",
     "text": [
      "[]\n"
     ]
    }
   ],
   "source": [
    "columnas_duplicadas(roles)"
   ]
  },
  {
   "cell_type": "code",
   "execution_count": 290,
   "metadata": {},
   "outputs": [
    {
     "ename": "NameError",
     "evalue": "name 'columnas_duplicadas' is not defined",
     "output_type": "error",
     "traceback": [
      "\u001b[1;31m---------------------------------------------------------------------------\u001b[0m",
      "\u001b[1;31mNameError\u001b[0m                                 Traceback (most recent call last)",
      "\u001b[1;32m<ipython-input-290-2a4e26d616af>\u001b[0m in \u001b[0;36m<module>\u001b[1;34m\u001b[0m\n\u001b[1;32m----> 1\u001b[1;33m \u001b[0mcolumnas_duplicadas\u001b[0m\u001b[1;33m(\u001b[0m\u001b[0maccesos\u001b[0m\u001b[1;33m)\u001b[0m\u001b[1;33m\u001b[0m\u001b[1;33m\u001b[0m\u001b[0m\n\u001b[0m",
      "\u001b[1;31mNameError\u001b[0m: name 'columnas_duplicadas' is not defined"
     ]
    }
   ],
   "source": [
    "columnas_duplicadas(accesos)"
   ]
  },
  {
   "cell_type": "code",
   "execution_count": null,
   "metadata": {},
   "outputs": [
    {
     "name": "stdout",
     "output_type": "stream",
     "text": [
      "[]\n"
     ]
    }
   ],
   "source": [
    "columnas_duplicadas(acceso_1ero_ultimo)"
   ]
  },
  {
   "cell_type": "code",
   "execution_count": 291,
   "metadata": {},
   "outputs": [
    {
     "ename": "NameError",
     "evalue": "name 'columnas_duplicadas' is not defined",
     "output_type": "error",
     "traceback": [
      "\u001b[1;31m---------------------------------------------------------------------------\u001b[0m",
      "\u001b[1;31mNameError\u001b[0m                                 Traceback (most recent call last)",
      "\u001b[1;32m<ipython-input-291-5d30eeb93237>\u001b[0m in \u001b[0;36m<module>\u001b[1;34m\u001b[0m\n\u001b[1;32m----> 1\u001b[1;33m \u001b[0mcolumnas_duplicadas\u001b[0m\u001b[1;33m(\u001b[0m\u001b[0mactividades\u001b[0m\u001b[1;33m)\u001b[0m\u001b[1;33m\u001b[0m\u001b[1;33m\u001b[0m\u001b[0m\n\u001b[0m\u001b[0;32m      2\u001b[0m \u001b[1;31m#Ningun data frame tiene columnas duplicadas\u001b[0m\u001b[1;33m\u001b[0m\u001b[1;33m\u001b[0m\u001b[1;33m\u001b[0m\u001b[0m\n",
      "\u001b[1;31mNameError\u001b[0m: name 'columnas_duplicadas' is not defined"
     ]
    }
   ],
   "source": [
    "columnas_duplicadas(actividades)\n",
    "#Ningun data frame tiene columnas duplicadas"
   ]
  },
  {
   "cell_type": "markdown",
   "metadata": {},
   "source": [
    "### MISSING VALUES"
   ]
  },
  {
   "cell_type": "code",
   "execution_count": 53,
   "metadata": {},
   "outputs": [
    {
     "name": "stdout",
     "output_type": "stream",
     "text": [
      "user_id\n",
      "False    420\n",
      "Name: user_id, dtype: int64\n",
      "\n",
      "useranonimo_name\n",
      "False    420\n",
      "Name: useranonimo_name, dtype: int64\n",
      "\n",
      "active_flag\n",
      "False    420\n",
      "Name: active_flag, dtype: int64\n",
      "\n",
      "language\n",
      "False    420\n",
      "Name: language, dtype: int64\n",
      "\n",
      "mdl_user_id\n",
      "False    405\n",
      "True      15\n",
      "Name: mdl_user_id, dtype: int64\n",
      "\n",
      "role_admin\n",
      "False    420\n",
      "Name: role_admin, dtype: int64\n",
      "\n",
      "role_manager\n",
      "False    420\n",
      "Name: role_manager, dtype: int64\n",
      "\n",
      "role_student\n",
      "False    420\n",
      "Name: role_student, dtype: int64\n",
      "\n",
      "role_tutor\n",
      "False    420\n",
      "Name: role_tutor, dtype: int64\n",
      "\n",
      "planta_name\n",
      "False    420\n",
      "Name: planta_name, dtype: int64\n",
      "\n"
     ]
    }
   ],
   "source": [
    "#Usuarios\n",
    "fn.identificar_missings(usuarios)"
   ]
  },
  {
   "cell_type": "code",
   "execution_count": 54,
   "metadata": {},
   "outputs": [],
   "source": [
    "#Observamos que la columna last_acces está completamente vacia. Procedemos a imputarla desde acceso_1ero_ultimo (ultimo acceso)\n",
    "#Imputamos tambien 1er acceso\n",
    "usuarios = usuarios.merge(acceso_1ero_ultimo, on=\"mdl_user_id\", how = \"left\")\n",
    "usuarios\n",
    "\n",
    "#Asimismo, la columna de mdl_user_id, tiene 15 instancias con NaN. \n",
    "#Las eliminamos ya que esos usuarios no aparecen en ninguna tabla mas, no participan en los programas\n",
    "usuarios.dropna(subset=[\"mdl_user_id\"], inplace = True)"
   ]
  },
  {
   "cell_type": "code",
   "execution_count": 55,
   "metadata": {},
   "outputs": [
    {
     "name": "stdout",
     "output_type": "stream",
     "text": [
      "perfil_id\n",
      "False    188\n",
      "Name: perfil_id, dtype: int64\n",
      "\n",
      "user_id\n",
      "False    188\n",
      "Name: user_id, dtype: int64\n",
      "\n",
      "perfil_name\n",
      "False    118\n",
      "True      70\n",
      "Name: perfil_name, dtype: int64\n",
      "\n"
     ]
    }
   ],
   "source": [
    "#Tutores_perfil\n",
    "fn.identificar_missings(tutores_perfil)"
   ]
  },
  {
   "cell_type": "code",
   "execution_count": 56,
   "metadata": {},
   "outputs": [],
   "source": [
    "tutores_perfil = tutores_perfil.dropna() #quitamos las filas con NaN en perfil_name. el perfil_id de esas filas es 0, por lo que definitivamente no aportan valor"
   ]
  },
  {
   "cell_type": "code",
   "execution_count": 57,
   "metadata": {},
   "outputs": [
    {
     "name": "stdout",
     "output_type": "stream",
     "text": [
      "conocimiento_id\n",
      "False    155\n",
      "Name: conocimiento_id, dtype: int64\n",
      "\n",
      "conocimiento_name\n",
      "False    155\n",
      "Name: conocimiento_name, dtype: int64\n",
      "\n",
      "created_by\n",
      "False    155\n",
      "Name: created_by, dtype: int64\n",
      "\n",
      "categoria_conocimiento_id\n",
      "False    155\n",
      "Name: categoria_conocimiento_id, dtype: int64\n",
      "\n",
      "categoria_conocimiento_name\n",
      "False    133\n",
      "True      22\n",
      "Name: categoria_conocimiento_name, dtype: int64\n",
      "\n"
     ]
    }
   ],
   "source": [
    "#Conocimientos\n",
    "fn.identificar_missings(conocimientos)\n",
    "\n",
    "#La variable categoria_conocimiento_name tiene 22 missings. Esto se debe a que la categoria_conocimiento_id es 0. \n",
    "#Es decir, no existe ni tiene datos. Por lo tanto, vamos a quitar las filas que son missings o lo q es lo mismo, Filas\n",
    "# que tienen el valor de 0 en la variable categoria_conocimiento_id.\n",
    "\n",
    "indexNames = conocimientos[ conocimientos['categoria_conocimiento_id'] == 0 ].index\n",
    "conocimientos.drop(indexNames , inplace=True)"
   ]
  },
  {
   "cell_type": "code",
   "execution_count": 58,
   "metadata": {},
   "outputs": [
    {
     "name": "stdout",
     "output_type": "stream",
     "text": [
      "course_id\n",
      "False    139\n",
      "Name: course_id, dtype: int64\n",
      "\n",
      "course_name\n",
      "False    139\n",
      "Name: course_name, dtype: int64\n",
      "\n",
      "category\n",
      "False    139\n",
      "Name: category, dtype: int64\n",
      "\n",
      "hours\n",
      "False    139\n",
      "Name: hours, dtype: int64\n",
      "\n",
      "course_shortname\n",
      "False    139\n",
      "Name: course_shortname, dtype: int64\n",
      "\n"
     ]
    }
   ],
   "source": [
    "#Cursos\n",
    "fn.identificar_missings(cursos) #no contiene valores vacios"
   ]
  },
  {
   "cell_type": "code",
   "execution_count": 59,
   "metadata": {},
   "outputs": [
    {
     "name": "stdout",
     "output_type": "stream",
     "text": [
      "program_id\n",
      "False    110\n",
      "Name: program_id, dtype: int64\n",
      "\n",
      "program_name\n",
      "False    110\n",
      "Name: program_name, dtype: int64\n",
      "\n",
      "program_category_id\n",
      "False    109\n",
      "True       1\n",
      "Name: program_category_id, dtype: int64\n",
      "\n"
     ]
    }
   ],
   "source": [
    "#Programas\n",
    "fn.identificar_missings(programas)\n",
    "\n",
    "#identificamos la fila con NaN\n",
    "programas['vacio'] = programas['program_category_id'].isnull()\n",
    "programas[programas['vacio'] == True] #vemos que el program_name es pepe, por lo que no es valido\n",
    "\n",
    "programas.drop(['vacio'], axis = 1, inplace= True)\n",
    "\n",
    "programas.dropna(subset=[\"program_category_id\"], inplace = True) #lo eliminamos\n",
    "\n",
    "#puede que haya mas program_name inventados:\n",
    "programas['program_name'].unique() #se observan nombres que resultan extraños e inventados.\n",
    "\n",
    "#los quitamos\n",
    "#cursos_en_programas tiene program_name y program_id correctos (la mayoria), por lo que los imputamos desde ahi\n",
    "#ademas, asi eliminamos programas que no aparecen en la tabla cursos en programas, ya que que no aparezcan significa que no pertenecen a ningun curso de modle. No nos interesan\n",
    "cursos_en_programas['program_id'].unique().shape #71 programas no inventados (suponemos)\n",
    "programas['program_id'].unique().shape #109-71 = 38 programas inventados\n",
    "\n",
    "programas_correctos= []\n",
    "programas_correctos = pd.DataFrame(cursos_en_programas['program_id'].unique())\n",
    "programas_correctos.columns = ['program_id'] \n",
    "programas_correctos\n",
    "\n",
    "programas = programas_correctos.merge(programas, on=\"program_id\", how = \"left\")\n",
    "\n",
    "programas['program_name'].unique() #seguimos teniendo nombres inventados; los identificamos:\n",
    "programas[programas['program_name'].str.contains('prueba|Sergio')] \n",
    "\n",
    "#son las filas 24 - 38, las quitamos\n",
    "programas = programas.drop(range(24,39,1), axis = 0 ).reset_index(drop= True)\n"
   ]
  },
  {
   "cell_type": "code",
   "execution_count": 64,
   "metadata": {},
   "outputs": [],
   "source": [
    "#Nos hemos dado cuenta de que hay program_names con un DNI al final o con la propia palabra DNI\n",
    "#Eliminamos ese trozo de texto\n",
    "for num, i in enumerate(programas[\"program_name\"]):\n",
    "    i = str(i)\n",
    "    if re.findall('TÉCNICO DEMO|TECNICO DEMO|TecnicoDemo', i, re.IGNORECASE):\n",
    "        i = i.replace(\"TÉCNICO DEMO\", \"TECNICODEMO\").replace(\"TECNICO DEMO\", \"TECNICODEMO\").replace(' 2 ', '_2 ')\n",
    "        i = i.split(' ')[0]\n",
    "        programas.loc[num, \"program_name\"] = i"
   ]
  },
  {
   "cell_type": "code",
   "execution_count": 383,
   "metadata": {},
   "outputs": [
    {
     "name": "stdout",
     "output_type": "stream",
     "text": [
      "program_course_online_id\n",
      "False    253\n",
      "Name: program_course_online_id, dtype: int64\n",
      "\n",
      "course_moodle_id\n",
      "False    253\n",
      "Name: course_moodle_id, dtype: int64\n",
      "\n",
      "conocimiento_id\n",
      "False    253\n",
      "Name: conocimiento_id, dtype: int64\n",
      "\n",
      "num_periodo\n",
      "False    253\n",
      "Name: num_periodo, dtype: int64\n",
      "\n",
      "program_id\n",
      "False    253\n",
      "Name: program_id, dtype: int64\n",
      "\n",
      "course_moodle_name\n",
      "False    253\n",
      "Name: course_moodle_name, dtype: int64\n",
      "\n",
      "conocimiento_name\n",
      "False    253\n",
      "Name: conocimiento_name, dtype: int64\n",
      "\n",
      "program_name\n",
      "False    253\n",
      "Name: program_name, dtype: int64\n",
      "\n"
     ]
    }
   ],
   "source": [
    "#Cursos en programas\n",
    "fn.identificar_missings(cursos_en_programas) #no hay missings\n"
   ]
  },
  {
   "cell_type": "code",
   "execution_count": 455,
   "metadata": {},
   "outputs": [],
   "source": [
    "#El program name tiene los mismos nombres inventados q en el caso anterior. Los eliminamos\n",
    "cursos_en_programas[cursos_en_programas['program_name'].str.contains('prueba|Sergio')] \n",
    "\n",
    "cursos_en_programas = cursos_en_programas.drop(range(128,156,1), axis = 0 ).reset_index(drop = True)"
   ]
  },
  {
   "cell_type": "code",
   "execution_count": 456,
   "metadata": {},
   "outputs": [
    {
     "data": {
      "text/html": [
       "<div>\n",
       "<style scoped>\n",
       "    .dataframe tbody tr th:only-of-type {\n",
       "        vertical-align: middle;\n",
       "    }\n",
       "\n",
       "    .dataframe tbody tr th {\n",
       "        vertical-align: top;\n",
       "    }\n",
       "\n",
       "    .dataframe thead th {\n",
       "        text-align: right;\n",
       "    }\n",
       "</style>\n",
       "<table border=\"1\" class=\"dataframe\">\n",
       "  <thead>\n",
       "    <tr style=\"text-align: right;\">\n",
       "      <th></th>\n",
       "      <th>index</th>\n",
       "      <th>program_course_online_id</th>\n",
       "      <th>course_moodle_id</th>\n",
       "      <th>conocimiento_id</th>\n",
       "      <th>num_periodo</th>\n",
       "      <th>program_id</th>\n",
       "      <th>course_moodle_name</th>\n",
       "      <th>conocimiento_name</th>\n",
       "      <th>program_name</th>\n",
       "    </tr>\n",
       "  </thead>\n",
       "  <tbody>\n",
       "  </tbody>\n",
       "</table>\n",
       "</div>"
      ],
      "text/plain": [
       "Empty DataFrame\n",
       "Columns: [index, program_course_online_id, course_moodle_id, conocimiento_id, num_periodo, program_id, course_moodle_name, conocimiento_name, program_name]\n",
       "Index: []"
      ]
     },
     "execution_count": 456,
     "metadata": {},
     "output_type": "execute_result"
    }
   ],
   "source": [
    "cursos_en_programas[cursos_en_programas['program_name'].str.contains('prueba|Sergio')] #correcto"
   ]
  },
  {
   "cell_type": "code",
   "execution_count": 470,
   "metadata": {},
   "outputs": [
    {
     "name": "stdout",
     "output_type": "stream",
     "text": [
      "active_flag\n",
      "False    441\n",
      "Name: active_flag, dtype: int64\n",
      "\n",
      "category_id\n",
      "False    441\n",
      "Name: category_id, dtype: int64\n",
      "\n",
      "date_enroll\n",
      "False    440\n",
      "True       1\n",
      "Name: date_enroll, dtype: int64\n",
      "\n",
      "enroll_end\n",
      "True     280\n",
      "False    161\n",
      "Name: enroll_end, dtype: int64\n",
      "\n",
      "program_id\n",
      "False    441\n",
      "Name: program_id, dtype: int64\n",
      "\n",
      "tutor_academico_id\n",
      "False    441\n",
      "Name: tutor_academico_id, dtype: int64\n",
      "\n",
      "tutor_empresa_id\n",
      "False    441\n",
      "Name: tutor_empresa_id, dtype: int64\n",
      "\n",
      "user_id\n",
      "False    441\n",
      "Name: user_id, dtype: int64\n",
      "\n",
      "category_name\n",
      "False    441\n",
      "Name: category_name, dtype: int64\n",
      "\n",
      "program_name\n",
      "False    441\n",
      "Name: program_name, dtype: int64\n",
      "\n",
      "duracion\n",
      "True     280\n",
      "False    161\n",
      "Name: duracion, dtype: int64\n",
      "\n"
     ]
    }
   ],
   "source": [
    "#Itinerarios\n",
    "fn.identificar_missings(itinerarios)\n",
    "\n",
    "#identificamos la fila con NaN\n",
    "itinerarios1 = pd.DataFrame()\n",
    "itinerarios1['vacio'] = itinerarios['date_enroll'].isnull()\n",
    "itinerarios1\n",
    "itinerarios1[itinerarios1['vacio'] == True] \n",
    "itinerarios.iloc[52, :]\n",
    "\n",
    "#La eliminamos ya que todo itinerario debe tener fecha de comienzo, y no se puede imputar\n",
    "itinerarios.drop([57],axis=0, inplace = True).reset_index(drop = True)\n",
    "\n",
    "#con los missings de la variable enroll_end no hacemos nada, ya que la fecha final del itinerario no tiene porque estar siempre determinada\n"
   ]
  },
  {
   "cell_type": "code",
   "execution_count": 475,
   "metadata": {},
   "outputs": [
    {
     "name": "stdout",
     "output_type": "stream",
     "text": [
      "enroll_grade_id\n",
      "False    3898\n",
      "Name: enroll_grade_id, dtype: int64\n",
      "\n",
      "active_flag\n",
      "False    3898\n",
      "Name: active_flag, dtype: int64\n",
      "\n",
      "course_id\n",
      "False    3898\n",
      "Name: course_id, dtype: int64\n",
      "\n",
      "enroll_id\n",
      "False    3898\n",
      "Name: enroll_id, dtype: int64\n",
      "\n",
      "grade\n",
      "False    3898\n",
      "Name: grade, dtype: int64\n",
      "\n",
      "online_progress\n",
      "False    3898\n",
      "Name: online_progress, dtype: int64\n",
      "\n",
      "course_name\n",
      "False    3898\n",
      "Name: course_name, dtype: int64\n",
      "\n",
      "user_id\n",
      "False    3898\n",
      "Name: user_id, dtype: int64\n",
      "\n"
     ]
    },
    {
     "data": {
      "text/html": [
       "<div>\n",
       "<style scoped>\n",
       "    .dataframe tbody tr th:only-of-type {\n",
       "        vertical-align: middle;\n",
       "    }\n",
       "\n",
       "    .dataframe tbody tr th {\n",
       "        vertical-align: top;\n",
       "    }\n",
       "\n",
       "    .dataframe thead th {\n",
       "        text-align: right;\n",
       "    }\n",
       "</style>\n",
       "<table border=\"1\" class=\"dataframe\">\n",
       "  <thead>\n",
       "    <tr style=\"text-align: right;\">\n",
       "      <th></th>\n",
       "      <th>enroll_grade_id</th>\n",
       "      <th>active_flag</th>\n",
       "      <th>course_id</th>\n",
       "      <th>enroll_id</th>\n",
       "      <th>grade</th>\n",
       "      <th>online_progress</th>\n",
       "      <th>course_name</th>\n",
       "      <th>user_id</th>\n",
       "    </tr>\n",
       "  </thead>\n",
       "  <tbody>\n",
       "    <tr>\n",
       "      <th>0</th>\n",
       "      <td>17681</td>\n",
       "      <td>True</td>\n",
       "      <td>224</td>\n",
       "      <td>802</td>\n",
       "      <td>0.00</td>\n",
       "      <td>0.0</td>\n",
       "      <td>A - FORMACIÓN ESPECÍFICA CALIDAD ABP</td>\n",
       "      <td>138</td>\n",
       "    </tr>\n",
       "    <tr>\n",
       "      <th>1</th>\n",
       "      <td>16572</td>\n",
       "      <td>True</td>\n",
       "      <td>224</td>\n",
       "      <td>771</td>\n",
       "      <td>9.32</td>\n",
       "      <td>0.0</td>\n",
       "      <td>A - FORMACIÓN ESPECÍFICA CALIDAD ABP</td>\n",
       "      <td>262</td>\n",
       "    </tr>\n",
       "    <tr>\n",
       "      <th>2</th>\n",
       "      <td>16590</td>\n",
       "      <td>True</td>\n",
       "      <td>224</td>\n",
       "      <td>774</td>\n",
       "      <td>9.66</td>\n",
       "      <td>0.0</td>\n",
       "      <td>A - FORMACIÓN ESPECÍFICA CALIDAD ABP</td>\n",
       "      <td>265</td>\n",
       "    </tr>\n",
       "    <tr>\n",
       "      <th>3</th>\n",
       "      <td>16578</td>\n",
       "      <td>True</td>\n",
       "      <td>224</td>\n",
       "      <td>772</td>\n",
       "      <td>0.00</td>\n",
       "      <td>0.0</td>\n",
       "      <td>A - FORMACIÓN ESPECÍFICA CALIDAD ABP</td>\n",
       "      <td>263</td>\n",
       "    </tr>\n",
       "    <tr>\n",
       "      <th>4</th>\n",
       "      <td>16584</td>\n",
       "      <td>True</td>\n",
       "      <td>224</td>\n",
       "      <td>773</td>\n",
       "      <td>0.00</td>\n",
       "      <td>0.0</td>\n",
       "      <td>A - FORMACIÓN ESPECÍFICA CALIDAD ABP</td>\n",
       "      <td>264</td>\n",
       "    </tr>\n",
       "    <tr>\n",
       "      <th>...</th>\n",
       "      <td>...</td>\n",
       "      <td>...</td>\n",
       "      <td>...</td>\n",
       "      <td>...</td>\n",
       "      <td>...</td>\n",
       "      <td>...</td>\n",
       "      <td>...</td>\n",
       "      <td>...</td>\n",
       "    </tr>\n",
       "    <tr>\n",
       "      <th>3893</th>\n",
       "      <td>19558</td>\n",
       "      <td>True</td>\n",
       "      <td>278</td>\n",
       "      <td>838</td>\n",
       "      <td>0.00</td>\n",
       "      <td>0.0</td>\n",
       "      <td>Trazabilidad LPPFe MEC</td>\n",
       "      <td>311</td>\n",
       "    </tr>\n",
       "    <tr>\n",
       "      <th>3894</th>\n",
       "      <td>19568</td>\n",
       "      <td>True</td>\n",
       "      <td>278</td>\n",
       "      <td>839</td>\n",
       "      <td>0.00</td>\n",
       "      <td>0.0</td>\n",
       "      <td>Trazabilidad LPPFe MEC</td>\n",
       "      <td>312</td>\n",
       "    </tr>\n",
       "    <tr>\n",
       "      <th>3895</th>\n",
       "      <td>19578</td>\n",
       "      <td>True</td>\n",
       "      <td>278</td>\n",
       "      <td>840</td>\n",
       "      <td>0.00</td>\n",
       "      <td>0.0</td>\n",
       "      <td>Trazabilidad LPPFe MEC</td>\n",
       "      <td>313</td>\n",
       "    </tr>\n",
       "    <tr>\n",
       "      <th>3896</th>\n",
       "      <td>19913</td>\n",
       "      <td>True</td>\n",
       "      <td>278</td>\n",
       "      <td>850</td>\n",
       "      <td>0.00</td>\n",
       "      <td>0.0</td>\n",
       "      <td>Trazabilidad LPPFe MEC</td>\n",
       "      <td>317</td>\n",
       "    </tr>\n",
       "    <tr>\n",
       "      <th>3897</th>\n",
       "      <td>21551</td>\n",
       "      <td>True</td>\n",
       "      <td>278</td>\n",
       "      <td>885</td>\n",
       "      <td>0.00</td>\n",
       "      <td>0.0</td>\n",
       "      <td>Trazabilidad LPPFe MEC</td>\n",
       "      <td>324</td>\n",
       "    </tr>\n",
       "  </tbody>\n",
       "</table>\n",
       "<p>3898 rows × 8 columns</p>\n",
       "</div>"
      ],
      "text/plain": [
       "     enroll_grade_id  active_flag course_id enroll_id  grade  online_progress  \\\n",
       "0              17681         True       224       802   0.00              0.0   \n",
       "1              16572         True       224       771   9.32              0.0   \n",
       "2              16590         True       224       774   9.66              0.0   \n",
       "3              16578         True       224       772   0.00              0.0   \n",
       "4              16584         True       224       773   0.00              0.0   \n",
       "...              ...          ...       ...       ...    ...              ...   \n",
       "3893           19558         True       278       838   0.00              0.0   \n",
       "3894           19568         True       278       839   0.00              0.0   \n",
       "3895           19578         True       278       840   0.00              0.0   \n",
       "3896           19913         True       278       850   0.00              0.0   \n",
       "3897           21551         True       278       885   0.00              0.0   \n",
       "\n",
       "                               course_name user_id  \n",
       "0     A - FORMACIÓN ESPECÍFICA CALIDAD ABP     138  \n",
       "1     A - FORMACIÓN ESPECÍFICA CALIDAD ABP     262  \n",
       "2     A - FORMACIÓN ESPECÍFICA CALIDAD ABP     265  \n",
       "3     A - FORMACIÓN ESPECÍFICA CALIDAD ABP     263  \n",
       "4     A - FORMACIÓN ESPECÍFICA CALIDAD ABP     264  \n",
       "...                                    ...     ...  \n",
       "3893                Trazabilidad LPPFe MEC     311  \n",
       "3894                Trazabilidad LPPFe MEC     312  \n",
       "3895                Trazabilidad LPPFe MEC     313  \n",
       "3896                Trazabilidad LPPFe MEC     317  \n",
       "3897                Trazabilidad LPPFe MEC     324  \n",
       "\n",
       "[3898 rows x 8 columns]"
      ]
     },
     "execution_count": 475,
     "metadata": {},
     "output_type": "execute_result"
    }
   ],
   "source": [
    "#Notas_cursos\n",
    "fn.identificar_missings(notas_cursos)\n",
    "\n",
    "#Las dos variables con instancias que contienen missings son grade y online_progress. \n",
    "\n",
    "#En el caso de estas dos variables, es importante preguntarse porque tienen valores missings. La respuesta que se cree correcta\n",
    "#es de que se tratan de variables que no tienen que tener un valor de obligatoriamente. Es decir, quizas algunos aprendices todavia \n",
    "# no han realizado el grado o el curso por lo que no tienen ninguna nota asociada. Lo mismo ocurre con el online_progress,\n",
    "#puesto que mide el porcentaje de progreso del curso y quizas algunos aprendices no hayan dado comienzo al curso.\n",
    "\n",
    "#Por estos motivos, se ha decidido que los valores ausentes que se encuentran en blanco se sustituyen por un 0 (sin iniciar.)\n",
    "notas_cursos['grade'].fillna(0, inplace=True)#convertir NaN en 0ç\n",
    "notas_cursos['online_progress'].fillna(0, inplace=True)#convertir NaN en 0"
   ]
  },
  {
   "cell_type": "code",
   "execution_count": 476,
   "metadata": {},
   "outputs": [
    {
     "name": "stdout",
     "output_type": "stream",
     "text": [
      "role_id\n",
      "False    4\n",
      "Name: role_id, dtype: int64\n",
      "\n",
      "role_name\n",
      "False    4\n",
      "Name: role_name, dtype: int64\n",
      "\n"
     ]
    }
   ],
   "source": [
    "#Roles\n",
    "fn.identificar_missings(roles) #ningun valor ausente"
   ]
  },
  {
   "cell_type": "code",
   "execution_count": 477,
   "metadata": {},
   "outputs": [
    {
     "name": "stdout",
     "output_type": "stream",
     "text": [
      "planta_id\n",
      "False    17\n",
      "Name: planta_id, dtype: int64\n",
      "\n",
      "planta_name\n",
      "False    17\n",
      "Name: planta_name, dtype: int64\n",
      "\n"
     ]
    }
   ],
   "source": [
    "#Plantas\n",
    "fn.identificar_missings(plantas) #ningun valor ausente"
   ]
  },
  {
   "cell_type": "code",
   "execution_count": 482,
   "metadata": {},
   "outputs": [
    {
     "data": {
      "text/html": [
       "<div>\n",
       "<style scoped>\n",
       "    .dataframe tbody tr th:only-of-type {\n",
       "        vertical-align: middle;\n",
       "    }\n",
       "\n",
       "    .dataframe tbody tr th {\n",
       "        vertical-align: top;\n",
       "    }\n",
       "\n",
       "    .dataframe thead th {\n",
       "        text-align: right;\n",
       "    }\n",
       "</style>\n",
       "<table border=\"1\" class=\"dataframe\">\n",
       "  <thead>\n",
       "    <tr style=\"text-align: right;\">\n",
       "      <th></th>\n",
       "      <th>description</th>\n",
       "      <th>timestamp</th>\n",
       "      <th>mdl_user_id</th>\n",
       "      <th>user_id</th>\n",
       "    </tr>\n",
       "  </thead>\n",
       "  <tbody>\n",
       "    <tr>\n",
       "      <th>8690</th>\n",
       "      <td>LOGOUT AS SRM OK</td>\n",
       "      <td>2021-06-21 09:19:33+00:00</td>\n",
       "      <td>3</td>\n",
       "      <td>134</td>\n",
       "    </tr>\n",
       "    <tr>\n",
       "      <th>8691</th>\n",
       "      <td>LOGOUT AS SRM OK</td>\n",
       "      <td>2021-06-21 09:58:24+00:00</td>\n",
       "      <td>3</td>\n",
       "      <td>134</td>\n",
       "    </tr>\n",
       "    <tr>\n",
       "      <th>8692</th>\n",
       "      <td>LOGOUT AS SRM OK</td>\n",
       "      <td>2021-06-21 09:59:38+00:00</td>\n",
       "      <td>3</td>\n",
       "      <td>134</td>\n",
       "    </tr>\n",
       "    <tr>\n",
       "      <th>8693</th>\n",
       "      <td>LOGOUT AS SRM OK</td>\n",
       "      <td>2021-10-14 08:48:26+00:00</td>\n",
       "      <td>3</td>\n",
       "      <td>134</td>\n",
       "    </tr>\n",
       "    <tr>\n",
       "      <th>8694</th>\n",
       "      <td>LOGOUT AS SRM OK</td>\n",
       "      <td>2021-10-13 11:29:57+00:00</td>\n",
       "      <td>3</td>\n",
       "      <td>134</td>\n",
       "    </tr>\n",
       "    <tr>\n",
       "      <th>...</th>\n",
       "      <td>...</td>\n",
       "      <td>...</td>\n",
       "      <td>...</td>\n",
       "      <td>...</td>\n",
       "    </tr>\n",
       "    <tr>\n",
       "      <th>8785</th>\n",
       "      <td>LOGOUT AS SRM OK</td>\n",
       "      <td>2020-11-15 19:06:36+00:00</td>\n",
       "      <td>3</td>\n",
       "      <td>134</td>\n",
       "    </tr>\n",
       "    <tr>\n",
       "      <th>8786</th>\n",
       "      <td>LOGOUT AS SRM OK</td>\n",
       "      <td>2020-11-15 19:12:58+00:00</td>\n",
       "      <td>3</td>\n",
       "      <td>134</td>\n",
       "    </tr>\n",
       "    <tr>\n",
       "      <th>8787</th>\n",
       "      <td>LOGOUT AS SRM OK</td>\n",
       "      <td>2020-11-15 19:39:17+00:00</td>\n",
       "      <td>3</td>\n",
       "      <td>134</td>\n",
       "    </tr>\n",
       "    <tr>\n",
       "      <th>8788</th>\n",
       "      <td>LOGOUT AS SRM OK</td>\n",
       "      <td>2021-10-13 09:39:17+00:00</td>\n",
       "      <td>3</td>\n",
       "      <td>134</td>\n",
       "    </tr>\n",
       "    <tr>\n",
       "      <th>8789</th>\n",
       "      <td>LOGOUT AS SRM OK</td>\n",
       "      <td>2021-10-13 10:35:21+00:00</td>\n",
       "      <td>3</td>\n",
       "      <td>134</td>\n",
       "    </tr>\n",
       "  </tbody>\n",
       "</table>\n",
       "<p>100 rows × 4 columns</p>\n",
       "</div>"
      ],
      "text/plain": [
       "           description                 timestamp mdl_user_id user_id\n",
       "8690  LOGOUT AS SRM OK 2021-06-21 09:19:33+00:00           3     134\n",
       "8691  LOGOUT AS SRM OK 2021-06-21 09:58:24+00:00           3     134\n",
       "8692  LOGOUT AS SRM OK 2021-06-21 09:59:38+00:00           3     134\n",
       "8693  LOGOUT AS SRM OK 2021-10-14 08:48:26+00:00           3     134\n",
       "8694  LOGOUT AS SRM OK 2021-10-13 11:29:57+00:00           3     134\n",
       "...                ...                       ...         ...     ...\n",
       "8785  LOGOUT AS SRM OK 2020-11-15 19:06:36+00:00           3     134\n",
       "8786  LOGOUT AS SRM OK 2020-11-15 19:12:58+00:00           3     134\n",
       "8787  LOGOUT AS SRM OK 2020-11-15 19:39:17+00:00           3     134\n",
       "8788  LOGOUT AS SRM OK 2021-10-13 09:39:17+00:00           3     134\n",
       "8789  LOGOUT AS SRM OK 2021-10-13 10:35:21+00:00           3     134\n",
       "\n",
       "[100 rows x 4 columns]"
      ]
     },
     "execution_count": 482,
     "metadata": {},
     "output_type": "execute_result"
    }
   ],
   "source": []
  },
  {
   "cell_type": "code",
   "execution_count": 480,
   "metadata": {},
   "outputs": [
    {
     "name": "stdout",
     "output_type": "stream",
     "text": [
      "description\n",
      "False    8231\n",
      "True      559\n",
      "Name: description, dtype: int64\n",
      "\n",
      "timestamp\n",
      "False    8790\n",
      "Name: timestamp, dtype: int64\n",
      "\n",
      "mdl_user_id\n",
      "False    8790\n",
      "Name: mdl_user_id, dtype: int64\n",
      "\n",
      "user_id\n",
      "False    8790\n",
      "Name: user_id, dtype: int64\n",
      "\n"
     ]
    },
    {
     "data": {
      "text/html": [
       "<div>\n",
       "<style scoped>\n",
       "    .dataframe tbody tr th:only-of-type {\n",
       "        vertical-align: middle;\n",
       "    }\n",
       "\n",
       "    .dataframe tbody tr th {\n",
       "        vertical-align: top;\n",
       "    }\n",
       "\n",
       "    .dataframe thead th {\n",
       "        text-align: right;\n",
       "    }\n",
       "</style>\n",
       "<table border=\"1\" class=\"dataframe\">\n",
       "  <thead>\n",
       "    <tr style=\"text-align: right;\">\n",
       "      <th></th>\n",
       "      <th>description</th>\n",
       "      <th>timestamp</th>\n",
       "      <th>mdl_user_id</th>\n",
       "      <th>user_id</th>\n",
       "    </tr>\n",
       "  </thead>\n",
       "  <tbody>\n",
       "    <tr>\n",
       "      <th>0</th>\n",
       "      <td>LOGIN AS SRM OK</td>\n",
       "      <td>2021-09-14 12:26:51+00:00</td>\n",
       "      <td>3</td>\n",
       "      <td>134</td>\n",
       "    </tr>\n",
       "    <tr>\n",
       "      <th>1</th>\n",
       "      <td>LOGIN AS SRM OK</td>\n",
       "      <td>2021-10-13 09:54:42+00:00</td>\n",
       "      <td>3</td>\n",
       "      <td>134</td>\n",
       "    </tr>\n",
       "    <tr>\n",
       "      <th>2</th>\n",
       "      <td>LOGIN AS SRM OK</td>\n",
       "      <td>2021-10-13 10:53:33+00:00</td>\n",
       "      <td>3</td>\n",
       "      <td>134</td>\n",
       "    </tr>\n",
       "    <tr>\n",
       "      <th>3</th>\n",
       "      <td>LOGIN AS SRM OK</td>\n",
       "      <td>2021-10-14 13:28:42+00:00</td>\n",
       "      <td>3</td>\n",
       "      <td>134</td>\n",
       "    </tr>\n",
       "    <tr>\n",
       "      <th>4</th>\n",
       "      <td>LOGIN AS SRM OK</td>\n",
       "      <td>2021-10-14 13:30:07+00:00</td>\n",
       "      <td>3</td>\n",
       "      <td>134</td>\n",
       "    </tr>\n",
       "    <tr>\n",
       "      <th>...</th>\n",
       "      <td>...</td>\n",
       "      <td>...</td>\n",
       "      <td>...</td>\n",
       "      <td>...</td>\n",
       "    </tr>\n",
       "    <tr>\n",
       "      <th>8095</th>\n",
       "      <td>Login SRM OK</td>\n",
       "      <td>2021-02-12 15:46:34+00:00</td>\n",
       "      <td>313</td>\n",
       "      <td>287</td>\n",
       "    </tr>\n",
       "    <tr>\n",
       "      <th>8096</th>\n",
       "      <td>Login SRM OK</td>\n",
       "      <td>2021-10-18 07:35:57+00:00</td>\n",
       "      <td>313</td>\n",
       "      <td>287</td>\n",
       "    </tr>\n",
       "    <tr>\n",
       "      <th>8097</th>\n",
       "      <td>Login SRM OK</td>\n",
       "      <td>2021-10-18 11:35:30+00:00</td>\n",
       "      <td>313</td>\n",
       "      <td>287</td>\n",
       "    </tr>\n",
       "    <tr>\n",
       "      <th>8098</th>\n",
       "      <td>Login SRM OK</td>\n",
       "      <td>2021-10-20 07:32:56+00:00</td>\n",
       "      <td>313</td>\n",
       "      <td>287</td>\n",
       "    </tr>\n",
       "    <tr>\n",
       "      <th>8099</th>\n",
       "      <td>Login SRM OK</td>\n",
       "      <td>2021-10-20 12:29:52+00:00</td>\n",
       "      <td>313</td>\n",
       "      <td>287</td>\n",
       "    </tr>\n",
       "  </tbody>\n",
       "</table>\n",
       "<p>8100 rows × 4 columns</p>\n",
       "</div>"
      ],
      "text/plain": [
       "          description                 timestamp mdl_user_id user_id\n",
       "0     LOGIN AS SRM OK 2021-09-14 12:26:51+00:00           3     134\n",
       "1     LOGIN AS SRM OK 2021-10-13 09:54:42+00:00           3     134\n",
       "2     LOGIN AS SRM OK 2021-10-13 10:53:33+00:00           3     134\n",
       "3     LOGIN AS SRM OK 2021-10-14 13:28:42+00:00           3     134\n",
       "4     LOGIN AS SRM OK 2021-10-14 13:30:07+00:00           3     134\n",
       "...               ...                       ...         ...     ...\n",
       "8095     Login SRM OK 2021-02-12 15:46:34+00:00         313     287\n",
       "8096     Login SRM OK 2021-10-18 07:35:57+00:00         313     287\n",
       "8097     Login SRM OK 2021-10-18 11:35:30+00:00         313     287\n",
       "8098     Login SRM OK 2021-10-20 07:32:56+00:00         313     287\n",
       "8099     Login SRM OK 2021-10-20 12:29:52+00:00         313     287\n",
       "\n",
       "[8100 rows x 4 columns]"
      ]
     },
     "execution_count": 480,
     "metadata": {},
     "output_type": "execute_result"
    }
   ],
   "source": [
    "#Accesos\n",
    "fn.identificar_missings(accesos) #ningun valor ausente"
   ]
  },
  {
   "cell_type": "code",
   "execution_count": 487,
   "metadata": {},
   "outputs": [
    {
     "name": "stdout",
     "output_type": "stream",
     "text": [
      "mdl_user_id\n",
      "False    295\n",
      "Name: mdl_user_id, dtype: int64\n",
      "\n",
      "1er acceso\n",
      "False    295\n",
      "Name: 1er acceso, dtype: int64\n",
      "\n",
      "ultimo acceso\n",
      "False    295\n",
      "Name: ultimo acceso, dtype: int64\n",
      "\n"
     ]
    }
   ],
   "source": [
    "#Acceso_1ero_ultimo\n",
    "fn.identificar_missings(acceso_1ero_ultimo)\n",
    "\n",
    "#Los NaN de 1er acceso y ultimo acceso son de las mismas filas, por lo que podemos quitarlas\n",
    "acceso_1ero_ultimo.dropna(subset=[\"1er acceso\"], inplace = True)"
   ]
  },
  {
   "cell_type": "code",
   "execution_count": 488,
   "metadata": {},
   "outputs": [
    {
     "name": "stdout",
     "output_type": "stream",
     "text": [
      "mdl_user_id\n",
      "False    3375\n",
      "Name: mdl_user_id, dtype: int64\n",
      "\n",
      "course_name\n",
      "False    3375\n",
      "Name: course_name, dtype: int64\n",
      "\n",
      "course_id\n",
      "False    3375\n",
      "Name: course_id, dtype: int64\n",
      "\n",
      "category\n",
      "False    3375\n",
      "Name: category, dtype: int64\n",
      "\n",
      "actividad_name\n",
      "False    3371\n",
      "True        4\n",
      "Name: actividad_name, dtype: int64\n",
      "\n",
      "grade\n",
      "False    2097\n",
      "True     1278\n",
      "Name: grade, dtype: int64\n",
      "\n",
      "time\n",
      "False    2112\n",
      "True     1263\n",
      "Name: time, dtype: int64\n",
      "\n"
     ]
    }
   ],
   "source": [
    "#Actividades\n",
    "fn.identificar_missings(actividades)\n",
    "\n",
    "#Eliminamos las filas con NaN en actividad_name, ya que no contienen informacion tampoco de grade y time\n",
    "actividades.dropna(subset=[\"actividad_name\"], inplace = True) \n",
    "\n",
    "#Los valores de las notas no se pueden imputar debido a que se tratan de usuarios que no han comenzado\n",
    "#con el curso, por lo que todavia no tienen ninguna nota.\n",
    "\n",
    "#En cuanto a la ultima variable, la columna time consta de un numero elevado de missings (1331). En este caso, como es logico, \n",
    "#ocurre lo mismo. Aquellos usuarios que no hayan comenzado con la actividad, no tienen la fecha ni la nota correspondiente. \n",
    "#Por ello, no se cree oportuno eliminar todas las intancias y los mantendremos como NaN. (En caso de necesidad, posteriormente\n",
    "#se eliminaran estos missings)"
   ]
  },
  {
   "cell_type": "markdown",
   "metadata": {},
   "source": [
    "### OUTLIERS"
   ]
  },
  {
   "cell_type": "code",
   "execution_count": null,
   "metadata": {},
   "outputs": [],
   "source": [
    "#Usuarios\n",
    "#En esta tabla, no se puede realizar la tecnica para identificar outlier puesto que no se cuenta con ninguna variable cuantitva."
   ]
  },
  {
   "cell_type": "code",
   "execution_count": null,
   "metadata": {},
   "outputs": [],
   "source": [
    "#Tutores_perfil\n",
    "#En esta tabla, no se puede realizar la tecnica para identificar outlier puesto que no se cuenta con ninguna variable cuantitva."
   ]
  },
  {
   "cell_type": "code",
   "execution_count": 489,
   "metadata": {},
   "outputs": [
    {
     "data": {
      "text/html": [
       "<div>\n",
       "<style scoped>\n",
       "    .dataframe tbody tr th:only-of-type {\n",
       "        vertical-align: middle;\n",
       "    }\n",
       "\n",
       "    .dataframe tbody tr th {\n",
       "        vertical-align: top;\n",
       "    }\n",
       "\n",
       "    .dataframe thead th {\n",
       "        text-align: right;\n",
       "    }\n",
       "</style>\n",
       "<table border=\"1\" class=\"dataframe\">\n",
       "  <thead>\n",
       "    <tr style=\"text-align: right;\">\n",
       "      <th></th>\n",
       "      <th>conocimiento_id</th>\n",
       "      <th>conocimiento_name</th>\n",
       "      <th>created_by</th>\n",
       "      <th>categoria_conocimiento_id</th>\n",
       "      <th>categoria_conocimiento_name</th>\n",
       "    </tr>\n",
       "  </thead>\n",
       "  <tbody>\n",
       "    <tr>\n",
       "      <th>count</th>\n",
       "      <td>133</td>\n",
       "      <td>133</td>\n",
       "      <td>133</td>\n",
       "      <td>133</td>\n",
       "      <td>133</td>\n",
       "    </tr>\n",
       "    <tr>\n",
       "      <th>unique</th>\n",
       "      <td>133</td>\n",
       "      <td>117</td>\n",
       "      <td>20</td>\n",
       "      <td>16</td>\n",
       "      <td>16</td>\n",
       "    </tr>\n",
       "    <tr>\n",
       "      <th>top</th>\n",
       "      <td>168</td>\n",
       "      <td>ESTANDARIZACIÓN</td>\n",
       "      <td>135</td>\n",
       "      <td>79</td>\n",
       "      <td>TÉCNICOS/TECNOLÓGICOS ABP</td>\n",
       "    </tr>\n",
       "    <tr>\n",
       "      <th>freq</th>\n",
       "      <td>1</td>\n",
       "      <td>4</td>\n",
       "      <td>40</td>\n",
       "      <td>24</td>\n",
       "      <td>24</td>\n",
       "    </tr>\n",
       "  </tbody>\n",
       "</table>\n",
       "</div>"
      ],
      "text/plain": [
       "        conocimiento_id conocimiento_name  created_by  \\\n",
       "count               133               133         133   \n",
       "unique              133               117          20   \n",
       "top                 168   ESTANDARIZACIÓN         135   \n",
       "freq                  1                 4          40   \n",
       "\n",
       "        categoria_conocimiento_id categoria_conocimiento_name  \n",
       "count                         133                         133  \n",
       "unique                         16                          16  \n",
       "top                            79   TÉCNICOS/TECNOLÓGICOS ABP  \n",
       "freq                           24                          24  "
      ]
     },
     "execution_count": 489,
     "metadata": {},
     "output_type": "execute_result"
    }
   ],
   "source": [
    "#Conocimientos\n",
    "#En esta tabla, no se puede realizar la tecnica para identificar outlier puesto que no se cuenta con ninguna variable cuantitva."
   ]
  },
  {
   "cell_type": "code",
   "execution_count": 495,
   "metadata": {},
   "outputs": [
    {
     "name": "stdout",
     "output_type": "stream",
     "text": [
      "[1.43582832e-01 1.43582832e-01 1.43582832e-01 9.60637516e-02\n",
      " 9.40125683e-02 9.60637516e-02 9.60637516e-02 1.43582832e-01\n",
      " 9.60637516e-02 9.40125683e-02 1.43582832e-01 9.60637516e-02\n",
      " 9.60637516e-02 1.19823292e-01 1.43582832e-01 1.43582832e-01\n",
      " 1.43582832e-01 1.43582832e-01 1.43582832e-01 1.43582832e-01\n",
      " 1.43582832e-01 1.43582832e-01 1.43582832e-01 1.43582832e-01\n",
      " 1.43582832e-01 9.36023316e+00 1.43582832e-01 1.43582832e-01\n",
      " 1.43582832e-01 1.43582832e-01 9.60637516e-02 1.43582832e-01\n",
      " 1.43582832e-01 9.60637516e-02 9.60637516e-02 1.43582832e-01\n",
      " 2.47851316e-02 9.60637516e-02 1.19823292e-01 9.60637516e-02\n",
      " 1.31703062e-01 1.31703062e-01 1.31703062e-01 6.04244416e-02\n",
      " 3.31607968e-01 1.19823292e-01 7.23042116e-02 1.43582832e-01\n",
      " 4.85446716e-02 4.85446716e-02 6.98427916e+00 1.43582832e-01\n",
      " 1.43582832e-01 4.85446716e-02 1.43582832e-01 9.60637516e-02\n",
      " 1.02559165e-03 1.43582832e-01 1.19823292e-01 1.43582832e-01\n",
      " 9.40125683e-02 1.43582832e-01 1.43582832e-01 1.43582832e-01\n",
      " 1.43582832e-01 1.43582832e-01 1.43582832e-01 1.43582832e-01\n",
      " 1.43582832e-01 1.43582832e-01 1.43582832e-01 1.43582832e-01\n",
      " 1.43582832e-01 1.31703062e-01 1.43582832e-01 1.43582832e-01\n",
      " 1.43582832e-01 1.43582832e-01 1.43582832e-01 1.43582832e-01\n",
      " 1.43582832e-01 1.43582832e-01 1.43582832e-01 1.43582832e-01\n",
      " 4.85446716e-02 1.43582832e-01 1.43582832e-01 1.43582832e-01\n",
      " 1.43582832e-01 1.43582832e-01 1.43582832e-01 1.43582832e-01\n",
      " 1.43582832e-01 1.43582832e-01 1.43582832e-01 1.43582832e-01\n",
      " 1.19823292e-01 1.31703062e-01 1.19823292e-01 1.31703062e-01\n",
      " 1.43582832e-01 1.43582832e-01 1.43582832e-01 1.43582832e-01\n",
      " 1.43582832e-01 1.43582832e-01 1.43582832e-01 1.43582832e-01\n",
      " 1.43582832e-01 1.43582832e-01 1.43582832e-01 1.43582832e-01\n",
      " 1.43582832e-01 1.43582832e-01 1.19823292e-01 1.43582832e-01\n",
      " 1.43582832e-01 1.31703062e-01 1.43582832e-01 1.43582832e-01\n",
      " 1.43582832e-01 1.43582832e-01 1.43582832e-01 1.43582832e-01\n",
      " 1.43582832e-01 1.43582832e-01 1.43582832e-01 1.43582832e-01\n",
      " 1.43582832e-01 1.19823292e-01 1.19823292e-01 1.43582832e-01\n",
      " 1.43582832e-01 1.43582832e-01 1.43582832e-01 1.43582832e-01\n",
      " 1.43582832e-01 1.43582832e-01 3.31607968e-01]\n",
      "(array([25, 50], dtype=int64),)\n"
     ]
    },
    {
     "data": {
      "image/png": "[encoded data removed]",
      "text/plain": [
       "<Figure size 432x288 with 1 Axes>"
      ]
     },
     "metadata": {},
     "output_type": "display_data"
    }
   ],
   "source": [
    "#Cursos\n",
    "#En esta tabla, existe una variable cuantitativa (hours). Por lo que se puede analizar si existe algun outlier.\n",
    "sns.boxplot(x=cursos['hours'])#se observan los valores en boxplot.\n",
    " #Utilizaremos la función Z-score definida en la biblioteca scipy para detectar los valores atípicos.\n",
    "z = np.abs(stats.zscore(cursos['hours']))\n",
    "print(z)\n",
    "\n",
    "threshold = 3 #definir un umbral para identificar un valor atípico.\n",
    "print(np.where(z > 3)) # existen dos filas que se identifican como outliers\n",
    "\n",
    "#Las dos filas (25 y 50) identificadas como outliers, se observan y se ve que quizas se trata de un error debido a que tienen un\n",
    "#cero de más.\n",
    "cursos['hours'][25]#se observa el valor correspondiente\n",
    "cursos['hours'][50]#se observa el valor correspondiente\n",
    "\n",
    "cursos['hours'].replace({800: 80,600: 60}, inplace = True)#se quita un cero\n"
   ]
  },
  {
   "cell_type": "code",
   "execution_count": 500,
   "metadata": {},
   "outputs": [],
   "source": [
    "#Programas\n",
    "#En esta tabla, no se puede realizar la tecnica para identificar outlier puesto que no se cuenta con ninguna variable cuantitva."
   ]
  },
  {
   "cell_type": "code",
   "execution_count": 499,
   "metadata": {},
   "outputs": [],
   "source": [
    "#Cursos en programas\n",
    "#En esta tabla, existe una variable cuantitativa (num_periodos). No tiene outliers ya que, como hemos observado en los estadisticos, los valores que toma son 0, 1, 2, o 3"
   ]
  },
  {
   "cell_type": "code",
   "execution_count": 502,
   "metadata": {},
   "outputs": [],
   "source": [
    "#Itinerarios\n",
    "#No hay variables cuantitativas"
   ]
  },
  {
   "cell_type": "code",
   "execution_count": 505,
   "metadata": {},
   "outputs": [
    {
     "name": "stdout",
     "output_type": "stream",
     "text": [
      "(array([ 363, 1320, 1321, 1322, 1323, 1324, 1325, 1326, 1327, 1328, 1836,\n",
      "       2376, 3002, 3378, 3379, 3380, 3634, 3635, 3636, 3637, 3638, 3639,\n",
      "       3640, 3641, 3642, 3648, 3649], dtype=int64),)\n"
     ]
    },
    {
     "data": {
      "text/plain": [
       "10.0"
      ]
     },
     "execution_count": 505,
     "metadata": {},
     "output_type": "execute_result"
    },
    {
     "data": {
      "image/png": "[encoded data removed]",
      "text/plain": [
       "<Figure size 432x288 with 1 Axes>"
      ]
     },
     "metadata": {},
     "output_type": "display_data"
    }
   ],
   "source": [
    "#Notas_cursos\n",
    "notas_cursos.describe() #como hemos visto antes, los valores de grade superan el 10\n",
    "\n",
    "sns.boxplot(x=notas_cursos['grade'])#se observan los valores en boxplot.\n",
    "z = np.abs(stats.zscore(notas_cursos['grade']))\n",
    "\n",
    "threshold = 3 #definir un umbral para identificar un valor atípico.\n",
    "print(np.where(z > 3)) # existen 27 filas con umbral mayor que 3\n",
    "\n",
    "#notas mayores que 10, se dividen por 10 y se obtiene la nota real\n",
    "notas_cursos.loc[notas_cursos['grade'] > 10, 'grade'] = notas_cursos['grade']/10 #transformacion de la nota\n",
    "notas_cursos['grade'].max()#se observa que el valor maximo es 10."
   ]
  },
  {
   "cell_type": "code",
   "execution_count": 507,
   "metadata": {},
   "outputs": [],
   "source": [
    "#Roles\n",
    "#No hay variables cuantitativas"
   ]
  },
  {
   "cell_type": "code",
   "execution_count": 508,
   "metadata": {},
   "outputs": [],
   "source": [
    "#Plantas\n",
    "#No hay variables cuantitativas"
   ]
  },
  {
   "cell_type": "code",
   "execution_count": null,
   "metadata": {},
   "outputs": [],
   "source": [
    "#Accesos\n",
    "#No hay variables cuantitativas"
   ]
  },
  {
   "cell_type": "code",
   "execution_count": 513,
   "metadata": {},
   "outputs": [],
   "source": [
    "#Acceso_1ero_ultimo\n",
    "#No hay variables cuantitativas"
   ]
  },
  {
   "cell_type": "code",
   "execution_count": 518,
   "metadata": {},
   "outputs": [
    {
     "name": "stdout",
     "output_type": "stream",
     "text": [
      "(array([], dtype=int64),)\n"
     ]
    },
    {
     "name": "stderr",
     "output_type": "stream",
     "text": [
      "<ipython-input-518-4392e306ae68>:8: RuntimeWarning: invalid value encountered in greater\n",
      "  print(np.where(z > 3)) #se observa que contamos con algunos outliers\n"
     ]
    },
    {
     "data": {
      "text/plain": [
       "10.0"
      ]
     },
     "execution_count": 518,
     "metadata": {},
     "output_type": "execute_result"
    },
    {
     "data": {
      "image/png": "[encoded data removed]",
      "text/plain": [
       "<Figure size 432x288 with 1 Axes>"
      ]
     },
     "metadata": {},
     "output_type": "display_data"
    }
   ],
   "source": [
    "#Actividades\n",
    "#tiene una variable cualitativa: grade\n",
    "actividades.describe() #notas por encima de 10\n",
    "\n",
    "sns.boxplot(x=actividades['grade'])#se observan los valores en boxplot.\n",
    "z = np.abs(stats.zscore(actividades['grade']))\n",
    "threshold = 3 #definir un umbral para identificar un valor atípico.\n",
    "print(np.where(z > 3)) #se observa que contamos con algunos outliers\n",
    "\n",
    "#notas mayores que 10, se dividen por 10 y se obtiene la nota real\n",
    "actividades.loc[actividades['grade'] > 10, 'grade'] = actividades['grade']/10\n",
    "actividades['grade'].max()#se observa que el valor maximo es 10."
   ]
  }
 ],
 "metadata": {
  "interpreter": {
   "hash": "72a6079d73eafc0590316d3b40a11fbcffba9212a851362991a80da4c423997a"
  },
  "kernelspec": {
   "display_name": "Python 3.9.7 64-bit",
   "language": "python",
   "name": "python3"
  },
  "language_info": {
   "codemirror_mode": {
    "name": "ipython",
    "version": 3
   },
   "file_extension": ".py",
   "mimetype": "text/x-python",
   "name": "python",
   "nbconvert_exporter": "python",
   "pygments_lexer": "ipython3",
   "version": "3.8.3"
  },
  "orig_nbformat": 4
 },
 "nbformat": 4,
 "nbformat_minor": 2
}
